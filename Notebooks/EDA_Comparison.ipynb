{
 "cells": [
  {
   "cell_type": "raw",
   "id": "dd7a62ba-6de8-4ade-b4d9-d7e762540c99",
   "metadata": {},
   "source": [
    "---\n",
    "author: Bhavana Jonnalagadda\n",
    "---"
   ]
  },
  {
   "cell_type": "markdown",
   "id": "f0a23741-713d-4f80-92ce-8977b010dca5",
   "metadata": {},
   "source": [
    "# Werewolf Among Us: Humans vs LLM Comparison\n",
    "\n",
    "EDA and comparison of the datasets"
   ]
  },
  {
   "cell_type": "code",
   "execution_count": 108,
   "id": "11a9deb6-25c6-4e9f-8337-9fe325eacbef",
   "metadata": {
    "execution": {
     "iopub.execute_input": "2025-04-23T05:47:03.623366Z",
     "iopub.status.busy": "2025-04-23T05:47:03.622993Z",
     "iopub.status.idle": "2025-04-23T05:47:03.628877Z",
     "shell.execute_reply": "2025-04-23T05:47:03.627847Z",
     "shell.execute_reply.started": "2025-04-23T05:47:03.623337Z"
    }
   },
   "outputs": [],
   "source": [
    "import ast\n",
    "import os\n",
    "import json\n",
    "import random \n",
    "from collections import Counter\n",
    "\n",
    "import pandas as pd\n",
    "import numpy as np\n",
    "\n",
    "# Viz\n",
    "import plotly.express as px\n",
    "import plotly.graph_objects as go\n",
    "import plotly.io as pio\n",
    "from plotly.subplots import make_subplots\n",
    "# pio.renderers.default = \"notebook+plotly_mimetype+png\"\n",
    "# For some reason, the correct setting to get the plots to show up in Quarto HTML?\n",
    "pio.renderers.default = \"plotly_mimetype+notebook_connected+png\""
   ]
  },
  {
   "cell_type": "markdown",
   "id": "f67ed8d1-4a9a-4b3e-a57c-cac11cafed93",
   "metadata": {},
   "source": [
    "## Load data"
   ]
  },
  {
   "cell_type": "code",
   "execution_count": 44,
   "id": "d2d3f84a-0415-432f-ab11-94130ca1ecd5",
   "metadata": {
    "execution": {
     "iopub.execute_input": "2025-04-23T03:25:13.302356Z",
     "iopub.status.busy": "2025-04-23T03:25:13.301978Z",
     "iopub.status.idle": "2025-04-23T03:25:13.649991Z",
     "shell.execute_reply": "2025-04-23T03:25:13.649124Z",
     "shell.execute_reply.started": "2025-04-23T03:25:13.302330Z"
    }
   },
   "outputs": [],
   "source": [
    "hum_datapath = os.path.normpath(\"../Data/Output/EDA_WAU\")\n",
    "llm_datapath = os.path.normpath(\"../Data/Output/EDA_WA\")\n",
    "\n",
    "hum_rounds_df = pd.read_csv(os.path.join(hum_datapath, \"allrounds.csv\"), index_col=0)\n",
    "hum_text_df = pd.read_csv(os.path.join(hum_datapath, \"alltext.csv\"), index_col=0)\n",
    "hum_text_df[\"strategy\"] = hum_text_df[\"strategy\"].apply(ast.literal_eval)\n",
    "\n",
    "llm_rounds_df = pd.read_csv(os.path.join(llm_datapath, \"allrounds.csv\"), index_col=0)\n",
    "llm_rounds_df[\"players\"] = llm_rounds_df[\"players\"].apply(ast.literal_eval)\n",
    "llm_rounds_df[\"roles\"] = llm_rounds_df[\"roles\"].apply(ast.literal_eval)\n",
    "\n",
    "llm_text_df = pd.read_csv(os.path.join(llm_datapath, \"alltext.csv\"), index_col=0)\n",
    "llm_text_df[\"players\"] = llm_text_df[\"players\"].apply(ast.literal_eval)\n",
    "llm_text_df[\"roles\"] = llm_text_df[\"roles\"].apply(ast.literal_eval)\n",
    "# llm_text_df[\"votes\"] = llm_text_df[\"votes\"].apply(ast.literal_eval, )\n",
    "llm_text_df[\"strategy\"] = llm_text_df[\"strategy\"].apply(ast.literal_eval)"
   ]
  },
  {
   "cell_type": "code",
   "execution_count": 45,
   "id": "e5337449-ea3b-4666-a9be-feec700862e4",
   "metadata": {
    "execution": {
     "iopub.execute_input": "2025-04-23T03:25:15.444886Z",
     "iopub.status.busy": "2025-04-23T03:25:15.444458Z",
     "iopub.status.idle": "2025-04-23T03:25:15.458791Z",
     "shell.execute_reply": "2025-04-23T03:25:15.457692Z",
     "shell.execute_reply.started": "2025-04-23T03:25:15.444858Z"
    }
   },
   "outputs": [
    {
     "data": {
      "text/html": [
       "<div>\n",
       "<style scoped>\n",
       "    .dataframe tbody tr th:only-of-type {\n",
       "        vertical-align: middle;\n",
       "    }\n",
       "\n",
       "    .dataframe tbody tr th {\n",
       "        vertical-align: top;\n",
       "    }\n",
       "\n",
       "    .dataframe thead th {\n",
       "        text-align: right;\n",
       "    }\n",
       "</style>\n",
       "<table border=\"1\" class=\"dataframe\">\n",
       "  <thead>\n",
       "    <tr style=\"text-align: right;\">\n",
       "      <th></th>\n",
       "      <th>game_id</th>\n",
       "      <th>speaker</th>\n",
       "      <th>source</th>\n",
       "      <th>voted_for</th>\n",
       "      <th>role</th>\n",
       "      <th>votes_target</th>\n",
       "      <th>winner</th>\n",
       "    </tr>\n",
       "  </thead>\n",
       "  <tbody>\n",
       "    <tr>\n",
       "      <th>0</th>\n",
       "      <td>game7 - 62c4bc58-3776-4791-ac30-4c9ca5619503</td>\n",
       "      <td>kevin</td>\n",
       "      <td>Ego4D</td>\n",
       "      <td>jessica</td>\n",
       "      <td>Seer</td>\n",
       "      <td>jessica</td>\n",
       "      <td>Villagers</td>\n",
       "    </tr>\n",
       "    <tr>\n",
       "      <th>1</th>\n",
       "      <td>game7 - 62c4bc58-3776-4791-ac30-4c9ca5619503</td>\n",
       "      <td>kaelan</td>\n",
       "      <td>Ego4D</td>\n",
       "      <td>jessica</td>\n",
       "      <td>Center card</td>\n",
       "      <td>jessica</td>\n",
       "      <td>Villagers</td>\n",
       "    </tr>\n",
       "    <tr>\n",
       "      <th>2</th>\n",
       "      <td>game7 - 62c4bc58-3776-4791-ac30-4c9ca5619503</td>\n",
       "      <td>jessica</td>\n",
       "      <td>Ego4D</td>\n",
       "      <td>NaN</td>\n",
       "      <td>Werewolf</td>\n",
       "      <td>jessica</td>\n",
       "      <td>Villagers</td>\n",
       "    </tr>\n",
       "    <tr>\n",
       "      <th>3</th>\n",
       "      <td>game7 - 62c4bc58-3776-4791-ac30-4c9ca5619503</td>\n",
       "      <td>daniel</td>\n",
       "      <td>Ego4D</td>\n",
       "      <td>daniel</td>\n",
       "      <td>Werewolf</td>\n",
       "      <td>jessica</td>\n",
       "      <td>Villagers</td>\n",
       "    </tr>\n",
       "    <tr>\n",
       "      <th>4</th>\n",
       "      <td>game9 - 62c4bc58-3776-4791-ac30-4c9ca5619503</td>\n",
       "      <td>kevin</td>\n",
       "      <td>Ego4D</td>\n",
       "      <td>NaN</td>\n",
       "      <td>Troublemaker</td>\n",
       "      <td>NaN</td>\n",
       "      <td>Werewolves</td>\n",
       "    </tr>\n",
       "    <tr>\n",
       "      <th>...</th>\n",
       "      <td>...</td>\n",
       "      <td>...</td>\n",
       "      <td>...</td>\n",
       "      <td>...</td>\n",
       "      <td>...</td>\n",
       "      <td>...</td>\n",
       "      <td>...</td>\n",
       "    </tr>\n",
       "    <tr>\n",
       "      <th>739</th>\n",
       "      <td>game5 - Retrovision  ONE NIGHT ULTIMATE WEREWO...</td>\n",
       "      <td>justin</td>\n",
       "      <td>Youtube</td>\n",
       "      <td>eric</td>\n",
       "      <td>Werewolf</td>\n",
       "      <td>eric</td>\n",
       "      <td>Werewolves</td>\n",
       "    </tr>\n",
       "    <tr>\n",
       "      <th>740</th>\n",
       "      <td>game5 - Retrovision  ONE NIGHT ULTIMATE WEREWO...</td>\n",
       "      <td>eric</td>\n",
       "      <td>Youtube</td>\n",
       "      <td>mitchell</td>\n",
       "      <td>Tanner</td>\n",
       "      <td>eric</td>\n",
       "      <td>Werewolves</td>\n",
       "    </tr>\n",
       "    <tr>\n",
       "      <th>741</th>\n",
       "      <td>game5 - Retrovision  ONE NIGHT ULTIMATE WEREWO...</td>\n",
       "      <td>paul</td>\n",
       "      <td>Youtube</td>\n",
       "      <td>mitchell</td>\n",
       "      <td>Villager</td>\n",
       "      <td>eric</td>\n",
       "      <td>Werewolves</td>\n",
       "    </tr>\n",
       "    <tr>\n",
       "      <th>742</th>\n",
       "      <td>game5 - Retrovision  ONE NIGHT ULTIMATE WEREWO...</td>\n",
       "      <td>mitchell</td>\n",
       "      <td>Youtube</td>\n",
       "      <td>eric</td>\n",
       "      <td>Troublemaker</td>\n",
       "      <td>eric</td>\n",
       "      <td>Werewolves</td>\n",
       "    </tr>\n",
       "    <tr>\n",
       "      <th>743</th>\n",
       "      <td>game5 - Retrovision  ONE NIGHT ULTIMATE WEREWO...</td>\n",
       "      <td>mike</td>\n",
       "      <td>Youtube</td>\n",
       "      <td>eric</td>\n",
       "      <td>Werewolf</td>\n",
       "      <td>eric</td>\n",
       "      <td>Werewolves</td>\n",
       "    </tr>\n",
       "  </tbody>\n",
       "</table>\n",
       "<p>744 rows × 7 columns</p>\n",
       "</div>"
      ],
      "text/plain": [
       "                                               game_id   speaker   source  \\\n",
       "0         game7 - 62c4bc58-3776-4791-ac30-4c9ca5619503     kevin    Ego4D   \n",
       "1         game7 - 62c4bc58-3776-4791-ac30-4c9ca5619503    kaelan    Ego4D   \n",
       "2         game7 - 62c4bc58-3776-4791-ac30-4c9ca5619503   jessica    Ego4D   \n",
       "3         game7 - 62c4bc58-3776-4791-ac30-4c9ca5619503    daniel    Ego4D   \n",
       "4         game9 - 62c4bc58-3776-4791-ac30-4c9ca5619503     kevin    Ego4D   \n",
       "..                                                 ...       ...      ...   \n",
       "739  game5 - Retrovision  ONE NIGHT ULTIMATE WEREWO...    justin  Youtube   \n",
       "740  game5 - Retrovision  ONE NIGHT ULTIMATE WEREWO...      eric  Youtube   \n",
       "741  game5 - Retrovision  ONE NIGHT ULTIMATE WEREWO...      paul  Youtube   \n",
       "742  game5 - Retrovision  ONE NIGHT ULTIMATE WEREWO...  mitchell  Youtube   \n",
       "743  game5 - Retrovision  ONE NIGHT ULTIMATE WEREWO...      mike  Youtube   \n",
       "\n",
       "    voted_for          role votes_target      winner  \n",
       "0     jessica          Seer      jessica   Villagers  \n",
       "1     jessica   Center card      jessica   Villagers  \n",
       "2         NaN      Werewolf      jessica   Villagers  \n",
       "3      daniel      Werewolf      jessica   Villagers  \n",
       "4         NaN  Troublemaker          NaN  Werewolves  \n",
       "..        ...           ...          ...         ...  \n",
       "739      eric      Werewolf         eric  Werewolves  \n",
       "740  mitchell        Tanner         eric  Werewolves  \n",
       "741  mitchell      Villager         eric  Werewolves  \n",
       "742      eric  Troublemaker         eric  Werewolves  \n",
       "743      eric      Werewolf         eric  Werewolves  \n",
       "\n",
       "[744 rows x 7 columns]"
      ]
     },
     "execution_count": 45,
     "metadata": {},
     "output_type": "execute_result"
    }
   ],
   "source": [
    "hum_rounds_df"
   ]
  },
  {
   "cell_type": "code",
   "execution_count": 46,
   "id": "f629690f-fd5f-4339-b2a2-8a39ea17b955",
   "metadata": {
    "execution": {
     "iopub.execute_input": "2025-04-23T03:25:18.045164Z",
     "iopub.status.busy": "2025-04-23T03:25:18.044764Z",
     "iopub.status.idle": "2025-04-23T03:25:18.086540Z",
     "shell.execute_reply": "2025-04-23T03:25:18.085662Z",
     "shell.execute_reply.started": "2025-04-23T03:25:18.045133Z"
    }
   },
   "outputs": [
    {
     "data": {
      "text/html": [
       "<div>\n",
       "<style scoped>\n",
       "    .dataframe tbody tr th:only-of-type {\n",
       "        vertical-align: middle;\n",
       "    }\n",
       "\n",
       "    .dataframe tbody tr th {\n",
       "        vertical-align: top;\n",
       "    }\n",
       "\n",
       "    .dataframe thead th {\n",
       "        text-align: right;\n",
       "    }\n",
       "</style>\n",
       "<table border=\"1\" class=\"dataframe\">\n",
       "  <thead>\n",
       "    <tr style=\"text-align: right;\">\n",
       "      <th></th>\n",
       "      <th>players</th>\n",
       "      <th>eliminated</th>\n",
       "      <th>unmasked</th>\n",
       "      <th>protected</th>\n",
       "      <th>exiled</th>\n",
       "      <th>success</th>\n",
       "      <th>game_id</th>\n",
       "      <th>winner</th>\n",
       "      <th>round</th>\n",
       "      <th>roles</th>\n",
       "    </tr>\n",
       "  </thead>\n",
       "  <tbody>\n",
       "    <tr>\n",
       "      <th>0</th>\n",
       "      <td>[Harold, Will, Sam, Jackson, Hayley, Jacob, Ma...</td>\n",
       "      <td>Dan</td>\n",
       "      <td>Will</td>\n",
       "      <td>Hayley</td>\n",
       "      <td>NaN</td>\n",
       "      <td>True</td>\n",
       "      <td>861</td>\n",
       "      <td>Werewolves</td>\n",
       "      <td>0</td>\n",
       "      <td>[Villager, Villager, Villager, Villager, Werew...</td>\n",
       "    </tr>\n",
       "    <tr>\n",
       "      <th>1</th>\n",
       "      <td>[Harold, Sam, Jackson, Hayley, Jacob, Mason]</td>\n",
       "      <td>Will</td>\n",
       "      <td>NaN</td>\n",
       "      <td>Sam</td>\n",
       "      <td>NaN</td>\n",
       "      <td>True</td>\n",
       "      <td>861</td>\n",
       "      <td>Werewolves</td>\n",
       "      <td>1</td>\n",
       "      <td>[Villager, Villager, Villager, Werewolf, Werew...</td>\n",
       "    </tr>\n",
       "    <tr>\n",
       "      <th>2</th>\n",
       "      <td>[Sam, Hayley, Jacob, Mason]</td>\n",
       "      <td>Harold</td>\n",
       "      <td>NaN</td>\n",
       "      <td>Sam</td>\n",
       "      <td>Jackson</td>\n",
       "      <td>True</td>\n",
       "      <td>861</td>\n",
       "      <td>Werewolves</td>\n",
       "      <td>2</td>\n",
       "      <td>[Villager, Werewolf, Werewolf, Doctor]</td>\n",
       "    </tr>\n",
       "    <tr>\n",
       "      <th>3</th>\n",
       "      <td>[Tyler, Ginger, Jackson, Leah, Hayley, Sam, Is...</td>\n",
       "      <td>Dan</td>\n",
       "      <td>Dan</td>\n",
       "      <td>Ginger</td>\n",
       "      <td>NaN</td>\n",
       "      <td>True</td>\n",
       "      <td>577</td>\n",
       "      <td>Werewolves</td>\n",
       "      <td>0</td>\n",
       "      <td>[Villager, Villager, Villager, Werewolf, Werew...</td>\n",
       "    </tr>\n",
       "    <tr>\n",
       "      <th>4</th>\n",
       "      <td>[Tyler, Ginger, Jackson, Leah, Hayley, Sam]</td>\n",
       "      <td>Isaac</td>\n",
       "      <td>Tyler</td>\n",
       "      <td>Tyler</td>\n",
       "      <td>NaN</td>\n",
       "      <td>True</td>\n",
       "      <td>577</td>\n",
       "      <td>Werewolves</td>\n",
       "      <td>1</td>\n",
       "      <td>[Villager, Villager, Villager, Werewolf, Werew...</td>\n",
       "    </tr>\n",
       "    <tr>\n",
       "      <th>5</th>\n",
       "      <td>[Tyler, Ginger, Leah, Hayley, Sam]</td>\n",
       "      <td>Jackson</td>\n",
       "      <td>NaN</td>\n",
       "      <td>Tyler</td>\n",
       "      <td>NaN</td>\n",
       "      <td>True</td>\n",
       "      <td>577</td>\n",
       "      <td>Werewolves</td>\n",
       "      <td>2</td>\n",
       "      <td>[Villager, Villager, Werewolf, Werewolf, Doctor]</td>\n",
       "    </tr>\n",
       "    <tr>\n",
       "      <th>6</th>\n",
       "      <td>[Tyler, Ginger, Leah, Hayley]</td>\n",
       "      <td>Sam</td>\n",
       "      <td>NaN</td>\n",
       "      <td>Leah</td>\n",
       "      <td>NaN</td>\n",
       "      <td>True</td>\n",
       "      <td>577</td>\n",
       "      <td>Werewolves</td>\n",
       "      <td>3</td>\n",
       "      <td>[Villager, Villager, Werewolf, Werewolf]</td>\n",
       "    </tr>\n",
       "    <tr>\n",
       "      <th>7</th>\n",
       "      <td>[David, Bert, Jacob, Harold, Hayley, Mason, Will]</td>\n",
       "      <td>Scott</td>\n",
       "      <td>Jacob</td>\n",
       "      <td>David</td>\n",
       "      <td>NaN</td>\n",
       "      <td>True</td>\n",
       "      <td>704</td>\n",
       "      <td>Villagers</td>\n",
       "      <td>0</td>\n",
       "      <td>[Villager, Villager, Villager, Werewolf, Werew...</td>\n",
       "    </tr>\n",
       "    <tr>\n",
       "      <th>8</th>\n",
       "      <td>[David, Bert, Jacob, Harold, Mason, Will]</td>\n",
       "      <td>Will</td>\n",
       "      <td>Hayley</td>\n",
       "      <td>Will</td>\n",
       "      <td>Hayley</td>\n",
       "      <td>True</td>\n",
       "      <td>704</td>\n",
       "      <td>Villagers</td>\n",
       "      <td>1</td>\n",
       "      <td>[Villager, Villager, Villager, Werewolf, Docto...</td>\n",
       "    </tr>\n",
       "    <tr>\n",
       "      <th>9</th>\n",
       "      <td>[David, Bert, Jacob, Will]</td>\n",
       "      <td>Mason</td>\n",
       "      <td>David</td>\n",
       "      <td>David</td>\n",
       "      <td>Harold</td>\n",
       "      <td>True</td>\n",
       "      <td>704</td>\n",
       "      <td>Villagers</td>\n",
       "      <td>2</td>\n",
       "      <td>[Villager, Villager, Villager, Seer]</td>\n",
       "    </tr>\n",
       "    <tr>\n",
       "      <th>10</th>\n",
       "      <td>[Jackson, Harold, Bert, Hayley, Mason, Will]</td>\n",
       "      <td>Dan</td>\n",
       "      <td>Mason</td>\n",
       "      <td>Hayley</td>\n",
       "      <td>Scott</td>\n",
       "      <td>True</td>\n",
       "      <td>45</td>\n",
       "      <td>Villagers</td>\n",
       "      <td>0</td>\n",
       "      <td>[Villager, Villager, Villager, Werewolf, Docto...</td>\n",
       "    </tr>\n",
       "    <tr>\n",
       "      <th>11</th>\n",
       "      <td>[Jackson, Bert, Mason, Will]</td>\n",
       "      <td>Harold</td>\n",
       "      <td>Bert</td>\n",
       "      <td>Hayley</td>\n",
       "      <td>Hayley</td>\n",
       "      <td>True</td>\n",
       "      <td>45</td>\n",
       "      <td>Villagers</td>\n",
       "      <td>1</td>\n",
       "      <td>[Villager, Villager, Doctor, Seer]</td>\n",
       "    </tr>\n",
       "    <tr>\n",
       "      <th>12</th>\n",
       "      <td>[Jacob, Paul, Will, Mason, Tyler, Dan]</td>\n",
       "      <td>Jackson</td>\n",
       "      <td>Will</td>\n",
       "      <td>Mason</td>\n",
       "      <td>Sam</td>\n",
       "      <td>True</td>\n",
       "      <td>227</td>\n",
       "      <td>Werewolves</td>\n",
       "      <td>0</td>\n",
       "      <td>[Villager, Villager, Villager, Villager, Werew...</td>\n",
       "    </tr>\n",
       "    <tr>\n",
       "      <th>13</th>\n",
       "      <td>[Paul, Will, Mason, Tyler, Dan]</td>\n",
       "      <td>Jacob</td>\n",
       "      <td>NaN</td>\n",
       "      <td>NaN</td>\n",
       "      <td>NaN</td>\n",
       "      <td>True</td>\n",
       "      <td>227</td>\n",
       "      <td>Werewolves</td>\n",
       "      <td>1</td>\n",
       "      <td>[Villager, Villager, Villager, Werewolf, Werew...</td>\n",
       "    </tr>\n",
       "    <tr>\n",
       "      <th>14</th>\n",
       "      <td>[Paul, Mason, Tyler, Dan]</td>\n",
       "      <td>Will</td>\n",
       "      <td>NaN</td>\n",
       "      <td>NaN</td>\n",
       "      <td>NaN</td>\n",
       "      <td>True</td>\n",
       "      <td>227</td>\n",
       "      <td>Werewolves</td>\n",
       "      <td>2</td>\n",
       "      <td>[Villager, Villager, Werewolf, Werewolf]</td>\n",
       "    </tr>\n",
       "    <tr>\n",
       "      <th>15</th>\n",
       "      <td>[Scott, Derek, Harold, Isaac, Will, Hayley]</td>\n",
       "      <td>Sam</td>\n",
       "      <td>Scott</td>\n",
       "      <td>Will</td>\n",
       "      <td>Jacob</td>\n",
       "      <td>True</td>\n",
       "      <td>289</td>\n",
       "      <td>Villagers</td>\n",
       "      <td>0</td>\n",
       "      <td>[Villager, Villager, Villager, Werewolf, Docto...</td>\n",
       "    </tr>\n",
       "    <tr>\n",
       "      <th>16</th>\n",
       "      <td>[Scott, Derek, Harold, Will]</td>\n",
       "      <td>Hayley</td>\n",
       "      <td>Isaac</td>\n",
       "      <td>Isaac</td>\n",
       "      <td>Isaac</td>\n",
       "      <td>True</td>\n",
       "      <td>289</td>\n",
       "      <td>Villagers</td>\n",
       "      <td>1</td>\n",
       "      <td>[Villager, Villager, Villager, Doctor]</td>\n",
       "    </tr>\n",
       "    <tr>\n",
       "      <th>17</th>\n",
       "      <td>[Leah, Isaac, Paul, David, Ginger, Harold]</td>\n",
       "      <td>Scott</td>\n",
       "      <td>Jackson</td>\n",
       "      <td>Paul</td>\n",
       "      <td>Jackson</td>\n",
       "      <td>True</td>\n",
       "      <td>79</td>\n",
       "      <td>Villagers</td>\n",
       "      <td>0</td>\n",
       "      <td>[Villager, Villager, Villager, Werewolf, Docto...</td>\n",
       "    </tr>\n",
       "    <tr>\n",
       "      <th>18</th>\n",
       "      <td>[Isaac, Paul, Ginger, Harold]</td>\n",
       "      <td>Leah</td>\n",
       "      <td>Paul</td>\n",
       "      <td>Harold</td>\n",
       "      <td>David</td>\n",
       "      <td>True</td>\n",
       "      <td>79</td>\n",
       "      <td>Villagers</td>\n",
       "      <td>1</td>\n",
       "      <td>[Villager, Villager, Doctor, Seer]</td>\n",
       "    </tr>\n",
       "    <tr>\n",
       "      <th>19</th>\n",
       "      <td>[Derek, Dan, Jackson, Jacob, Sam, Leah, Paul]</td>\n",
       "      <td>Hayley</td>\n",
       "      <td>Hayley</td>\n",
       "      <td>Leah</td>\n",
       "      <td>NaN</td>\n",
       "      <td>True</td>\n",
       "      <td>232</td>\n",
       "      <td>Werewolves</td>\n",
       "      <td>0</td>\n",
       "      <td>[Villager, Villager, Villager, Villager, Werew...</td>\n",
       "    </tr>\n",
       "    <tr>\n",
       "      <th>20</th>\n",
       "      <td>[Derek, Dan, Jackson, Jacob, Leah]</td>\n",
       "      <td>Paul</td>\n",
       "      <td>Sam</td>\n",
       "      <td>NaN</td>\n",
       "      <td>Sam</td>\n",
       "      <td>True</td>\n",
       "      <td>232</td>\n",
       "      <td>Werewolves</td>\n",
       "      <td>1</td>\n",
       "      <td>[Villager, Villager, Villager, Villager, Werew...</td>\n",
       "    </tr>\n",
       "    <tr>\n",
       "      <th>21</th>\n",
       "      <td>[Derek, Dan, Jacob, Leah]</td>\n",
       "      <td>Jackson</td>\n",
       "      <td>NaN</td>\n",
       "      <td>NaN</td>\n",
       "      <td>NaN</td>\n",
       "      <td>True</td>\n",
       "      <td>232</td>\n",
       "      <td>Werewolves</td>\n",
       "      <td>2</td>\n",
       "      <td>[Villager, Villager, Villager, Werewolf]</td>\n",
       "    </tr>\n",
       "    <tr>\n",
       "      <th>22</th>\n",
       "      <td>[Dan, Leah]</td>\n",
       "      <td>Derek</td>\n",
       "      <td>NaN</td>\n",
       "      <td>NaN</td>\n",
       "      <td>Jacob</td>\n",
       "      <td>True</td>\n",
       "      <td>232</td>\n",
       "      <td>Werewolves</td>\n",
       "      <td>3</td>\n",
       "      <td>[Villager, Werewolf]</td>\n",
       "    </tr>\n",
       "    <tr>\n",
       "      <th>23</th>\n",
       "      <td>[Dan, Hayley, Mason, Scott, Will, Jackson]</td>\n",
       "      <td>Bert</td>\n",
       "      <td>Will</td>\n",
       "      <td>Mason</td>\n",
       "      <td>Ginger</td>\n",
       "      <td>True</td>\n",
       "      <td>101</td>\n",
       "      <td>Werewolves</td>\n",
       "      <td>0</td>\n",
       "      <td>[Villager, Villager, Villager, Werewolf, Werew...</td>\n",
       "    </tr>\n",
       "    <tr>\n",
       "      <th>24</th>\n",
       "      <td>[Dan, Hayley, Mason, Scott, Jackson]</td>\n",
       "      <td>Mason</td>\n",
       "      <td>NaN</td>\n",
       "      <td>Mason</td>\n",
       "      <td>Will</td>\n",
       "      <td>True</td>\n",
       "      <td>101</td>\n",
       "      <td>Werewolves</td>\n",
       "      <td>1</td>\n",
       "      <td>[Villager, Villager, Villager, Werewolf, Doctor]</td>\n",
       "    </tr>\n",
       "    <tr>\n",
       "      <th>25</th>\n",
       "      <td>[Dan, Mason, Scott]</td>\n",
       "      <td>Jackson</td>\n",
       "      <td>NaN</td>\n",
       "      <td>Hayley</td>\n",
       "      <td>Hayley</td>\n",
       "      <td>True</td>\n",
       "      <td>101</td>\n",
       "      <td>Werewolves</td>\n",
       "      <td>2</td>\n",
       "      <td>[Villager, Villager, Werewolf]</td>\n",
       "    </tr>\n",
       "    <tr>\n",
       "      <th>26</th>\n",
       "      <td>[Mason, Scott]</td>\n",
       "      <td>Dan</td>\n",
       "      <td>NaN</td>\n",
       "      <td>NaN</td>\n",
       "      <td>NaN</td>\n",
       "      <td>True</td>\n",
       "      <td>101</td>\n",
       "      <td>Werewolves</td>\n",
       "      <td>3</td>\n",
       "      <td>[Villager, Werewolf]</td>\n",
       "    </tr>\n",
       "    <tr>\n",
       "      <th>27</th>\n",
       "      <td>[Scott, Jacob, Tyler, Ginger, Mason, David, Ha...</td>\n",
       "      <td>Harold</td>\n",
       "      <td>Harold</td>\n",
       "      <td>Ginger</td>\n",
       "      <td>Will</td>\n",
       "      <td>True</td>\n",
       "      <td>277</td>\n",
       "      <td>Villagers</td>\n",
       "      <td>0</td>\n",
       "      <td>[Villager, Villager, Villager, Villager, Werew...</td>\n",
       "    </tr>\n",
       "    <tr>\n",
       "      <th>28</th>\n",
       "      <td>[Scott, Jacob, Tyler, Mason, David, Hayley]</td>\n",
       "      <td>Ginger</td>\n",
       "      <td>Mason</td>\n",
       "      <td>Hayley</td>\n",
       "      <td>Paul</td>\n",
       "      <td>True</td>\n",
       "      <td>277</td>\n",
       "      <td>Villagers</td>\n",
       "      <td>1</td>\n",
       "      <td>[Villager, Villager, Villager, Werewolf, Werew...</td>\n",
       "    </tr>\n",
       "    <tr>\n",
       "      <th>29</th>\n",
       "      <td>[Scott, Tyler, David, Hayley]</td>\n",
       "      <td>Jacob</td>\n",
       "      <td>NaN</td>\n",
       "      <td>Hayley</td>\n",
       "      <td>Mason</td>\n",
       "      <td>True</td>\n",
       "      <td>277</td>\n",
       "      <td>Villagers</td>\n",
       "      <td>2</td>\n",
       "      <td>[Villager, Villager, Werewolf, Doctor]</td>\n",
       "    </tr>\n",
       "    <tr>\n",
       "      <th>30</th>\n",
       "      <td>[Scott, Tyler, David, Hayley]</td>\n",
       "      <td>Scott</td>\n",
       "      <td>NaN</td>\n",
       "      <td>Scott</td>\n",
       "      <td>NaN</td>\n",
       "      <td>True</td>\n",
       "      <td>277</td>\n",
       "      <td>Villagers</td>\n",
       "      <td>3</td>\n",
       "      <td>[Villager, Villager, Werewolf, Doctor]</td>\n",
       "    </tr>\n",
       "    <tr>\n",
       "      <th>31</th>\n",
       "      <td>[Scott, Tyler, David, Hayley]</td>\n",
       "      <td>Hayley</td>\n",
       "      <td>NaN</td>\n",
       "      <td>Hayley</td>\n",
       "      <td>NaN</td>\n",
       "      <td>True</td>\n",
       "      <td>277</td>\n",
       "      <td>Villagers</td>\n",
       "      <td>4</td>\n",
       "      <td>[Villager, Villager, Werewolf, Doctor]</td>\n",
       "    </tr>\n",
       "    <tr>\n",
       "      <th>32</th>\n",
       "      <td>[Scott, Hayley]</td>\n",
       "      <td>Tyler</td>\n",
       "      <td>NaN</td>\n",
       "      <td>Hayley</td>\n",
       "      <td>David</td>\n",
       "      <td>True</td>\n",
       "      <td>277</td>\n",
       "      <td>Villagers</td>\n",
       "      <td>5</td>\n",
       "      <td>[Villager, Doctor]</td>\n",
       "    </tr>\n",
       "    <tr>\n",
       "      <th>33</th>\n",
       "      <td>[Mason, Dan, Paul, Jackson, Sam, Hayley, Derek...</td>\n",
       "      <td>Mason</td>\n",
       "      <td>Paul</td>\n",
       "      <td>Mason</td>\n",
       "      <td>NaN</td>\n",
       "      <td>True</td>\n",
       "      <td>635</td>\n",
       "      <td>Villagers</td>\n",
       "      <td>0</td>\n",
       "      <td>[Villager, Villager, Villager, Villager, Werew...</td>\n",
       "    </tr>\n",
       "    <tr>\n",
       "      <th>34</th>\n",
       "      <td>[Mason, Dan, Paul, Hayley, Derek, Harold]</td>\n",
       "      <td>Jackson</td>\n",
       "      <td>Jackson</td>\n",
       "      <td>Harold</td>\n",
       "      <td>Sam</td>\n",
       "      <td>True</td>\n",
       "      <td>635</td>\n",
       "      <td>Villagers</td>\n",
       "      <td>1</td>\n",
       "      <td>[Villager, Villager, Villager, Werewolf, Docto...</td>\n",
       "    </tr>\n",
       "    <tr>\n",
       "      <th>35</th>\n",
       "      <td>[Mason, Dan, Paul, Derek, Harold]</td>\n",
       "      <td>Harold</td>\n",
       "      <td>Hayley</td>\n",
       "      <td>Harold</td>\n",
       "      <td>Hayley</td>\n",
       "      <td>True</td>\n",
       "      <td>635</td>\n",
       "      <td>Villagers</td>\n",
       "      <td>2</td>\n",
       "      <td>[Villager, Villager, Villager, Doctor, Seer]</td>\n",
       "    </tr>\n",
       "  </tbody>\n",
       "</table>\n",
       "</div>"
      ],
      "text/plain": [
       "                                              players eliminated unmasked  \\\n",
       "0   [Harold, Will, Sam, Jackson, Hayley, Jacob, Ma...        Dan     Will   \n",
       "1        [Harold, Sam, Jackson, Hayley, Jacob, Mason]       Will      NaN   \n",
       "2                         [Sam, Hayley, Jacob, Mason]     Harold      NaN   \n",
       "3   [Tyler, Ginger, Jackson, Leah, Hayley, Sam, Is...        Dan      Dan   \n",
       "4         [Tyler, Ginger, Jackson, Leah, Hayley, Sam]      Isaac    Tyler   \n",
       "5                  [Tyler, Ginger, Leah, Hayley, Sam]    Jackson      NaN   \n",
       "6                       [Tyler, Ginger, Leah, Hayley]        Sam      NaN   \n",
       "7   [David, Bert, Jacob, Harold, Hayley, Mason, Will]      Scott    Jacob   \n",
       "8           [David, Bert, Jacob, Harold, Mason, Will]       Will   Hayley   \n",
       "9                          [David, Bert, Jacob, Will]      Mason    David   \n",
       "10       [Jackson, Harold, Bert, Hayley, Mason, Will]        Dan    Mason   \n",
       "11                       [Jackson, Bert, Mason, Will]     Harold     Bert   \n",
       "12             [Jacob, Paul, Will, Mason, Tyler, Dan]    Jackson     Will   \n",
       "13                    [Paul, Will, Mason, Tyler, Dan]      Jacob      NaN   \n",
       "14                          [Paul, Mason, Tyler, Dan]       Will      NaN   \n",
       "15        [Scott, Derek, Harold, Isaac, Will, Hayley]        Sam    Scott   \n",
       "16                       [Scott, Derek, Harold, Will]     Hayley    Isaac   \n",
       "17         [Leah, Isaac, Paul, David, Ginger, Harold]      Scott  Jackson   \n",
       "18                      [Isaac, Paul, Ginger, Harold]       Leah     Paul   \n",
       "19      [Derek, Dan, Jackson, Jacob, Sam, Leah, Paul]     Hayley   Hayley   \n",
       "20                 [Derek, Dan, Jackson, Jacob, Leah]       Paul      Sam   \n",
       "21                          [Derek, Dan, Jacob, Leah]    Jackson      NaN   \n",
       "22                                        [Dan, Leah]      Derek      NaN   \n",
       "23         [Dan, Hayley, Mason, Scott, Will, Jackson]       Bert     Will   \n",
       "24               [Dan, Hayley, Mason, Scott, Jackson]      Mason      NaN   \n",
       "25                                [Dan, Mason, Scott]    Jackson      NaN   \n",
       "26                                     [Mason, Scott]        Dan      NaN   \n",
       "27  [Scott, Jacob, Tyler, Ginger, Mason, David, Ha...     Harold   Harold   \n",
       "28        [Scott, Jacob, Tyler, Mason, David, Hayley]     Ginger    Mason   \n",
       "29                      [Scott, Tyler, David, Hayley]      Jacob      NaN   \n",
       "30                      [Scott, Tyler, David, Hayley]      Scott      NaN   \n",
       "31                      [Scott, Tyler, David, Hayley]     Hayley      NaN   \n",
       "32                                    [Scott, Hayley]      Tyler      NaN   \n",
       "33  [Mason, Dan, Paul, Jackson, Sam, Hayley, Derek...      Mason     Paul   \n",
       "34          [Mason, Dan, Paul, Hayley, Derek, Harold]    Jackson  Jackson   \n",
       "35                  [Mason, Dan, Paul, Derek, Harold]     Harold   Hayley   \n",
       "\n",
       "   protected   exiled  success  game_id      winner  round  \\\n",
       "0     Hayley      NaN     True      861  Werewolves      0   \n",
       "1        Sam      NaN     True      861  Werewolves      1   \n",
       "2        Sam  Jackson     True      861  Werewolves      2   \n",
       "3     Ginger      NaN     True      577  Werewolves      0   \n",
       "4      Tyler      NaN     True      577  Werewolves      1   \n",
       "5      Tyler      NaN     True      577  Werewolves      2   \n",
       "6       Leah      NaN     True      577  Werewolves      3   \n",
       "7      David      NaN     True      704   Villagers      0   \n",
       "8       Will   Hayley     True      704   Villagers      1   \n",
       "9      David   Harold     True      704   Villagers      2   \n",
       "10    Hayley    Scott     True       45   Villagers      0   \n",
       "11    Hayley   Hayley     True       45   Villagers      1   \n",
       "12     Mason      Sam     True      227  Werewolves      0   \n",
       "13       NaN      NaN     True      227  Werewolves      1   \n",
       "14       NaN      NaN     True      227  Werewolves      2   \n",
       "15      Will    Jacob     True      289   Villagers      0   \n",
       "16     Isaac    Isaac     True      289   Villagers      1   \n",
       "17      Paul  Jackson     True       79   Villagers      0   \n",
       "18    Harold    David     True       79   Villagers      1   \n",
       "19      Leah      NaN     True      232  Werewolves      0   \n",
       "20       NaN      Sam     True      232  Werewolves      1   \n",
       "21       NaN      NaN     True      232  Werewolves      2   \n",
       "22       NaN    Jacob     True      232  Werewolves      3   \n",
       "23     Mason   Ginger     True      101  Werewolves      0   \n",
       "24     Mason     Will     True      101  Werewolves      1   \n",
       "25    Hayley   Hayley     True      101  Werewolves      2   \n",
       "26       NaN      NaN     True      101  Werewolves      3   \n",
       "27    Ginger     Will     True      277   Villagers      0   \n",
       "28    Hayley     Paul     True      277   Villagers      1   \n",
       "29    Hayley    Mason     True      277   Villagers      2   \n",
       "30     Scott      NaN     True      277   Villagers      3   \n",
       "31    Hayley      NaN     True      277   Villagers      4   \n",
       "32    Hayley    David     True      277   Villagers      5   \n",
       "33     Mason      NaN     True      635   Villagers      0   \n",
       "34    Harold      Sam     True      635   Villagers      1   \n",
       "35    Harold   Hayley     True      635   Villagers      2   \n",
       "\n",
       "                                                roles  \n",
       "0   [Villager, Villager, Villager, Villager, Werew...  \n",
       "1   [Villager, Villager, Villager, Werewolf, Werew...  \n",
       "2              [Villager, Werewolf, Werewolf, Doctor]  \n",
       "3   [Villager, Villager, Villager, Werewolf, Werew...  \n",
       "4   [Villager, Villager, Villager, Werewolf, Werew...  \n",
       "5    [Villager, Villager, Werewolf, Werewolf, Doctor]  \n",
       "6            [Villager, Villager, Werewolf, Werewolf]  \n",
       "7   [Villager, Villager, Villager, Werewolf, Werew...  \n",
       "8   [Villager, Villager, Villager, Werewolf, Docto...  \n",
       "9                [Villager, Villager, Villager, Seer]  \n",
       "10  [Villager, Villager, Villager, Werewolf, Docto...  \n",
       "11                 [Villager, Villager, Doctor, Seer]  \n",
       "12  [Villager, Villager, Villager, Villager, Werew...  \n",
       "13  [Villager, Villager, Villager, Werewolf, Werew...  \n",
       "14           [Villager, Villager, Werewolf, Werewolf]  \n",
       "15  [Villager, Villager, Villager, Werewolf, Docto...  \n",
       "16             [Villager, Villager, Villager, Doctor]  \n",
       "17  [Villager, Villager, Villager, Werewolf, Docto...  \n",
       "18                 [Villager, Villager, Doctor, Seer]  \n",
       "19  [Villager, Villager, Villager, Villager, Werew...  \n",
       "20  [Villager, Villager, Villager, Villager, Werew...  \n",
       "21           [Villager, Villager, Villager, Werewolf]  \n",
       "22                               [Villager, Werewolf]  \n",
       "23  [Villager, Villager, Villager, Werewolf, Werew...  \n",
       "24   [Villager, Villager, Villager, Werewolf, Doctor]  \n",
       "25                     [Villager, Villager, Werewolf]  \n",
       "26                               [Villager, Werewolf]  \n",
       "27  [Villager, Villager, Villager, Villager, Werew...  \n",
       "28  [Villager, Villager, Villager, Werewolf, Werew...  \n",
       "29             [Villager, Villager, Werewolf, Doctor]  \n",
       "30             [Villager, Villager, Werewolf, Doctor]  \n",
       "31             [Villager, Villager, Werewolf, Doctor]  \n",
       "32                                 [Villager, Doctor]  \n",
       "33  [Villager, Villager, Villager, Villager, Werew...  \n",
       "34  [Villager, Villager, Villager, Werewolf, Docto...  \n",
       "35       [Villager, Villager, Villager, Doctor, Seer]  "
      ]
     },
     "execution_count": 46,
     "metadata": {},
     "output_type": "execute_result"
    }
   ],
   "source": [
    "llm_rounds_df"
   ]
  },
  {
   "cell_type": "code",
   "execution_count": 47,
   "id": "71d2ded7-84fa-41ce-8457-7922002b1e53",
   "metadata": {
    "execution": {
     "iopub.execute_input": "2025-04-23T03:25:23.931162Z",
     "iopub.status.busy": "2025-04-23T03:25:23.930697Z",
     "iopub.status.idle": "2025-04-23T03:25:23.952853Z",
     "shell.execute_reply": "2025-04-23T03:25:23.951694Z",
     "shell.execute_reply.started": "2025-04-23T03:25:23.931134Z"
    }
   },
   "outputs": [
    {
     "data": {
      "text/html": [
       "<div>\n",
       "<style scoped>\n",
       "    .dataframe tbody tr th:only-of-type {\n",
       "        vertical-align: middle;\n",
       "    }\n",
       "\n",
       "    .dataframe tbody tr th {\n",
       "        vertical-align: top;\n",
       "    }\n",
       "\n",
       "    .dataframe thead th {\n",
       "        text-align: right;\n",
       "    }\n",
       "</style>\n",
       "<table border=\"1\" class=\"dataframe\">\n",
       "  <thead>\n",
       "    <tr style=\"text-align: right;\">\n",
       "      <th></th>\n",
       "      <th>Rec_Id</th>\n",
       "      <th>speaker</th>\n",
       "      <th>timestamp</th>\n",
       "      <th>text</th>\n",
       "      <th>strategy</th>\n",
       "      <th>source</th>\n",
       "      <th>utterance_length</th>\n",
       "      <th>game_id</th>\n",
       "      <th>voted_for</th>\n",
       "      <th>end_role</th>\n",
       "      <th>votes_target</th>\n",
       "      <th>winner</th>\n",
       "    </tr>\n",
       "  </thead>\n",
       "  <tbody>\n",
       "    <tr>\n",
       "      <th>0</th>\n",
       "      <td>1</td>\n",
       "      <td>kaelan</td>\n",
       "      <td>54</td>\n",
       "      <td>I don't know why this is necessary considering...</td>\n",
       "      <td>[No Strategy]</td>\n",
       "      <td>Ego4D</td>\n",
       "      <td>11</td>\n",
       "      <td>game10 - 62c4bc58-3776-4791-ac30-4c9ca5619503</td>\n",
       "      <td>NaN</td>\n",
       "      <td>Villager</td>\n",
       "      <td>NaN</td>\n",
       "      <td>Werewolves</td>\n",
       "    </tr>\n",
       "    <tr>\n",
       "      <th>1</th>\n",
       "      <td>3</td>\n",
       "      <td>kaelan</td>\n",
       "      <td>65</td>\n",
       "      <td>I am a Villager.</td>\n",
       "      <td>[Identity Declaration]</td>\n",
       "      <td>Ego4D</td>\n",
       "      <td>4</td>\n",
       "      <td>game10 - 62c4bc58-3776-4791-ac30-4c9ca5619503</td>\n",
       "      <td>NaN</td>\n",
       "      <td>Villager</td>\n",
       "      <td>NaN</td>\n",
       "      <td>Werewolves</td>\n",
       "    </tr>\n",
       "    <tr>\n",
       "      <th>2</th>\n",
       "      <td>8</td>\n",
       "      <td>kaelan</td>\n",
       "      <td>85</td>\n",
       "      <td>Like, I mean-</td>\n",
       "      <td>[No Strategy]</td>\n",
       "      <td>Ego4D</td>\n",
       "      <td>3</td>\n",
       "      <td>game10 - 62c4bc58-3776-4791-ac30-4c9ca5619503</td>\n",
       "      <td>NaN</td>\n",
       "      <td>Villager</td>\n",
       "      <td>NaN</td>\n",
       "      <td>Werewolves</td>\n",
       "    </tr>\n",
       "    <tr>\n",
       "      <th>3</th>\n",
       "      <td>11</td>\n",
       "      <td>kaelan</td>\n",
       "      <td>101</td>\n",
       "      <td>But, I-I-I-I-</td>\n",
       "      <td>[No Strategy]</td>\n",
       "      <td>Ego4D</td>\n",
       "      <td>2</td>\n",
       "      <td>game10 - 62c4bc58-3776-4791-ac30-4c9ca5619503</td>\n",
       "      <td>NaN</td>\n",
       "      <td>Villager</td>\n",
       "      <td>NaN</td>\n",
       "      <td>Werewolves</td>\n",
       "    </tr>\n",
       "    <tr>\n",
       "      <th>4</th>\n",
       "      <td>13</td>\n",
       "      <td>kaelan</td>\n",
       "      <td>0</td>\n",
       "      <td>Continue. Well, I guess we don't really need t...</td>\n",
       "      <td>[No Strategy]</td>\n",
       "      <td>Ego4D</td>\n",
       "      <td>11</td>\n",
       "      <td>game10 - 62c4bc58-3776-4791-ac30-4c9ca5619503</td>\n",
       "      <td>NaN</td>\n",
       "      <td>Villager</td>\n",
       "      <td>NaN</td>\n",
       "      <td>Werewolves</td>\n",
       "    </tr>\n",
       "    <tr>\n",
       "      <th>...</th>\n",
       "      <td>...</td>\n",
       "      <td>...</td>\n",
       "      <td>...</td>\n",
       "      <td>...</td>\n",
       "      <td>...</td>\n",
       "      <td>...</td>\n",
       "      <td>...</td>\n",
       "      <td>...</td>\n",
       "      <td>...</td>\n",
       "      <td>...</td>\n",
       "      <td>...</td>\n",
       "      <td>...</td>\n",
       "    </tr>\n",
       "    <tr>\n",
       "      <th>21067</th>\n",
       "      <td>85</td>\n",
       "      <td>brad</td>\n",
       "      <td>279</td>\n",
       "      <td>We could.</td>\n",
       "      <td>[Defense]</td>\n",
       "      <td>Youtube</td>\n",
       "      <td>2</td>\n",
       "      <td>game3 - ONE NIGHT ULTIMATE WEREWOLF 55  Januar...</td>\n",
       "      <td>mitchell</td>\n",
       "      <td>Tanner</td>\n",
       "      <td>mitchell</td>\n",
       "      <td>Werewolves</td>\n",
       "    </tr>\n",
       "    <tr>\n",
       "      <th>21068</th>\n",
       "      <td>89</td>\n",
       "      <td>brad</td>\n",
       "      <td>283</td>\n",
       "      <td>Justin</td>\n",
       "      <td>[Accusation]</td>\n",
       "      <td>Youtube</td>\n",
       "      <td>1</td>\n",
       "      <td>game3 - ONE NIGHT ULTIMATE WEREWOLF 55  Januar...</td>\n",
       "      <td>mitchell</td>\n",
       "      <td>Tanner</td>\n",
       "      <td>mitchell</td>\n",
       "      <td>Werewolves</td>\n",
       "    </tr>\n",
       "    <tr>\n",
       "      <th>21069</th>\n",
       "      <td>100</td>\n",
       "      <td>brad</td>\n",
       "      <td>295</td>\n",
       "      <td>It's just Justin, Justin, Justin.</td>\n",
       "      <td>[Accusation]</td>\n",
       "      <td>Youtube</td>\n",
       "      <td>5</td>\n",
       "      <td>game3 - ONE NIGHT ULTIMATE WEREWOLF 55  Januar...</td>\n",
       "      <td>mitchell</td>\n",
       "      <td>Tanner</td>\n",
       "      <td>mitchell</td>\n",
       "      <td>Werewolves</td>\n",
       "    </tr>\n",
       "    <tr>\n",
       "      <th>21070</th>\n",
       "      <td>102</td>\n",
       "      <td>brad</td>\n",
       "      <td>297</td>\n",
       "      <td>Just inception.</td>\n",
       "      <td>[No Strategy]</td>\n",
       "      <td>Youtube</td>\n",
       "      <td>2</td>\n",
       "      <td>game3 - ONE NIGHT ULTIMATE WEREWOLF 55  Januar...</td>\n",
       "      <td>mitchell</td>\n",
       "      <td>Tanner</td>\n",
       "      <td>mitchell</td>\n",
       "      <td>Werewolves</td>\n",
       "    </tr>\n",
       "    <tr>\n",
       "      <th>21071</th>\n",
       "      <td>129</td>\n",
       "      <td>brad</td>\n",
       "      <td>335</td>\n",
       "      <td>So we're voting Mitchell?</td>\n",
       "      <td>[Call for Action]</td>\n",
       "      <td>Youtube</td>\n",
       "      <td>4</td>\n",
       "      <td>game3 - ONE NIGHT ULTIMATE WEREWOLF 55  Januar...</td>\n",
       "      <td>mitchell</td>\n",
       "      <td>Tanner</td>\n",
       "      <td>mitchell</td>\n",
       "      <td>Werewolves</td>\n",
       "    </tr>\n",
       "  </tbody>\n",
       "</table>\n",
       "<p>21072 rows × 12 columns</p>\n",
       "</div>"
      ],
      "text/plain": [
       "       Rec_Id speaker  timestamp  \\\n",
       "0           1  kaelan         54   \n",
       "1           3  kaelan         65   \n",
       "2           8  kaelan         85   \n",
       "3          11  kaelan        101   \n",
       "4          13  kaelan          0   \n",
       "...       ...     ...        ...   \n",
       "21067      85    brad        279   \n",
       "21068      89    brad        283   \n",
       "21069     100    brad        295   \n",
       "21070     102    brad        297   \n",
       "21071     129    brad        335   \n",
       "\n",
       "                                                    text  \\\n",
       "0      I don't know why this is necessary considering...   \n",
       "1                                       I am a Villager.   \n",
       "2                                          Like, I mean-   \n",
       "3                                          But, I-I-I-I-   \n",
       "4      Continue. Well, I guess we don't really need t...   \n",
       "...                                                  ...   \n",
       "21067                                          We could.   \n",
       "21068                                             Justin   \n",
       "21069                  It's just Justin, Justin, Justin.   \n",
       "21070                                    Just inception.   \n",
       "21071                          So we're voting Mitchell?   \n",
       "\n",
       "                     strategy   source  utterance_length  \\\n",
       "0               [No Strategy]    Ego4D                11   \n",
       "1      [Identity Declaration]    Ego4D                 4   \n",
       "2               [No Strategy]    Ego4D                 3   \n",
       "3               [No Strategy]    Ego4D                 2   \n",
       "4               [No Strategy]    Ego4D                11   \n",
       "...                       ...      ...               ...   \n",
       "21067               [Defense]  Youtube                 2   \n",
       "21068            [Accusation]  Youtube                 1   \n",
       "21069            [Accusation]  Youtube                 5   \n",
       "21070           [No Strategy]  Youtube                 2   \n",
       "21071       [Call for Action]  Youtube                 4   \n",
       "\n",
       "                                                 game_id voted_for  end_role  \\\n",
       "0          game10 - 62c4bc58-3776-4791-ac30-4c9ca5619503       NaN  Villager   \n",
       "1          game10 - 62c4bc58-3776-4791-ac30-4c9ca5619503       NaN  Villager   \n",
       "2          game10 - 62c4bc58-3776-4791-ac30-4c9ca5619503       NaN  Villager   \n",
       "3          game10 - 62c4bc58-3776-4791-ac30-4c9ca5619503       NaN  Villager   \n",
       "4          game10 - 62c4bc58-3776-4791-ac30-4c9ca5619503       NaN  Villager   \n",
       "...                                                  ...       ...       ...   \n",
       "21067  game3 - ONE NIGHT ULTIMATE WEREWOLF 55  Januar...  mitchell    Tanner   \n",
       "21068  game3 - ONE NIGHT ULTIMATE WEREWOLF 55  Januar...  mitchell    Tanner   \n",
       "21069  game3 - ONE NIGHT ULTIMATE WEREWOLF 55  Januar...  mitchell    Tanner   \n",
       "21070  game3 - ONE NIGHT ULTIMATE WEREWOLF 55  Januar...  mitchell    Tanner   \n",
       "21071  game3 - ONE NIGHT ULTIMATE WEREWOLF 55  Januar...  mitchell    Tanner   \n",
       "\n",
       "      votes_target      winner  \n",
       "0              NaN  Werewolves  \n",
       "1              NaN  Werewolves  \n",
       "2              NaN  Werewolves  \n",
       "3              NaN  Werewolves  \n",
       "4              NaN  Werewolves  \n",
       "...            ...         ...  \n",
       "21067     mitchell  Werewolves  \n",
       "21068     mitchell  Werewolves  \n",
       "21069     mitchell  Werewolves  \n",
       "21070     mitchell  Werewolves  \n",
       "21071     mitchell  Werewolves  \n",
       "\n",
       "[21072 rows x 12 columns]"
      ]
     },
     "execution_count": 47,
     "metadata": {},
     "output_type": "execute_result"
    }
   ],
   "source": [
    "hum_text_df"
   ]
  },
  {
   "cell_type": "code",
   "execution_count": 48,
   "id": "41464313-5608-41fb-a4ca-9da104aca3e3",
   "metadata": {
    "execution": {
     "iopub.execute_input": "2025-04-23T03:25:25.439870Z",
     "iopub.status.busy": "2025-04-23T03:25:25.439092Z",
     "iopub.status.idle": "2025-04-23T03:25:25.471816Z",
     "shell.execute_reply": "2025-04-23T03:25:25.470486Z",
     "shell.execute_reply.started": "2025-04-23T03:25:25.439833Z"
    }
   },
   "outputs": [
    {
     "data": {
      "text/html": [
       "<div>\n",
       "<style scoped>\n",
       "    .dataframe tbody tr th:only-of-type {\n",
       "        vertical-align: middle;\n",
       "    }\n",
       "\n",
       "    .dataframe tbody tr th {\n",
       "        vertical-align: top;\n",
       "    }\n",
       "\n",
       "    .dataframe thead th {\n",
       "        text-align: right;\n",
       "    }\n",
       "</style>\n",
       "<table border=\"1\" class=\"dataframe\">\n",
       "  <thead>\n",
       "    <tr style=\"text-align: right;\">\n",
       "      <th></th>\n",
       "      <th>players</th>\n",
       "      <th>eliminated</th>\n",
       "      <th>unmasked</th>\n",
       "      <th>protected</th>\n",
       "      <th>exiled</th>\n",
       "      <th>votes</th>\n",
       "      <th>success</th>\n",
       "      <th>game_id</th>\n",
       "      <th>winner</th>\n",
       "      <th>round</th>\n",
       "      <th>roles</th>\n",
       "      <th>speaker</th>\n",
       "      <th>text</th>\n",
       "      <th>timestamp</th>\n",
       "      <th>strategy</th>\n",
       "    </tr>\n",
       "  </thead>\n",
       "  <tbody>\n",
       "    <tr>\n",
       "      <th>0</th>\n",
       "      <td>[Harold, Will, Sam, Jackson, Hayley, Jacob, Ma...</td>\n",
       "      <td>Dan</td>\n",
       "      <td>Will</td>\n",
       "      <td>Hayley</td>\n",
       "      <td>NaN</td>\n",
       "      <td>{'Harold': 'Jackson', 'Will': 'Jackson', 'Sam'...</td>\n",
       "      <td>True</td>\n",
       "      <td>861</td>\n",
       "      <td>Werewolves</td>\n",
       "      <td>0</td>\n",
       "      <td>[Villager, Villager, Villager, Villager, Werew...</td>\n",
       "      <td>Will</td>\n",
       "      <td>Alright everyone, it's unfortunate that we've ...</td>\n",
       "      <td>0</td>\n",
       "      <td>[Interrogation, Accusation, Call for Action]</td>\n",
       "    </tr>\n",
       "    <tr>\n",
       "      <th>1</th>\n",
       "      <td>[Harold, Will, Sam, Jackson, Hayley, Jacob, Ma...</td>\n",
       "      <td>Dan</td>\n",
       "      <td>Will</td>\n",
       "      <td>Hayley</td>\n",
       "      <td>NaN</td>\n",
       "      <td>{'Harold': 'Jackson', 'Will': 'Mason', 'Sam': ...</td>\n",
       "      <td>True</td>\n",
       "      <td>861</td>\n",
       "      <td>Werewolves</td>\n",
       "      <td>0</td>\n",
       "      <td>[Villager, Villager, Villager, Villager, Werew...</td>\n",
       "      <td>Hayley</td>\n",
       "      <td>Thanks, Will. It's indeed a tough start losing...</td>\n",
       "      <td>1</td>\n",
       "      <td>[Interrogation, Accusation, Call for Action]</td>\n",
       "    </tr>\n",
       "    <tr>\n",
       "      <th>2</th>\n",
       "      <td>[Harold, Will, Sam, Jackson, Hayley, Jacob, Ma...</td>\n",
       "      <td>Dan</td>\n",
       "      <td>Will</td>\n",
       "      <td>Hayley</td>\n",
       "      <td>NaN</td>\n",
       "      <td>{'Harold': 'Jackson', 'Will': 'Jackson', 'Sam'...</td>\n",
       "      <td>True</td>\n",
       "      <td>861</td>\n",
       "      <td>Werewolves</td>\n",
       "      <td>0</td>\n",
       "      <td>[Villager, Villager, Villager, Villager, Werew...</td>\n",
       "      <td>Jacob</td>\n",
       "      <td>Thanks, Hayley. I agree with you and Will that...</td>\n",
       "      <td>2</td>\n",
       "      <td>[Interrogation, Evidence, Call for Action]</td>\n",
       "    </tr>\n",
       "    <tr>\n",
       "      <th>3</th>\n",
       "      <td>[Harold, Will, Sam, Jackson, Hayley, Jacob, Ma...</td>\n",
       "      <td>Dan</td>\n",
       "      <td>Will</td>\n",
       "      <td>Hayley</td>\n",
       "      <td>NaN</td>\n",
       "      <td>{'Harold': 'Jacob', 'Will': 'Jacob', 'Sam': 'J...</td>\n",
       "      <td>True</td>\n",
       "      <td>861</td>\n",
       "      <td>Werewolves</td>\n",
       "      <td>0</td>\n",
       "      <td>[Villager, Villager, Villager, Villager, Werew...</td>\n",
       "      <td>Jackson</td>\n",
       "      <td>Jacob, I appreciate you pointing out that I wa...</td>\n",
       "      <td>3</td>\n",
       "      <td>[Defense, Call for Action, Identity Declaration]</td>\n",
       "    </tr>\n",
       "    <tr>\n",
       "      <th>4</th>\n",
       "      <td>[Harold, Will, Sam, Jackson, Hayley, Jacob, Ma...</td>\n",
       "      <td>Dan</td>\n",
       "      <td>Will</td>\n",
       "      <td>Hayley</td>\n",
       "      <td>NaN</td>\n",
       "      <td>{'Harold': 'Jacob', 'Will': 'Jacob', 'Sam': 'J...</td>\n",
       "      <td>True</td>\n",
       "      <td>861</td>\n",
       "      <td>Werewolves</td>\n",
       "      <td>0</td>\n",
       "      <td>[Villager, Villager, Villager, Villager, Werew...</td>\n",
       "      <td>Jacob</td>\n",
       "      <td>Thanks for addressing that, Jackson. I complet...</td>\n",
       "      <td>4</td>\n",
       "      <td>[Interrogation, Accusation, Defense, Evidence,...</td>\n",
       "    </tr>\n",
       "    <tr>\n",
       "      <th>...</th>\n",
       "      <td>...</td>\n",
       "      <td>...</td>\n",
       "      <td>...</td>\n",
       "      <td>...</td>\n",
       "      <td>...</td>\n",
       "      <td>...</td>\n",
       "      <td>...</td>\n",
       "      <td>...</td>\n",
       "      <td>...</td>\n",
       "      <td>...</td>\n",
       "      <td>...</td>\n",
       "      <td>...</td>\n",
       "      <td>...</td>\n",
       "      <td>...</td>\n",
       "      <td>...</td>\n",
       "    </tr>\n",
       "    <tr>\n",
       "      <th>250</th>\n",
       "      <td>[Mason, Dan, Paul, Derek, Harold]</td>\n",
       "      <td>Harold</td>\n",
       "      <td>Hayley</td>\n",
       "      <td>Harold</td>\n",
       "      <td>Hayley</td>\n",
       "      <td>{'Mason': 'Paul', 'Dan': 'Hayley', 'Paul': 'Ha...</td>\n",
       "      <td>True</td>\n",
       "      <td>635</td>\n",
       "      <td>Villagers</td>\n",
       "      <td>2</td>\n",
       "      <td>[Villager, Villager, Villager, Doctor, Seer]</td>\n",
       "      <td>Harold</td>\n",
       "      <td>Hayley, your accusations are unfounded and ser...</td>\n",
       "      <td>19</td>\n",
       "      <td>[Accusation, Call for Action]</td>\n",
       "    </tr>\n",
       "    <tr>\n",
       "      <th>251</th>\n",
       "      <td>[Mason, Dan, Paul, Derek, Harold]</td>\n",
       "      <td>Harold</td>\n",
       "      <td>Hayley</td>\n",
       "      <td>Harold</td>\n",
       "      <td>Hayley</td>\n",
       "      <td>{'Mason': 'Hayley', 'Dan': 'Hayley', 'Paul': '...</td>\n",
       "      <td>True</td>\n",
       "      <td>635</td>\n",
       "      <td>Villagers</td>\n",
       "      <td>2</td>\n",
       "      <td>[Villager, Villager, Villager, Doctor, Seer]</td>\n",
       "      <td>Hayley</td>\n",
       "      <td>Harold, your insistence on labeling me as the ...</td>\n",
       "      <td>20</td>\n",
       "      <td>[Accusation, Call for Action]</td>\n",
       "    </tr>\n",
       "    <tr>\n",
       "      <th>252</th>\n",
       "      <td>[Mason, Dan, Paul, Derek, Harold]</td>\n",
       "      <td>Harold</td>\n",
       "      <td>Hayley</td>\n",
       "      <td>Harold</td>\n",
       "      <td>Hayley</td>\n",
       "      <td>{'Mason': 'Hayley', 'Dan': 'Hayley', 'Paul': '...</td>\n",
       "      <td>True</td>\n",
       "      <td>635</td>\n",
       "      <td>Villagers</td>\n",
       "      <td>2</td>\n",
       "      <td>[Villager, Villager, Villager, Doctor, Seer]</td>\n",
       "      <td>Harold</td>\n",
       "      <td>Hayley, your tactics of distraction are transp...</td>\n",
       "      <td>21</td>\n",
       "      <td>[Call for Action]</td>\n",
       "    </tr>\n",
       "    <tr>\n",
       "      <th>253</th>\n",
       "      <td>[Mason, Dan, Paul, Derek, Harold]</td>\n",
       "      <td>Harold</td>\n",
       "      <td>Hayley</td>\n",
       "      <td>Harold</td>\n",
       "      <td>Hayley</td>\n",
       "      <td>{'Mason': 'Hayley', 'Dan': 'Hayley', 'Paul': '...</td>\n",
       "      <td>True</td>\n",
       "      <td>635</td>\n",
       "      <td>Villagers</td>\n",
       "      <td>2</td>\n",
       "      <td>[Villager, Villager, Villager, Doctor, Seer]</td>\n",
       "      <td>Paul</td>\n",
       "      <td>I want to echo what Harold has shared with us:...</td>\n",
       "      <td>22</td>\n",
       "      <td>[Call for Action]</td>\n",
       "    </tr>\n",
       "    <tr>\n",
       "      <th>254</th>\n",
       "      <td>[Mason, Dan, Paul, Derek, Harold]</td>\n",
       "      <td>Harold</td>\n",
       "      <td>Hayley</td>\n",
       "      <td>Harold</td>\n",
       "      <td>Hayley</td>\n",
       "      <td>{'Mason': 'Hayley', 'Dan': 'Hayley', 'Paul': '...</td>\n",
       "      <td>True</td>\n",
       "      <td>635</td>\n",
       "      <td>Villagers</td>\n",
       "      <td>2</td>\n",
       "      <td>[Villager, Villager, Villager, Doctor, Seer]</td>\n",
       "      <td>Hayley</td>\n",
       "      <td>I appreciate the spirited debate, but it's cru...</td>\n",
       "      <td>23</td>\n",
       "      <td>[Interrogation, Evidence, Call for Action]</td>\n",
       "    </tr>\n",
       "  </tbody>\n",
       "</table>\n",
       "<p>255 rows × 15 columns</p>\n",
       "</div>"
      ],
      "text/plain": [
       "                                               players eliminated unmasked  \\\n",
       "0    [Harold, Will, Sam, Jackson, Hayley, Jacob, Ma...        Dan     Will   \n",
       "1    [Harold, Will, Sam, Jackson, Hayley, Jacob, Ma...        Dan     Will   \n",
       "2    [Harold, Will, Sam, Jackson, Hayley, Jacob, Ma...        Dan     Will   \n",
       "3    [Harold, Will, Sam, Jackson, Hayley, Jacob, Ma...        Dan     Will   \n",
       "4    [Harold, Will, Sam, Jackson, Hayley, Jacob, Ma...        Dan     Will   \n",
       "..                                                 ...        ...      ...   \n",
       "250                  [Mason, Dan, Paul, Derek, Harold]     Harold   Hayley   \n",
       "251                  [Mason, Dan, Paul, Derek, Harold]     Harold   Hayley   \n",
       "252                  [Mason, Dan, Paul, Derek, Harold]     Harold   Hayley   \n",
       "253                  [Mason, Dan, Paul, Derek, Harold]     Harold   Hayley   \n",
       "254                  [Mason, Dan, Paul, Derek, Harold]     Harold   Hayley   \n",
       "\n",
       "    protected  exiled                                              votes  \\\n",
       "0      Hayley     NaN  {'Harold': 'Jackson', 'Will': 'Jackson', 'Sam'...   \n",
       "1      Hayley     NaN  {'Harold': 'Jackson', 'Will': 'Mason', 'Sam': ...   \n",
       "2      Hayley     NaN  {'Harold': 'Jackson', 'Will': 'Jackson', 'Sam'...   \n",
       "3      Hayley     NaN  {'Harold': 'Jacob', 'Will': 'Jacob', 'Sam': 'J...   \n",
       "4      Hayley     NaN  {'Harold': 'Jacob', 'Will': 'Jacob', 'Sam': 'J...   \n",
       "..        ...     ...                                                ...   \n",
       "250    Harold  Hayley  {'Mason': 'Paul', 'Dan': 'Hayley', 'Paul': 'Ha...   \n",
       "251    Harold  Hayley  {'Mason': 'Hayley', 'Dan': 'Hayley', 'Paul': '...   \n",
       "252    Harold  Hayley  {'Mason': 'Hayley', 'Dan': 'Hayley', 'Paul': '...   \n",
       "253    Harold  Hayley  {'Mason': 'Hayley', 'Dan': 'Hayley', 'Paul': '...   \n",
       "254    Harold  Hayley  {'Mason': 'Hayley', 'Dan': 'Hayley', 'Paul': '...   \n",
       "\n",
       "     success  game_id      winner  round  \\\n",
       "0       True      861  Werewolves      0   \n",
       "1       True      861  Werewolves      0   \n",
       "2       True      861  Werewolves      0   \n",
       "3       True      861  Werewolves      0   \n",
       "4       True      861  Werewolves      0   \n",
       "..       ...      ...         ...    ...   \n",
       "250     True      635   Villagers      2   \n",
       "251     True      635   Villagers      2   \n",
       "252     True      635   Villagers      2   \n",
       "253     True      635   Villagers      2   \n",
       "254     True      635   Villagers      2   \n",
       "\n",
       "                                                 roles  speaker  \\\n",
       "0    [Villager, Villager, Villager, Villager, Werew...     Will   \n",
       "1    [Villager, Villager, Villager, Villager, Werew...   Hayley   \n",
       "2    [Villager, Villager, Villager, Villager, Werew...    Jacob   \n",
       "3    [Villager, Villager, Villager, Villager, Werew...  Jackson   \n",
       "4    [Villager, Villager, Villager, Villager, Werew...    Jacob   \n",
       "..                                                 ...      ...   \n",
       "250       [Villager, Villager, Villager, Doctor, Seer]   Harold   \n",
       "251       [Villager, Villager, Villager, Doctor, Seer]   Hayley   \n",
       "252       [Villager, Villager, Villager, Doctor, Seer]   Harold   \n",
       "253       [Villager, Villager, Villager, Doctor, Seer]     Paul   \n",
       "254       [Villager, Villager, Villager, Doctor, Seer]   Hayley   \n",
       "\n",
       "                                                  text  timestamp  \\\n",
       "0    Alright everyone, it's unfortunate that we've ...          0   \n",
       "1    Thanks, Will. It's indeed a tough start losing...          1   \n",
       "2    Thanks, Hayley. I agree with you and Will that...          2   \n",
       "3    Jacob, I appreciate you pointing out that I wa...          3   \n",
       "4    Thanks for addressing that, Jackson. I complet...          4   \n",
       "..                                                 ...        ...   \n",
       "250  Hayley, your accusations are unfounded and ser...         19   \n",
       "251  Harold, your insistence on labeling me as the ...         20   \n",
       "252  Hayley, your tactics of distraction are transp...         21   \n",
       "253  I want to echo what Harold has shared with us:...         22   \n",
       "254  I appreciate the spirited debate, but it's cru...         23   \n",
       "\n",
       "                                              strategy  \n",
       "0         [Interrogation, Accusation, Call for Action]  \n",
       "1         [Interrogation, Accusation, Call for Action]  \n",
       "2           [Interrogation, Evidence, Call for Action]  \n",
       "3     [Defense, Call for Action, Identity Declaration]  \n",
       "4    [Interrogation, Accusation, Defense, Evidence,...  \n",
       "..                                                 ...  \n",
       "250                      [Accusation, Call for Action]  \n",
       "251                      [Accusation, Call for Action]  \n",
       "252                                  [Call for Action]  \n",
       "253                                  [Call for Action]  \n",
       "254         [Interrogation, Evidence, Call for Action]  \n",
       "\n",
       "[255 rows x 15 columns]"
      ]
     },
     "execution_count": 48,
     "metadata": {},
     "output_type": "execute_result"
    }
   ],
   "source": [
    "llm_text_df"
   ]
  },
  {
   "cell_type": "markdown",
   "id": "1e7b8039-9acb-4620-8584-862f039e1c6d",
   "metadata": {},
   "source": [
    "## EDA"
   ]
  },
  {
   "cell_type": "markdown",
   "id": "ef52c3ba-d74f-4a17-9381-6974218fe6e3",
   "metadata": {},
   "source": [
    "### General win counts"
   ]
  },
  {
   "cell_type": "code",
   "execution_count": 21,
   "id": "1ef06e65-c97e-44fb-a747-62b5c50c9451",
   "metadata": {
    "execution": {
     "iopub.execute_input": "2025-04-23T01:58:47.820600Z",
     "iopub.status.busy": "2025-04-23T01:58:47.820246Z",
     "iopub.status.idle": "2025-04-23T01:58:47.829620Z",
     "shell.execute_reply": "2025-04-23T01:58:47.828785Z",
     "shell.execute_reply.started": "2025-04-23T01:58:47.820574Z"
    }
   },
   "outputs": [
    {
     "data": {
      "text/plain": [
       "(0.5454545454545454, 11, 0.37423312883435583, 163)"
      ]
     },
     "execution_count": 21,
     "metadata": {},
     "output_type": "execute_result"
    }
   ],
   "source": [
    "llm_outcomes = np.array(llm_rounds_df.groupby(\"game_id\")[\"winner\"].first().tolist()) \n",
    "llm_winperc = np.sum(llm_outcomes == \"Villagers\") / len(llm_outcomes)\n",
    "\n",
    "hum_outcomes = np.array(hum_rounds_df.groupby(\"game_id\")[\"winner\"].first().tolist()) \n",
    "hum_winperc = np.sum(hum_outcomes == \"Villagers\") / len(hum_outcomes)\n",
    "\n",
    "llm_winperc, len(llm_outcomes), hum_winperc, len(hum_outcomes)"
   ]
  },
  {
   "cell_type": "markdown",
   "id": "00039116-ccb4-4d42-9866-ea9a8dcef5c4",
   "metadata": {},
   "source": [
    "| Source Dataset | Villagers Win                   | Number of Games |\n",
    "|---------------|---------|-------|\n",
    "|LLMs | 54.545%     | 11    |\n",
    "|Human| 37.423%     | 163   |"
   ]
  },
  {
   "cell_type": "code",
   "execution_count": 34,
   "id": "7472e954-144d-47f9-845d-65570efee9bb",
   "metadata": {
    "execution": {
     "iopub.execute_input": "2025-04-23T02:56:14.513801Z",
     "iopub.status.busy": "2025-04-23T02:56:14.513399Z",
     "iopub.status.idle": "2025-04-23T02:56:14.621689Z",
     "shell.execute_reply": "2025-04-23T02:56:14.620971Z",
     "shell.execute_reply.started": "2025-04-23T02:56:14.513771Z"
    }
   },
   "outputs": [
    {
     "data": {
      "application/vnd.plotly.v1+json": {
       "config": {
        "plotlyServerURL": "https://plot.ly"
       },
       "data": [
        {
         "alignmentgroup": "True",
         "bingroup": "x",
         "hovertemplate": "winner=Villagers<br>round=%{x}<br>count=%{y}<extra></extra>",
         "legendgroup": "Villagers",
         "marker": {
          "color": "#636efa",
          "pattern": {
           "shape": ""
          }
         },
         "name": "Villagers",
         "offsetgroup": "Villagers",
         "orientation": "v",
         "showlegend": true,
         "type": "histogram",
         "x": [
          1,
          1,
          5,
          1,
          2,
          2
         ],
         "xaxis": "x",
         "yaxis": "y"
        },
        {
         "alignmentgroup": "True",
         "bingroup": "x",
         "hovertemplate": "winner=Werewolves<br>round=%{x}<br>count=%{y}<extra></extra>",
         "legendgroup": "Werewolves",
         "marker": {
          "color": "#EF553B",
          "pattern": {
           "shape": ""
          }
         },
         "name": "Werewolves",
         "offsetgroup": "Werewolves",
         "orientation": "v",
         "showlegend": true,
         "type": "histogram",
         "x": [
          3,
          2,
          3,
          3,
          2
         ],
         "xaxis": "x",
         "yaxis": "y"
        }
       ],
       "layout": {
        "autosize": true,
        "barmode": "relative",
        "legend": {
         "title": {
          "text": "winner"
         },
         "tracegroupgap": 0
        },
        "margin": {
         "t": 60
        },
        "template": {
         "data": {
          "bar": [
           {
            "error_x": {
             "color": "#2a3f5f"
            },
            "error_y": {
             "color": "#2a3f5f"
            },
            "marker": {
             "line": {
              "color": "#E5ECF6",
              "width": 0.5
             },
             "pattern": {
              "fillmode": "overlay",
              "size": 10,
              "solidity": 0.2
             }
            },
            "type": "bar"
           }
          ],
          "barpolar": [
           {
            "marker": {
             "line": {
              "color": "#E5ECF6",
              "width": 0.5
             },
             "pattern": {
              "fillmode": "overlay",
              "size": 10,
              "solidity": 0.2
             }
            },
            "type": "barpolar"
           }
          ],
          "carpet": [
           {
            "aaxis": {
             "endlinecolor": "#2a3f5f",
             "gridcolor": "white",
             "linecolor": "white",
             "minorgridcolor": "white",
             "startlinecolor": "#2a3f5f"
            },
            "baxis": {
             "endlinecolor": "#2a3f5f",
             "gridcolor": "white",
             "linecolor": "white",
             "minorgridcolor": "white",
             "startlinecolor": "#2a3f5f"
            },
            "type": "carpet"
           }
          ],
          "choropleth": [
           {
            "colorbar": {
             "outlinewidth": 0,
             "ticks": ""
            },
            "type": "choropleth"
           }
          ],
          "contour": [
           {
            "colorbar": {
             "outlinewidth": 0,
             "ticks": ""
            },
            "colorscale": [
             [
              0,
              "#0d0887"
             ],
             [
              0.1111111111111111,
              "#46039f"
             ],
             [
              0.2222222222222222,
              "#7201a8"
             ],
             [
              0.3333333333333333,
              "#9c179e"
             ],
             [
              0.4444444444444444,
              "#bd3786"
             ],
             [
              0.5555555555555556,
              "#d8576b"
             ],
             [
              0.6666666666666666,
              "#ed7953"
             ],
             [
              0.7777777777777778,
              "#fb9f3a"
             ],
             [
              0.8888888888888888,
              "#fdca26"
             ],
             [
              1,
              "#f0f921"
             ]
            ],
            "type": "contour"
           }
          ],
          "contourcarpet": [
           {
            "colorbar": {
             "outlinewidth": 0,
             "ticks": ""
            },
            "type": "contourcarpet"
           }
          ],
          "heatmap": [
           {
            "colorbar": {
             "outlinewidth": 0,
             "ticks": ""
            },
            "colorscale": [
             [
              0,
              "#0d0887"
             ],
             [
              0.1111111111111111,
              "#46039f"
             ],
             [
              0.2222222222222222,
              "#7201a8"
             ],
             [
              0.3333333333333333,
              "#9c179e"
             ],
             [
              0.4444444444444444,
              "#bd3786"
             ],
             [
              0.5555555555555556,
              "#d8576b"
             ],
             [
              0.6666666666666666,
              "#ed7953"
             ],
             [
              0.7777777777777778,
              "#fb9f3a"
             ],
             [
              0.8888888888888888,
              "#fdca26"
             ],
             [
              1,
              "#f0f921"
             ]
            ],
            "type": "heatmap"
           }
          ],
          "heatmapgl": [
           {
            "colorbar": {
             "outlinewidth": 0,
             "ticks": ""
            },
            "colorscale": [
             [
              0,
              "#0d0887"
             ],
             [
              0.1111111111111111,
              "#46039f"
             ],
             [
              0.2222222222222222,
              "#7201a8"
             ],
             [
              0.3333333333333333,
              "#9c179e"
             ],
             [
              0.4444444444444444,
              "#bd3786"
             ],
             [
              0.5555555555555556,
              "#d8576b"
             ],
             [
              0.6666666666666666,
              "#ed7953"
             ],
             [
              0.7777777777777778,
              "#fb9f3a"
             ],
             [
              0.8888888888888888,
              "#fdca26"
             ],
             [
              1,
              "#f0f921"
             ]
            ],
            "type": "heatmapgl"
           }
          ],
          "histogram": [
           {
            "marker": {
             "pattern": {
              "fillmode": "overlay",
              "size": 10,
              "solidity": 0.2
             }
            },
            "type": "histogram"
           }
          ],
          "histogram2d": [
           {
            "colorbar": {
             "outlinewidth": 0,
             "ticks": ""
            },
            "colorscale": [
             [
              0,
              "#0d0887"
             ],
             [
              0.1111111111111111,
              "#46039f"
             ],
             [
              0.2222222222222222,
              "#7201a8"
             ],
             [
              0.3333333333333333,
              "#9c179e"
             ],
             [
              0.4444444444444444,
              "#bd3786"
             ],
             [
              0.5555555555555556,
              "#d8576b"
             ],
             [
              0.6666666666666666,
              "#ed7953"
             ],
             [
              0.7777777777777778,
              "#fb9f3a"
             ],
             [
              0.8888888888888888,
              "#fdca26"
             ],
             [
              1,
              "#f0f921"
             ]
            ],
            "type": "histogram2d"
           }
          ],
          "histogram2dcontour": [
           {
            "colorbar": {
             "outlinewidth": 0,
             "ticks": ""
            },
            "colorscale": [
             [
              0,
              "#0d0887"
             ],
             [
              0.1111111111111111,
              "#46039f"
             ],
             [
              0.2222222222222222,
              "#7201a8"
             ],
             [
              0.3333333333333333,
              "#9c179e"
             ],
             [
              0.4444444444444444,
              "#bd3786"
             ],
             [
              0.5555555555555556,
              "#d8576b"
             ],
             [
              0.6666666666666666,
              "#ed7953"
             ],
             [
              0.7777777777777778,
              "#fb9f3a"
             ],
             [
              0.8888888888888888,
              "#fdca26"
             ],
             [
              1,
              "#f0f921"
             ]
            ],
            "type": "histogram2dcontour"
           }
          ],
          "mesh3d": [
           {
            "colorbar": {
             "outlinewidth": 0,
             "ticks": ""
            },
            "type": "mesh3d"
           }
          ],
          "parcoords": [
           {
            "line": {
             "colorbar": {
              "outlinewidth": 0,
              "ticks": ""
             }
            },
            "type": "parcoords"
           }
          ],
          "pie": [
           {
            "automargin": true,
            "type": "pie"
           }
          ],
          "scatter": [
           {
            "fillpattern": {
             "fillmode": "overlay",
             "size": 10,
             "solidity": 0.2
            },
            "type": "scatter"
           }
          ],
          "scatter3d": [
           {
            "line": {
             "colorbar": {
              "outlinewidth": 0,
              "ticks": ""
             }
            },
            "marker": {
             "colorbar": {
              "outlinewidth": 0,
              "ticks": ""
             }
            },
            "type": "scatter3d"
           }
          ],
          "scattercarpet": [
           {
            "marker": {
             "colorbar": {
              "outlinewidth": 0,
              "ticks": ""
             }
            },
            "type": "scattercarpet"
           }
          ],
          "scattergeo": [
           {
            "marker": {
             "colorbar": {
              "outlinewidth": 0,
              "ticks": ""
             }
            },
            "type": "scattergeo"
           }
          ],
          "scattergl": [
           {
            "marker": {
             "colorbar": {
              "outlinewidth": 0,
              "ticks": ""
             }
            },
            "type": "scattergl"
           }
          ],
          "scattermapbox": [
           {
            "marker": {
             "colorbar": {
              "outlinewidth": 0,
              "ticks": ""
             }
            },
            "type": "scattermapbox"
           }
          ],
          "scatterpolar": [
           {
            "marker": {
             "colorbar": {
              "outlinewidth": 0,
              "ticks": ""
             }
            },
            "type": "scatterpolar"
           }
          ],
          "scatterpolargl": [
           {
            "marker": {
             "colorbar": {
              "outlinewidth": 0,
              "ticks": ""
             }
            },
            "type": "scatterpolargl"
           }
          ],
          "scatterternary": [
           {
            "marker": {
             "colorbar": {
              "outlinewidth": 0,
              "ticks": ""
             }
            },
            "type": "scatterternary"
           }
          ],
          "surface": [
           {
            "colorbar": {
             "outlinewidth": 0,
             "ticks": ""
            },
            "colorscale": [
             [
              0,
              "#0d0887"
             ],
             [
              0.1111111111111111,
              "#46039f"
             ],
             [
              0.2222222222222222,
              "#7201a8"
             ],
             [
              0.3333333333333333,
              "#9c179e"
             ],
             [
              0.4444444444444444,
              "#bd3786"
             ],
             [
              0.5555555555555556,
              "#d8576b"
             ],
             [
              0.6666666666666666,
              "#ed7953"
             ],
             [
              0.7777777777777778,
              "#fb9f3a"
             ],
             [
              0.8888888888888888,
              "#fdca26"
             ],
             [
              1,
              "#f0f921"
             ]
            ],
            "type": "surface"
           }
          ],
          "table": [
           {
            "cells": {
             "fill": {
              "color": "#EBF0F8"
             },
             "line": {
              "color": "white"
             }
            },
            "header": {
             "fill": {
              "color": "#C8D4E3"
             },
             "line": {
              "color": "white"
             }
            },
            "type": "table"
           }
          ]
         },
         "layout": {
          "annotationdefaults": {
           "arrowcolor": "#2a3f5f",
           "arrowhead": 0,
           "arrowwidth": 1
          },
          "autotypenumbers": "strict",
          "coloraxis": {
           "colorbar": {
            "outlinewidth": 0,
            "ticks": ""
           }
          },
          "colorscale": {
           "diverging": [
            [
             0,
             "#8e0152"
            ],
            [
             0.1,
             "#c51b7d"
            ],
            [
             0.2,
             "#de77ae"
            ],
            [
             0.3,
             "#f1b6da"
            ],
            [
             0.4,
             "#fde0ef"
            ],
            [
             0.5,
             "#f7f7f7"
            ],
            [
             0.6,
             "#e6f5d0"
            ],
            [
             0.7,
             "#b8e186"
            ],
            [
             0.8,
             "#7fbc41"
            ],
            [
             0.9,
             "#4d9221"
            ],
            [
             1,
             "#276419"
            ]
           ],
           "sequential": [
            [
             0,
             "#0d0887"
            ],
            [
             0.1111111111111111,
             "#46039f"
            ],
            [
             0.2222222222222222,
             "#7201a8"
            ],
            [
             0.3333333333333333,
             "#9c179e"
            ],
            [
             0.4444444444444444,
             "#bd3786"
            ],
            [
             0.5555555555555556,
             "#d8576b"
            ],
            [
             0.6666666666666666,
             "#ed7953"
            ],
            [
             0.7777777777777778,
             "#fb9f3a"
            ],
            [
             0.8888888888888888,
             "#fdca26"
            ],
            [
             1,
             "#f0f921"
            ]
           ],
           "sequentialminus": [
            [
             0,
             "#0d0887"
            ],
            [
             0.1111111111111111,
             "#46039f"
            ],
            [
             0.2222222222222222,
             "#7201a8"
            ],
            [
             0.3333333333333333,
             "#9c179e"
            ],
            [
             0.4444444444444444,
             "#bd3786"
            ],
            [
             0.5555555555555556,
             "#d8576b"
            ],
            [
             0.6666666666666666,
             "#ed7953"
            ],
            [
             0.7777777777777778,
             "#fb9f3a"
            ],
            [
             0.8888888888888888,
             "#fdca26"
            ],
            [
             1,
             "#f0f921"
            ]
           ]
          },
          "colorway": [
           "#636efa",
           "#EF553B",
           "#00cc96",
           "#ab63fa",
           "#FFA15A",
           "#19d3f3",
           "#FF6692",
           "#B6E880",
           "#FF97FF",
           "#FECB52"
          ],
          "font": {
           "color": "#2a3f5f"
          },
          "geo": {
           "bgcolor": "white",
           "lakecolor": "white",
           "landcolor": "#E5ECF6",
           "showlakes": true,
           "showland": true,
           "subunitcolor": "white"
          },
          "hoverlabel": {
           "align": "left"
          },
          "hovermode": "closest",
          "mapbox": {
           "style": "light"
          },
          "paper_bgcolor": "white",
          "plot_bgcolor": "#E5ECF6",
          "polar": {
           "angularaxis": {
            "gridcolor": "white",
            "linecolor": "white",
            "ticks": ""
           },
           "bgcolor": "#E5ECF6",
           "radialaxis": {
            "gridcolor": "white",
            "linecolor": "white",
            "ticks": ""
           }
          },
          "scene": {
           "xaxis": {
            "backgroundcolor": "#E5ECF6",
            "gridcolor": "white",
            "gridwidth": 2,
            "linecolor": "white",
            "showbackground": true,
            "ticks": "",
            "zerolinecolor": "white"
           },
           "yaxis": {
            "backgroundcolor": "#E5ECF6",
            "gridcolor": "white",
            "gridwidth": 2,
            "linecolor": "white",
            "showbackground": true,
            "ticks": "",
            "zerolinecolor": "white"
           },
           "zaxis": {
            "backgroundcolor": "#E5ECF6",
            "gridcolor": "white",
            "gridwidth": 2,
            "linecolor": "white",
            "showbackground": true,
            "ticks": "",
            "zerolinecolor": "white"
           }
          },
          "shapedefaults": {
           "line": {
            "color": "#2a3f5f"
           }
          },
          "ternary": {
           "aaxis": {
            "gridcolor": "white",
            "linecolor": "white",
            "ticks": ""
           },
           "baxis": {
            "gridcolor": "white",
            "linecolor": "white",
            "ticks": ""
           },
           "bgcolor": "#E5ECF6",
           "caxis": {
            "gridcolor": "white",
            "linecolor": "white",
            "ticks": ""
           }
          },
          "title": {
           "x": 0.05
          },
          "xaxis": {
           "automargin": true,
           "gridcolor": "white",
           "linecolor": "white",
           "ticks": "",
           "title": {
            "standoff": 15
           },
           "zerolinecolor": "white",
           "zerolinewidth": 2
          },
          "yaxis": {
           "automargin": true,
           "gridcolor": "white",
           "linecolor": "white",
           "ticks": "",
           "title": {
            "standoff": 15
           },
           "zerolinecolor": "white",
           "zerolinewidth": 2
          }
         }
        },
        "title": {
         "text": "LLM Wins by # of Rounds"
        },
        "xaxis": {
         "anchor": "y",
         "autorange": true,
         "domain": [
          0,
          1
         ],
         "range": [
          0.5,
          5.5
         ],
         "title": {
          "text": "Number of Rounds in the Game"
         },
         "type": "linear"
        },
        "yaxis": {
         "anchor": "x",
         "autorange": true,
         "domain": [
          0,
          1
         ],
         "range": [
          0,
          4.2105263157894735
         ],
         "title": {
          "text": "count"
         }
        }
       }
      },
      "image/png": "[encoded data removed]",
      "text/html": [
       "<div>                            <div id=\"c66201b8-0b04-46ca-80de-5d7d811fc41d\" class=\"plotly-graph-div\" style=\"height:525px; width:100%;\"></div>            <script type=\"text/javascript\">                require([\"plotly\"], function(Plotly) {                    window.PLOTLYENV=window.PLOTLYENV || {};                                    if (document.getElementById(\"c66201b8-0b04-46ca-80de-5d7d811fc41d\")) {                    Plotly.newPlot(                        \"c66201b8-0b04-46ca-80de-5d7d811fc41d\",                        [{\"alignmentgroup\":\"True\",\"bingroup\":\"x\",\"hovertemplate\":\"winner=Villagers\\u003cbr\\u003eround=%{x}\\u003cbr\\u003ecount=%{y}\\u003cextra\\u003e\\u003c\\u002fextra\\u003e\",\"legendgroup\":\"Villagers\",\"marker\":{\"color\":\"#636efa\",\"pattern\":{\"shape\":\"\"}},\"name\":\"Villagers\",\"offsetgroup\":\"Villagers\",\"orientation\":\"v\",\"showlegend\":true,\"x\":[1,1,5,1,2,2],\"xaxis\":\"x\",\"yaxis\":\"y\",\"type\":\"histogram\"},{\"alignmentgroup\":\"True\",\"bingroup\":\"x\",\"hovertemplate\":\"winner=Werewolves\\u003cbr\\u003eround=%{x}\\u003cbr\\u003ecount=%{y}\\u003cextra\\u003e\\u003c\\u002fextra\\u003e\",\"legendgroup\":\"Werewolves\",\"marker\":{\"color\":\"#EF553B\",\"pattern\":{\"shape\":\"\"}},\"name\":\"Werewolves\",\"offsetgroup\":\"Werewolves\",\"orientation\":\"v\",\"showlegend\":true,\"x\":[3,2,3,3,2],\"xaxis\":\"x\",\"yaxis\":\"y\",\"type\":\"histogram\"}],                        {\"template\":{\"data\":{\"histogram2dcontour\":[{\"type\":\"histogram2dcontour\",\"colorbar\":{\"outlinewidth\":0,\"ticks\":\"\"},\"colorscale\":[[0.0,\"#0d0887\"],[0.1111111111111111,\"#46039f\"],[0.2222222222222222,\"#7201a8\"],[0.3333333333333333,\"#9c179e\"],[0.4444444444444444,\"#bd3786\"],[0.5555555555555556,\"#d8576b\"],[0.6666666666666666,\"#ed7953\"],[0.7777777777777778,\"#fb9f3a\"],[0.8888888888888888,\"#fdca26\"],[1.0,\"#f0f921\"]]}],\"choropleth\":[{\"type\":\"choropleth\",\"colorbar\":{\"outlinewidth\":0,\"ticks\":\"\"}}],\"histogram2d\":[{\"type\":\"histogram2d\",\"colorbar\":{\"outlinewidth\":0,\"ticks\":\"\"},\"colorscale\":[[0.0,\"#0d0887\"],[0.1111111111111111,\"#46039f\"],[0.2222222222222222,\"#7201a8\"],[0.3333333333333333,\"#9c179e\"],[0.4444444444444444,\"#bd3786\"],[0.5555555555555556,\"#d8576b\"],[0.6666666666666666,\"#ed7953\"],[0.7777777777777778,\"#fb9f3a\"],[0.8888888888888888,\"#fdca26\"],[1.0,\"#f0f921\"]]}],\"heatmap\":[{\"type\":\"heatmap\",\"colorbar\":{\"outlinewidth\":0,\"ticks\":\"\"},\"colorscale\":[[0.0,\"#0d0887\"],[0.1111111111111111,\"#46039f\"],[0.2222222222222222,\"#7201a8\"],[0.3333333333333333,\"#9c179e\"],[0.4444444444444444,\"#bd3786\"],[0.5555555555555556,\"#d8576b\"],[0.6666666666666666,\"#ed7953\"],[0.7777777777777778,\"#fb9f3a\"],[0.8888888888888888,\"#fdca26\"],[1.0,\"#f0f921\"]]}],\"heatmapgl\":[{\"type\":\"heatmapgl\",\"colorbar\":{\"outlinewidth\":0,\"ticks\":\"\"},\"colorscale\":[[0.0,\"#0d0887\"],[0.1111111111111111,\"#46039f\"],[0.2222222222222222,\"#7201a8\"],[0.3333333333333333,\"#9c179e\"],[0.4444444444444444,\"#bd3786\"],[0.5555555555555556,\"#d8576b\"],[0.6666666666666666,\"#ed7953\"],[0.7777777777777778,\"#fb9f3a\"],[0.8888888888888888,\"#fdca26\"],[1.0,\"#f0f921\"]]}],\"contourcarpet\":[{\"type\":\"contourcarpet\",\"colorbar\":{\"outlinewidth\":0,\"ticks\":\"\"}}],\"contour\":[{\"type\":\"contour\",\"colorbar\":{\"outlinewidth\":0,\"ticks\":\"\"},\"colorscale\":[[0.0,\"#0d0887\"],[0.1111111111111111,\"#46039f\"],[0.2222222222222222,\"#7201a8\"],[0.3333333333333333,\"#9c179e\"],[0.4444444444444444,\"#bd3786\"],[0.5555555555555556,\"#d8576b\"],[0.6666666666666666,\"#ed7953\"],[0.7777777777777778,\"#fb9f3a\"],[0.8888888888888888,\"#fdca26\"],[1.0,\"#f0f921\"]]}],\"surface\":[{\"type\":\"surface\",\"colorbar\":{\"outlinewidth\":0,\"ticks\":\"\"},\"colorscale\":[[0.0,\"#0d0887\"],[0.1111111111111111,\"#46039f\"],[0.2222222222222222,\"#7201a8\"],[0.3333333333333333,\"#9c179e\"],[0.4444444444444444,\"#bd3786\"],[0.5555555555555556,\"#d8576b\"],[0.6666666666666666,\"#ed7953\"],[0.7777777777777778,\"#fb9f3a\"],[0.8888888888888888,\"#fdca26\"],[1.0,\"#f0f921\"]]}],\"mesh3d\":[{\"type\":\"mesh3d\",\"colorbar\":{\"outlinewidth\":0,\"ticks\":\"\"}}],\"scatter\":[{\"fillpattern\":{\"fillmode\":\"overlay\",\"size\":10,\"solidity\":0.2},\"type\":\"scatter\"}],\"parcoords\":[{\"type\":\"parcoords\",\"line\":{\"colorbar\":{\"outlinewidth\":0,\"ticks\":\"\"}}}],\"scatterpolargl\":[{\"type\":\"scatterpolargl\",\"marker\":{\"colorbar\":{\"outlinewidth\":0,\"ticks\":\"\"}}}],\"bar\":[{\"error_x\":{\"color\":\"#2a3f5f\"},\"error_y\":{\"color\":\"#2a3f5f\"},\"marker\":{\"line\":{\"color\":\"#E5ECF6\",\"width\":0.5},\"pattern\":{\"fillmode\":\"overlay\",\"size\":10,\"solidity\":0.2}},\"type\":\"bar\"}],\"scattergeo\":[{\"type\":\"scattergeo\",\"marker\":{\"colorbar\":{\"outlinewidth\":0,\"ticks\":\"\"}}}],\"scatterpolar\":[{\"type\":\"scatterpolar\",\"marker\":{\"colorbar\":{\"outlinewidth\":0,\"ticks\":\"\"}}}],\"histogram\":[{\"marker\":{\"pattern\":{\"fillmode\":\"overlay\",\"size\":10,\"solidity\":0.2}},\"type\":\"histogram\"}],\"scattergl\":[{\"type\":\"scattergl\",\"marker\":{\"colorbar\":{\"outlinewidth\":0,\"ticks\":\"\"}}}],\"scatter3d\":[{\"type\":\"scatter3d\",\"line\":{\"colorbar\":{\"outlinewidth\":0,\"ticks\":\"\"}},\"marker\":{\"colorbar\":{\"outlinewidth\":0,\"ticks\":\"\"}}}],\"scattermapbox\":[{\"type\":\"scattermapbox\",\"marker\":{\"colorbar\":{\"outlinewidth\":0,\"ticks\":\"\"}}}],\"scatterternary\":[{\"type\":\"scatterternary\",\"marker\":{\"colorbar\":{\"outlinewidth\":0,\"ticks\":\"\"}}}],\"scattercarpet\":[{\"type\":\"scattercarpet\",\"marker\":{\"colorbar\":{\"outlinewidth\":0,\"ticks\":\"\"}}}],\"carpet\":[{\"aaxis\":{\"endlinecolor\":\"#2a3f5f\",\"gridcolor\":\"white\",\"linecolor\":\"white\",\"minorgridcolor\":\"white\",\"startlinecolor\":\"#2a3f5f\"},\"baxis\":{\"endlinecolor\":\"#2a3f5f\",\"gridcolor\":\"white\",\"linecolor\":\"white\",\"minorgridcolor\":\"white\",\"startlinecolor\":\"#2a3f5f\"},\"type\":\"carpet\"}],\"table\":[{\"cells\":{\"fill\":{\"color\":\"#EBF0F8\"},\"line\":{\"color\":\"white\"}},\"header\":{\"fill\":{\"color\":\"#C8D4E3\"},\"line\":{\"color\":\"white\"}},\"type\":\"table\"}],\"barpolar\":[{\"marker\":{\"line\":{\"color\":\"#E5ECF6\",\"width\":0.5},\"pattern\":{\"fillmode\":\"overlay\",\"size\":10,\"solidity\":0.2}},\"type\":\"barpolar\"}],\"pie\":[{\"automargin\":true,\"type\":\"pie\"}]},\"layout\":{\"autotypenumbers\":\"strict\",\"colorway\":[\"#636efa\",\"#EF553B\",\"#00cc96\",\"#ab63fa\",\"#FFA15A\",\"#19d3f3\",\"#FF6692\",\"#B6E880\",\"#FF97FF\",\"#FECB52\"],\"font\":{\"color\":\"#2a3f5f\"},\"hovermode\":\"closest\",\"hoverlabel\":{\"align\":\"left\"},\"paper_bgcolor\":\"white\",\"plot_bgcolor\":\"#E5ECF6\",\"polar\":{\"bgcolor\":\"#E5ECF6\",\"angularaxis\":{\"gridcolor\":\"white\",\"linecolor\":\"white\",\"ticks\":\"\"},\"radialaxis\":{\"gridcolor\":\"white\",\"linecolor\":\"white\",\"ticks\":\"\"}},\"ternary\":{\"bgcolor\":\"#E5ECF6\",\"aaxis\":{\"gridcolor\":\"white\",\"linecolor\":\"white\",\"ticks\":\"\"},\"baxis\":{\"gridcolor\":\"white\",\"linecolor\":\"white\",\"ticks\":\"\"},\"caxis\":{\"gridcolor\":\"white\",\"linecolor\":\"white\",\"ticks\":\"\"}},\"coloraxis\":{\"colorbar\":{\"outlinewidth\":0,\"ticks\":\"\"}},\"colorscale\":{\"sequential\":[[0.0,\"#0d0887\"],[0.1111111111111111,\"#46039f\"],[0.2222222222222222,\"#7201a8\"],[0.3333333333333333,\"#9c179e\"],[0.4444444444444444,\"#bd3786\"],[0.5555555555555556,\"#d8576b\"],[0.6666666666666666,\"#ed7953\"],[0.7777777777777778,\"#fb9f3a\"],[0.8888888888888888,\"#fdca26\"],[1.0,\"#f0f921\"]],\"sequentialminus\":[[0.0,\"#0d0887\"],[0.1111111111111111,\"#46039f\"],[0.2222222222222222,\"#7201a8\"],[0.3333333333333333,\"#9c179e\"],[0.4444444444444444,\"#bd3786\"],[0.5555555555555556,\"#d8576b\"],[0.6666666666666666,\"#ed7953\"],[0.7777777777777778,\"#fb9f3a\"],[0.8888888888888888,\"#fdca26\"],[1.0,\"#f0f921\"]],\"diverging\":[[0,\"#8e0152\"],[0.1,\"#c51b7d\"],[0.2,\"#de77ae\"],[0.3,\"#f1b6da\"],[0.4,\"#fde0ef\"],[0.5,\"#f7f7f7\"],[0.6,\"#e6f5d0\"],[0.7,\"#b8e186\"],[0.8,\"#7fbc41\"],[0.9,\"#4d9221\"],[1,\"#276419\"]]},\"xaxis\":{\"gridcolor\":\"white\",\"linecolor\":\"white\",\"ticks\":\"\",\"title\":{\"standoff\":15},\"zerolinecolor\":\"white\",\"automargin\":true,\"zerolinewidth\":2},\"yaxis\":{\"gridcolor\":\"white\",\"linecolor\":\"white\",\"ticks\":\"\",\"title\":{\"standoff\":15},\"zerolinecolor\":\"white\",\"automargin\":true,\"zerolinewidth\":2},\"scene\":{\"xaxis\":{\"backgroundcolor\":\"#E5ECF6\",\"gridcolor\":\"white\",\"linecolor\":\"white\",\"showbackground\":true,\"ticks\":\"\",\"zerolinecolor\":\"white\",\"gridwidth\":2},\"yaxis\":{\"backgroundcolor\":\"#E5ECF6\",\"gridcolor\":\"white\",\"linecolor\":\"white\",\"showbackground\":true,\"ticks\":\"\",\"zerolinecolor\":\"white\",\"gridwidth\":2},\"zaxis\":{\"backgroundcolor\":\"#E5ECF6\",\"gridcolor\":\"white\",\"linecolor\":\"white\",\"showbackground\":true,\"ticks\":\"\",\"zerolinecolor\":\"white\",\"gridwidth\":2}},\"shapedefaults\":{\"line\":{\"color\":\"#2a3f5f\"}},\"annotationdefaults\":{\"arrowcolor\":\"#2a3f5f\",\"arrowhead\":0,\"arrowwidth\":1},\"geo\":{\"bgcolor\":\"white\",\"landcolor\":\"#E5ECF6\",\"subunitcolor\":\"white\",\"showland\":true,\"showlakes\":true,\"lakecolor\":\"white\"},\"title\":{\"x\":0.05},\"mapbox\":{\"style\":\"light\"}}},\"xaxis\":{\"anchor\":\"y\",\"domain\":[0.0,1.0],\"title\":{\"text\":\"Number of Rounds in the Game\"}},\"yaxis\":{\"anchor\":\"x\",\"domain\":[0.0,1.0],\"title\":{\"text\":\"count\"}},\"legend\":{\"title\":{\"text\":\"winner\"},\"tracegroupgap\":0},\"margin\":{\"t\":60},\"barmode\":\"relative\",\"title\":{\"text\":\"LLM Wins by # of Rounds\"}},                        {\"responsive\": true}                    ).then(function(){\n",
       "                            \n",
       "var gd = document.getElementById('c66201b8-0b04-46ca-80de-5d7d811fc41d');\n",
       "var x = new MutationObserver(function (mutations, observer) {{\n",
       "        var display = window.getComputedStyle(gd).display;\n",
       "        if (!display || display === 'none') {{\n",
       "            console.log([gd, 'removed!']);\n",
       "            Plotly.purge(gd);\n",
       "            observer.disconnect();\n",
       "        }}\n",
       "}});\n",
       "\n",
       "// Listen for the removal of the full notebook cells\n",
       "var notebookContainer = gd.closest('#notebook-container');\n",
       "if (notebookContainer) {{\n",
       "    x.observe(notebookContainer, {childList: true});\n",
       "}}\n",
       "\n",
       "// Listen for the clearing of the current output cell\n",
       "var outputEl = gd.closest('.output');\n",
       "if (outputEl) {{\n",
       "    x.observe(outputEl, {childList: true});\n",
       "}}\n",
       "\n",
       "                        })                };                });            </script>        </div>"
      ]
     },
     "metadata": {},
     "output_type": "display_data"
    }
   ],
   "source": [
    "## Win over time by number of rounds\n",
    "\n",
    "fig = px.histogram(llm_rounds_df.groupby(\"game_id\")[[\"round\", \"winner\"]].last(), x=\"round\", color=\"winner\")\n",
    "fig.update_layout(title=\"LLM Wins by # of Rounds\", xaxis_title=\"Number of Rounds in the Game\")\n",
    "fig.show()"
   ]
  },
  {
   "cell_type": "markdown",
   "id": "1925f251-34cf-44db-8eee-09d92807317f",
   "metadata": {},
   "source": [
    "### Strategies used"
   ]
  },
  {
   "cell_type": "code",
   "execution_count": 24,
   "id": "9491e331-a19e-4744-b392-c167d4a658ad",
   "metadata": {
    "execution": {
     "iopub.execute_input": "2025-04-23T02:37:59.969023Z",
     "iopub.status.busy": "2025-04-23T02:37:59.968664Z",
     "iopub.status.idle": "2025-04-23T02:37:59.972446Z",
     "shell.execute_reply": "2025-04-23T02:37:59.971617Z",
     "shell.execute_reply.started": "2025-04-23T02:37:59.968998Z"
    }
   },
   "outputs": [],
   "source": [
    "## Overall strategy used bar plot"
   ]
  },
  {
   "cell_type": "code",
   "execution_count": null,
   "id": "57f573b2-2d9e-4d64-a656-cc6268d5e203",
   "metadata": {},
   "outputs": [],
   "source": [
    "## Strategy used over time (LLMs)"
   ]
  },
  {
   "cell_type": "code",
   "execution_count": null,
   "id": "b7b2cf60-a714-4ea3-843c-0aa4cee31432",
   "metadata": {},
   "outputs": [],
   "source": [
    "## Strategy used by player role bar plot"
   ]
  },
  {
   "cell_type": "code",
   "execution_count": 25,
   "id": "0e1d6dca-3cb9-4712-b716-611ea92addb5",
   "metadata": {
    "execution": {
     "iopub.execute_input": "2025-04-23T02:40:48.111726Z",
     "iopub.status.busy": "2025-04-23T02:40:48.110947Z",
     "iopub.status.idle": "2025-04-23T02:40:48.115364Z",
     "shell.execute_reply": "2025-04-23T02:40:48.114387Z",
     "shell.execute_reply.started": "2025-04-23T02:40:48.111693Z"
    }
   },
   "outputs": [],
   "source": [
    "## PCA/Clustering of strategies?"
   ]
  },
  {
   "cell_type": "markdown",
   "id": "23ee87e0-8ec9-448b-8a8e-d9985c9c554c",
   "metadata": {},
   "source": [
    "### Talking time vs. was voted on\n",
    "\n",
    "Investigating whether a vote was cast upon a person, compared to how much they talked"
   ]
  },
  {
   "cell_type": "code",
   "execution_count": 106,
   "id": "40ac77c6-ea9e-4742-8626-a1104902e601",
   "metadata": {
    "execution": {
     "iopub.execute_input": "2025-04-23T05:45:49.203195Z",
     "iopub.status.busy": "2025-04-23T05:45:49.202871Z",
     "iopub.status.idle": "2025-04-23T05:45:49.359160Z",
     "shell.execute_reply": "2025-04-23T05:45:49.358229Z",
     "shell.execute_reply.started": "2025-04-23T05:45:49.203170Z"
    }
   },
   "outputs": [
    {
     "data": {
      "application/vnd.plotly.v1+json": {
       "config": {
        "plotlyServerURL": "https://plot.ly"
       },
       "data": [
        {
         "name": "Total talking time",
         "offsetgroup": "1",
         "type": "bar",
         "x": [
          "alana",
          "alvin",
          "alysha",
          "ashley",
          "audrey",
          "brett",
          "caitlynn",
          "carly",
          "chris",
          "clint",
          "dan",
          "dustin",
          "dylan",
          "ed",
          "elliot",
          "eric",
          "erin",
          "george",
          "haak",
          "hunter",
          "jack",
          "jacob",
          "james",
          "jessica",
          "julie",
          "justin",
          "kaelan",
          "katie",
          "kelsey",
          "laura",
          "margaret",
          "matt",
          "meghan",
          "meryl",
          "mike",
          "mitchell",
          "paul",
          "pete",
          "robin",
          "sarah",
          "sean",
          "sebastian",
          "shane",
          "sian",
          "sukeshi",
          "tyler",
          "zack"
         ],
         "y": [
          2619,
          1764,
          560,
          1070,
          688,
          3817,
          3601,
          253,
          2758,
          1204,
          1664,
          660,
          1012,
          417,
          843,
          1579,
          1619,
          664,
          219,
          3069,
          1075,
          3898,
          12528,
          213,
          760,
          27359,
          736,
          3150,
          540,
          990,
          1527,
          82,
          780,
          439,
          13762,
          23462,
          14655,
          1187,
          211,
          306,
          1873,
          685,
          71,
          865,
          1697,
          2029,
          1156
         ],
         "yaxis": "y"
        },
        {
         "name": "Was voted for",
         "offsetgroup": "2",
         "type": "bar",
         "x": [
          "alana",
          "alvin",
          "alysha",
          "ashley",
          "audrey",
          "brett",
          "caitlynn",
          "carly",
          "chris",
          "clint",
          "dan",
          "dustin",
          "dylan",
          "ed",
          "elliot",
          "eric",
          "erin",
          "george",
          "haak",
          "hunter",
          "jack",
          "jacob",
          "james",
          "jessica",
          "julie",
          "justin",
          "kaelan",
          "katie",
          "kelsey",
          "laura",
          "margaret",
          "matt",
          "meghan",
          "meryl",
          "mike",
          "mitchell",
          "paul",
          "pete",
          "robin",
          "sarah",
          "sean",
          "sebastian",
          "shane",
          "sian",
          "sukeshi",
          "tyler",
          "zack"
         ],
         "y": [
          15,
          2,
          8,
          12,
          3,
          14,
          32,
          2,
          6,
          7,
          9,
          1,
          3,
          1,
          5,
          11,
          8,
          2,
          5,
          4,
          4,
          13,
          42,
          3,
          5,
          118,
          1,
          10,
          5,
          17,
          1,
          1,
          6,
          1,
          69,
          138,
          67,
          5,
          2,
          2,
          13,
          4,
          5,
          5,
          8,
          5,
          10
         ],
         "yaxis": "y2"
        }
       ],
       "layout": {
        "autosize": true,
        "barmode": "group",
        "template": {
         "data": {
          "bar": [
           {
            "error_x": {
             "color": "#2a3f5f"
            },
            "error_y": {
             "color": "#2a3f5f"
            },
            "marker": {
             "line": {
              "color": "#E5ECF6",
              "width": 0.5
             },
             "pattern": {
              "fillmode": "overlay",
              "size": 10,
              "solidity": 0.2
             }
            },
            "type": "bar"
           }
          ],
          "barpolar": [
           {
            "marker": {
             "line": {
              "color": "#E5ECF6",
              "width": 0.5
             },
             "pattern": {
              "fillmode": "overlay",
              "size": 10,
              "solidity": 0.2
             }
            },
            "type": "barpolar"
           }
          ],
          "carpet": [
           {
            "aaxis": {
             "endlinecolor": "#2a3f5f",
             "gridcolor": "white",
             "linecolor": "white",
             "minorgridcolor": "white",
             "startlinecolor": "#2a3f5f"
            },
            "baxis": {
             "endlinecolor": "#2a3f5f",
             "gridcolor": "white",
             "linecolor": "white",
             "minorgridcolor": "white",
             "startlinecolor": "#2a3f5f"
            },
            "type": "carpet"
           }
          ],
          "choropleth": [
           {
            "colorbar": {
             "outlinewidth": 0,
             "ticks": ""
            },
            "type": "choropleth"
           }
          ],
          "contour": [
           {
            "colorbar": {
             "outlinewidth": 0,
             "ticks": ""
            },
            "colorscale": [
             [
              0,
              "#0d0887"
             ],
             [
              0.1111111111111111,
              "#46039f"
             ],
             [
              0.2222222222222222,
              "#7201a8"
             ],
             [
              0.3333333333333333,
              "#9c179e"
             ],
             [
              0.4444444444444444,
              "#bd3786"
             ],
             [
              0.5555555555555556,
              "#d8576b"
             ],
             [
              0.6666666666666666,
              "#ed7953"
             ],
             [
              0.7777777777777778,
              "#fb9f3a"
             ],
             [
              0.8888888888888888,
              "#fdca26"
             ],
             [
              1,
              "#f0f921"
             ]
            ],
            "type": "contour"
           }
          ],
          "contourcarpet": [
           {
            "colorbar": {
             "outlinewidth": 0,
             "ticks": ""
            },
            "type": "contourcarpet"
           }
          ],
          "heatmap": [
           {
            "colorbar": {
             "outlinewidth": 0,
             "ticks": ""
            },
            "colorscale": [
             [
              0,
              "#0d0887"
             ],
             [
              0.1111111111111111,
              "#46039f"
             ],
             [
              0.2222222222222222,
              "#7201a8"
             ],
             [
              0.3333333333333333,
              "#9c179e"
             ],
             [
              0.4444444444444444,
              "#bd3786"
             ],
             [
              0.5555555555555556,
              "#d8576b"
             ],
             [
              0.6666666666666666,
              "#ed7953"
             ],
             [
              0.7777777777777778,
              "#fb9f3a"
             ],
             [
              0.8888888888888888,
              "#fdca26"
             ],
             [
              1,
              "#f0f921"
             ]
            ],
            "type": "heatmap"
           }
          ],
          "heatmapgl": [
           {
            "colorbar": {
             "outlinewidth": 0,
             "ticks": ""
            },
            "colorscale": [
             [
              0,
              "#0d0887"
             ],
             [
              0.1111111111111111,
              "#46039f"
             ],
             [
              0.2222222222222222,
              "#7201a8"
             ],
             [
              0.3333333333333333,
              "#9c179e"
             ],
             [
              0.4444444444444444,
              "#bd3786"
             ],
             [
              0.5555555555555556,
              "#d8576b"
             ],
             [
              0.6666666666666666,
              "#ed7953"
             ],
             [
              0.7777777777777778,
              "#fb9f3a"
             ],
             [
              0.8888888888888888,
              "#fdca26"
             ],
             [
              1,
              "#f0f921"
             ]
            ],
            "type": "heatmapgl"
           }
          ],
          "histogram": [
           {
            "marker": {
             "pattern": {
              "fillmode": "overlay",
              "size": 10,
              "solidity": 0.2
             }
            },
            "type": "histogram"
           }
          ],
          "histogram2d": [
           {
            "colorbar": {
             "outlinewidth": 0,
             "ticks": ""
            },
            "colorscale": [
             [
              0,
              "#0d0887"
             ],
             [
              0.1111111111111111,
              "#46039f"
             ],
             [
              0.2222222222222222,
              "#7201a8"
             ],
             [
              0.3333333333333333,
              "#9c179e"
             ],
             [
              0.4444444444444444,
              "#bd3786"
             ],
             [
              0.5555555555555556,
              "#d8576b"
             ],
             [
              0.6666666666666666,
              "#ed7953"
             ],
             [
              0.7777777777777778,
              "#fb9f3a"
             ],
             [
              0.8888888888888888,
              "#fdca26"
             ],
             [
              1,
              "#f0f921"
             ]
            ],
            "type": "histogram2d"
           }
          ],
          "histogram2dcontour": [
           {
            "colorbar": {
             "outlinewidth": 0,
             "ticks": ""
            },
            "colorscale": [
             [
              0,
              "#0d0887"
             ],
             [
              0.1111111111111111,
              "#46039f"
             ],
             [
              0.2222222222222222,
              "#7201a8"
             ],
             [
              0.3333333333333333,
              "#9c179e"
             ],
             [
              0.4444444444444444,
              "#bd3786"
             ],
             [
              0.5555555555555556,
              "#d8576b"
             ],
             [
              0.6666666666666666,
              "#ed7953"
             ],
             [
              0.7777777777777778,
              "#fb9f3a"
             ],
             [
              0.8888888888888888,
              "#fdca26"
             ],
             [
              1,
              "#f0f921"
             ]
            ],
            "type": "histogram2dcontour"
           }
          ],
          "mesh3d": [
           {
            "colorbar": {
             "outlinewidth": 0,
             "ticks": ""
            },
            "type": "mesh3d"
           }
          ],
          "parcoords": [
           {
            "line": {
             "colorbar": {
              "outlinewidth": 0,
              "ticks": ""
             }
            },
            "type": "parcoords"
           }
          ],
          "pie": [
           {
            "automargin": true,
            "type": "pie"
           }
          ],
          "scatter": [
           {
            "fillpattern": {
             "fillmode": "overlay",
             "size": 10,
             "solidity": 0.2
            },
            "type": "scatter"
           }
          ],
          "scatter3d": [
           {
            "line": {
             "colorbar": {
              "outlinewidth": 0,
              "ticks": ""
             }
            },
            "marker": {
             "colorbar": {
              "outlinewidth": 0,
              "ticks": ""
             }
            },
            "type": "scatter3d"
           }
          ],
          "scattercarpet": [
           {
            "marker": {
             "colorbar": {
              "outlinewidth": 0,
              "ticks": ""
             }
            },
            "type": "scattercarpet"
           }
          ],
          "scattergeo": [
           {
            "marker": {
             "colorbar": {
              "outlinewidth": 0,
              "ticks": ""
             }
            },
            "type": "scattergeo"
           }
          ],
          "scattergl": [
           {
            "marker": {
             "colorbar": {
              "outlinewidth": 0,
              "ticks": ""
             }
            },
            "type": "scattergl"
           }
          ],
          "scattermapbox": [
           {
            "marker": {
             "colorbar": {
              "outlinewidth": 0,
              "ticks": ""
             }
            },
            "type": "scattermapbox"
           }
          ],
          "scatterpolar": [
           {
            "marker": {
             "colorbar": {
              "outlinewidth": 0,
              "ticks": ""
             }
            },
            "type": "scatterpolar"
           }
          ],
          "scatterpolargl": [
           {
            "marker": {
             "colorbar": {
              "outlinewidth": 0,
              "ticks": ""
             }
            },
            "type": "scatterpolargl"
           }
          ],
          "scatterternary": [
           {
            "marker": {
             "colorbar": {
              "outlinewidth": 0,
              "ticks": ""
             }
            },
            "type": "scatterternary"
           }
          ],
          "surface": [
           {
            "colorbar": {
             "outlinewidth": 0,
             "ticks": ""
            },
            "colorscale": [
             [
              0,
              "#0d0887"
             ],
             [
              0.1111111111111111,
              "#46039f"
             ],
             [
              0.2222222222222222,
              "#7201a8"
             ],
             [
              0.3333333333333333,
              "#9c179e"
             ],
             [
              0.4444444444444444,
              "#bd3786"
             ],
             [
              0.5555555555555556,
              "#d8576b"
             ],
             [
              0.6666666666666666,
              "#ed7953"
             ],
             [
              0.7777777777777778,
              "#fb9f3a"
             ],
             [
              0.8888888888888888,
              "#fdca26"
             ],
             [
              1,
              "#f0f921"
             ]
            ],
            "type": "surface"
           }
          ],
          "table": [
           {
            "cells": {
             "fill": {
              "color": "#EBF0F8"
             },
             "line": {
              "color": "white"
             }
            },
            "header": {
             "fill": {
              "color": "#C8D4E3"
             },
             "line": {
              "color": "white"
             }
            },
            "type": "table"
           }
          ]
         },
         "layout": {
          "annotationdefaults": {
           "arrowcolor": "#2a3f5f",
           "arrowhead": 0,
           "arrowwidth": 1
          },
          "autotypenumbers": "strict",
          "coloraxis": {
           "colorbar": {
            "outlinewidth": 0,
            "ticks": ""
           }
          },
          "colorscale": {
           "diverging": [
            [
             0,
             "#8e0152"
            ],
            [
             0.1,
             "#c51b7d"
            ],
            [
             0.2,
             "#de77ae"
            ],
            [
             0.3,
             "#f1b6da"
            ],
            [
             0.4,
             "#fde0ef"
            ],
            [
             0.5,
             "#f7f7f7"
            ],
            [
             0.6,
             "#e6f5d0"
            ],
            [
             0.7,
             "#b8e186"
            ],
            [
             0.8,
             "#7fbc41"
            ],
            [
             0.9,
             "#4d9221"
            ],
            [
             1,
             "#276419"
            ]
           ],
           "sequential": [
            [
             0,
             "#0d0887"
            ],
            [
             0.1111111111111111,
             "#46039f"
            ],
            [
             0.2222222222222222,
             "#7201a8"
            ],
            [
             0.3333333333333333,
             "#9c179e"
            ],
            [
             0.4444444444444444,
             "#bd3786"
            ],
            [
             0.5555555555555556,
             "#d8576b"
            ],
            [
             0.6666666666666666,
             "#ed7953"
            ],
            [
             0.7777777777777778,
             "#fb9f3a"
            ],
            [
             0.8888888888888888,
             "#fdca26"
            ],
            [
             1,
             "#f0f921"
            ]
           ],
           "sequentialminus": [
            [
             0,
             "#0d0887"
            ],
            [
             0.1111111111111111,
             "#46039f"
            ],
            [
             0.2222222222222222,
             "#7201a8"
            ],
            [
             0.3333333333333333,
             "#9c179e"
            ],
            [
             0.4444444444444444,
             "#bd3786"
            ],
            [
             0.5555555555555556,
             "#d8576b"
            ],
            [
             0.6666666666666666,
             "#ed7953"
            ],
            [
             0.7777777777777778,
             "#fb9f3a"
            ],
            [
             0.8888888888888888,
             "#fdca26"
            ],
            [
             1,
             "#f0f921"
            ]
           ]
          },
          "colorway": [
           "#636efa",
           "#EF553B",
           "#00cc96",
           "#ab63fa",
           "#FFA15A",
           "#19d3f3",
           "#FF6692",
           "#B6E880",
           "#FF97FF",
           "#FECB52"
          ],
          "font": {
           "color": "#2a3f5f"
          },
          "geo": {
           "bgcolor": "white",
           "lakecolor": "white",
           "landcolor": "#E5ECF6",
           "showlakes": true,
           "showland": true,
           "subunitcolor": "white"
          },
          "hoverlabel": {
           "align": "left"
          },
          "hovermode": "closest",
          "mapbox": {
           "style": "light"
          },
          "paper_bgcolor": "white",
          "plot_bgcolor": "#E5ECF6",
          "polar": {
           "angularaxis": {
            "gridcolor": "white",
            "linecolor": "white",
            "ticks": ""
           },
           "bgcolor": "#E5ECF6",
           "radialaxis": {
            "gridcolor": "white",
            "linecolor": "white",
            "ticks": ""
           }
          },
          "scene": {
           "xaxis": {
            "backgroundcolor": "#E5ECF6",
            "gridcolor": "white",
            "gridwidth": 2,
            "linecolor": "white",
            "showbackground": true,
            "ticks": "",
            "zerolinecolor": "white"
           },
           "yaxis": {
            "backgroundcolor": "#E5ECF6",
            "gridcolor": "white",
            "gridwidth": 2,
            "linecolor": "white",
            "showbackground": true,
            "ticks": "",
            "zerolinecolor": "white"
           },
           "zaxis": {
            "backgroundcolor": "#E5ECF6",
            "gridcolor": "white",
            "gridwidth": 2,
            "linecolor": "white",
            "showbackground": true,
            "ticks": "",
            "zerolinecolor": "white"
           }
          },
          "shapedefaults": {
           "line": {
            "color": "#2a3f5f"
           }
          },
          "ternary": {
           "aaxis": {
            "gridcolor": "white",
            "linecolor": "white",
            "ticks": ""
           },
           "baxis": {
            "gridcolor": "white",
            "linecolor": "white",
            "ticks": ""
           },
           "bgcolor": "#E5ECF6",
           "caxis": {
            "gridcolor": "white",
            "linecolor": "white",
            "ticks": ""
           }
          },
          "title": {
           "x": 0.05
          },
          "xaxis": {
           "automargin": true,
           "gridcolor": "white",
           "linecolor": "white",
           "ticks": "",
           "title": {
            "standoff": 15
           },
           "zerolinecolor": "white",
           "zerolinewidth": 2
          },
          "yaxis": {
           "automargin": true,
           "gridcolor": "white",
           "linecolor": "white",
           "ticks": "",
           "title": {
            "standoff": 15
           },
           "zerolinecolor": "white",
           "zerolinewidth": 2
          }
         }
        },
        "title": {
         "text": "Humans: Player Talking Time vs. Was Voted On"
        },
        "xaxis": {
         "autorange": true,
         "range": [
          -0.5,
          46.5
         ],
         "type": "category"
        },
        "yaxis": {
         "autorange": true,
         "range": [
          0,
          28798.947368421053
         ],
         "title": {
          "text": "Total talking time"
         },
         "type": "linear"
        },
        "yaxis2": {
         "autorange": true,
         "overlaying": "y",
         "range": [
          0,
          145.26315789473685
         ],
         "side": "right",
         "title": {
          "text": "Was voted for"
         },
         "type": "linear"
        }
       }
      },
      "image/png": "[encoded data removed]",
      "text/html": [
       "<div>                            <div id=\"0ca04119-c2ab-4385-8017-30bec9aca54f\" class=\"plotly-graph-div\" style=\"height:400px; width:100%;\"></div>            <script type=\"text/javascript\">                require([\"plotly\"], function(Plotly) {                    window.PLOTLYENV=window.PLOTLYENV || {};                                    if (document.getElementById(\"0ca04119-c2ab-4385-8017-30bec9aca54f\")) {                    Plotly.newPlot(                        \"0ca04119-c2ab-4385-8017-30bec9aca54f\",                        [{\"name\":\"Total talking time\",\"offsetgroup\":\"1\",\"x\":[\"alana\",\"alvin\",\"alysha\",\"ashley\",\"audrey\",\"brett\",\"caitlynn\",\"carly\",\"chris\",\"clint\",\"dan\",\"dustin\",\"dylan\",\"ed\",\"elliot\",\"eric\",\"erin\",\"george\",\"haak\",\"hunter\",\"jack\",\"jacob\",\"james\",\"jessica\",\"julie\",\"justin\",\"kaelan\",\"katie\",\"kelsey\",\"laura\",\"margaret\",\"matt\",\"meghan\",\"meryl\",\"mike\",\"mitchell\",\"paul\",\"pete\",\"robin\",\"sarah\",\"sean\",\"sebastian\",\"shane\",\"sian\",\"sukeshi\",\"tyler\",\"zack\"],\"y\":[2619,1764,560,1070,688,3817,3601,253,2758,1204,1664,660,1012,417,843,1579,1619,664,219,3069,1075,3898,12528,213,760,27359,736,3150,540,990,1527,82,780,439,13762,23462,14655,1187,211,306,1873,685,71,865,1697,2029,1156],\"yaxis\":\"y\",\"type\":\"bar\"},{\"name\":\"Was voted for\",\"offsetgroup\":\"2\",\"x\":[\"alana\",\"alvin\",\"alysha\",\"ashley\",\"audrey\",\"brett\",\"caitlynn\",\"carly\",\"chris\",\"clint\",\"dan\",\"dustin\",\"dylan\",\"ed\",\"elliot\",\"eric\",\"erin\",\"george\",\"haak\",\"hunter\",\"jack\",\"jacob\",\"james\",\"jessica\",\"julie\",\"justin\",\"kaelan\",\"katie\",\"kelsey\",\"laura\",\"margaret\",\"matt\",\"meghan\",\"meryl\",\"mike\",\"mitchell\",\"paul\",\"pete\",\"robin\",\"sarah\",\"sean\",\"sebastian\",\"shane\",\"sian\",\"sukeshi\",\"tyler\",\"zack\"],\"y\":[15,2,8,12,3,14,32,2,6,7,9,1,3,1,5,11,8,2,5,4,4,13,42,3,5,118,1,10,5,17,1,1,6,1,69,138,67,5,2,2,13,4,5,5,8,5,10],\"yaxis\":\"y2\",\"type\":\"bar\"}],                        {\"title\":{\"text\":\"Humans: Player Talking Time vs. Was Voted On\"},\"yaxis\":{\"title\":{\"text\":\"Total talking time\"}},\"yaxis2\":{\"overlaying\":\"y\",\"side\":\"right\",\"title\":{\"text\":\"Was voted for\"}},\"template\":{\"data\":{\"histogram2dcontour\":[{\"type\":\"histogram2dcontour\",\"colorbar\":{\"outlinewidth\":0,\"ticks\":\"\"},\"colorscale\":[[0.0,\"#0d0887\"],[0.1111111111111111,\"#46039f\"],[0.2222222222222222,\"#7201a8\"],[0.3333333333333333,\"#9c179e\"],[0.4444444444444444,\"#bd3786\"],[0.5555555555555556,\"#d8576b\"],[0.6666666666666666,\"#ed7953\"],[0.7777777777777778,\"#fb9f3a\"],[0.8888888888888888,\"#fdca26\"],[1.0,\"#f0f921\"]]}],\"choropleth\":[{\"type\":\"choropleth\",\"colorbar\":{\"outlinewidth\":0,\"ticks\":\"\"}}],\"histogram2d\":[{\"type\":\"histogram2d\",\"colorbar\":{\"outlinewidth\":0,\"ticks\":\"\"},\"colorscale\":[[0.0,\"#0d0887\"],[0.1111111111111111,\"#46039f\"],[0.2222222222222222,\"#7201a8\"],[0.3333333333333333,\"#9c179e\"],[0.4444444444444444,\"#bd3786\"],[0.5555555555555556,\"#d8576b\"],[0.6666666666666666,\"#ed7953\"],[0.7777777777777778,\"#fb9f3a\"],[0.8888888888888888,\"#fdca26\"],[1.0,\"#f0f921\"]]}],\"heatmap\":[{\"type\":\"heatmap\",\"colorbar\":{\"outlinewidth\":0,\"ticks\":\"\"},\"colorscale\":[[0.0,\"#0d0887\"],[0.1111111111111111,\"#46039f\"],[0.2222222222222222,\"#7201a8\"],[0.3333333333333333,\"#9c179e\"],[0.4444444444444444,\"#bd3786\"],[0.5555555555555556,\"#d8576b\"],[0.6666666666666666,\"#ed7953\"],[0.7777777777777778,\"#fb9f3a\"],[0.8888888888888888,\"#fdca26\"],[1.0,\"#f0f921\"]]}],\"heatmapgl\":[{\"type\":\"heatmapgl\",\"colorbar\":{\"outlinewidth\":0,\"ticks\":\"\"},\"colorscale\":[[0.0,\"#0d0887\"],[0.1111111111111111,\"#46039f\"],[0.2222222222222222,\"#7201a8\"],[0.3333333333333333,\"#9c179e\"],[0.4444444444444444,\"#bd3786\"],[0.5555555555555556,\"#d8576b\"],[0.6666666666666666,\"#ed7953\"],[0.7777777777777778,\"#fb9f3a\"],[0.8888888888888888,\"#fdca26\"],[1.0,\"#f0f921\"]]}],\"contourcarpet\":[{\"type\":\"contourcarpet\",\"colorbar\":{\"outlinewidth\":0,\"ticks\":\"\"}}],\"contour\":[{\"type\":\"contour\",\"colorbar\":{\"outlinewidth\":0,\"ticks\":\"\"},\"colorscale\":[[0.0,\"#0d0887\"],[0.1111111111111111,\"#46039f\"],[0.2222222222222222,\"#7201a8\"],[0.3333333333333333,\"#9c179e\"],[0.4444444444444444,\"#bd3786\"],[0.5555555555555556,\"#d8576b\"],[0.6666666666666666,\"#ed7953\"],[0.7777777777777778,\"#fb9f3a\"],[0.8888888888888888,\"#fdca26\"],[1.0,\"#f0f921\"]]}],\"surface\":[{\"type\":\"surface\",\"colorbar\":{\"outlinewidth\":0,\"ticks\":\"\"},\"colorscale\":[[0.0,\"#0d0887\"],[0.1111111111111111,\"#46039f\"],[0.2222222222222222,\"#7201a8\"],[0.3333333333333333,\"#9c179e\"],[0.4444444444444444,\"#bd3786\"],[0.5555555555555556,\"#d8576b\"],[0.6666666666666666,\"#ed7953\"],[0.7777777777777778,\"#fb9f3a\"],[0.8888888888888888,\"#fdca26\"],[1.0,\"#f0f921\"]]}],\"mesh3d\":[{\"type\":\"mesh3d\",\"colorbar\":{\"outlinewidth\":0,\"ticks\":\"\"}}],\"scatter\":[{\"fillpattern\":{\"fillmode\":\"overlay\",\"size\":10,\"solidity\":0.2},\"type\":\"scatter\"}],\"parcoords\":[{\"type\":\"parcoords\",\"line\":{\"colorbar\":{\"outlinewidth\":0,\"ticks\":\"\"}}}],\"scatterpolargl\":[{\"type\":\"scatterpolargl\",\"marker\":{\"colorbar\":{\"outlinewidth\":0,\"ticks\":\"\"}}}],\"bar\":[{\"error_x\":{\"color\":\"#2a3f5f\"},\"error_y\":{\"color\":\"#2a3f5f\"},\"marker\":{\"line\":{\"color\":\"#E5ECF6\",\"width\":0.5},\"pattern\":{\"fillmode\":\"overlay\",\"size\":10,\"solidity\":0.2}},\"type\":\"bar\"}],\"scattergeo\":[{\"type\":\"scattergeo\",\"marker\":{\"colorbar\":{\"outlinewidth\":0,\"ticks\":\"\"}}}],\"scatterpolar\":[{\"type\":\"scatterpolar\",\"marker\":{\"colorbar\":{\"outlinewidth\":0,\"ticks\":\"\"}}}],\"histogram\":[{\"marker\":{\"pattern\":{\"fillmode\":\"overlay\",\"size\":10,\"solidity\":0.2}},\"type\":\"histogram\"}],\"scattergl\":[{\"type\":\"scattergl\",\"marker\":{\"colorbar\":{\"outlinewidth\":0,\"ticks\":\"\"}}}],\"scatter3d\":[{\"type\":\"scatter3d\",\"line\":{\"colorbar\":{\"outlinewidth\":0,\"ticks\":\"\"}},\"marker\":{\"colorbar\":{\"outlinewidth\":0,\"ticks\":\"\"}}}],\"scattermapbox\":[{\"type\":\"scattermapbox\",\"marker\":{\"colorbar\":{\"outlinewidth\":0,\"ticks\":\"\"}}}],\"scatterternary\":[{\"type\":\"scatterternary\",\"marker\":{\"colorbar\":{\"outlinewidth\":0,\"ticks\":\"\"}}}],\"scattercarpet\":[{\"type\":\"scattercarpet\",\"marker\":{\"colorbar\":{\"outlinewidth\":0,\"ticks\":\"\"}}}],\"carpet\":[{\"aaxis\":{\"endlinecolor\":\"#2a3f5f\",\"gridcolor\":\"white\",\"linecolor\":\"white\",\"minorgridcolor\":\"white\",\"startlinecolor\":\"#2a3f5f\"},\"baxis\":{\"endlinecolor\":\"#2a3f5f\",\"gridcolor\":\"white\",\"linecolor\":\"white\",\"minorgridcolor\":\"white\",\"startlinecolor\":\"#2a3f5f\"},\"type\":\"carpet\"}],\"table\":[{\"cells\":{\"fill\":{\"color\":\"#EBF0F8\"},\"line\":{\"color\":\"white\"}},\"header\":{\"fill\":{\"color\":\"#C8D4E3\"},\"line\":{\"color\":\"white\"}},\"type\":\"table\"}],\"barpolar\":[{\"marker\":{\"line\":{\"color\":\"#E5ECF6\",\"width\":0.5},\"pattern\":{\"fillmode\":\"overlay\",\"size\":10,\"solidity\":0.2}},\"type\":\"barpolar\"}],\"pie\":[{\"automargin\":true,\"type\":\"pie\"}]},\"layout\":{\"autotypenumbers\":\"strict\",\"colorway\":[\"#636efa\",\"#EF553B\",\"#00cc96\",\"#ab63fa\",\"#FFA15A\",\"#19d3f3\",\"#FF6692\",\"#B6E880\",\"#FF97FF\",\"#FECB52\"],\"font\":{\"color\":\"#2a3f5f\"},\"hovermode\":\"closest\",\"hoverlabel\":{\"align\":\"left\"},\"paper_bgcolor\":\"white\",\"plot_bgcolor\":\"#E5ECF6\",\"polar\":{\"bgcolor\":\"#E5ECF6\",\"angularaxis\":{\"gridcolor\":\"white\",\"linecolor\":\"white\",\"ticks\":\"\"},\"radialaxis\":{\"gridcolor\":\"white\",\"linecolor\":\"white\",\"ticks\":\"\"}},\"ternary\":{\"bgcolor\":\"#E5ECF6\",\"aaxis\":{\"gridcolor\":\"white\",\"linecolor\":\"white\",\"ticks\":\"\"},\"baxis\":{\"gridcolor\":\"white\",\"linecolor\":\"white\",\"ticks\":\"\"},\"caxis\":{\"gridcolor\":\"white\",\"linecolor\":\"white\",\"ticks\":\"\"}},\"coloraxis\":{\"colorbar\":{\"outlinewidth\":0,\"ticks\":\"\"}},\"colorscale\":{\"sequential\":[[0.0,\"#0d0887\"],[0.1111111111111111,\"#46039f\"],[0.2222222222222222,\"#7201a8\"],[0.3333333333333333,\"#9c179e\"],[0.4444444444444444,\"#bd3786\"],[0.5555555555555556,\"#d8576b\"],[0.6666666666666666,\"#ed7953\"],[0.7777777777777778,\"#fb9f3a\"],[0.8888888888888888,\"#fdca26\"],[1.0,\"#f0f921\"]],\"sequentialminus\":[[0.0,\"#0d0887\"],[0.1111111111111111,\"#46039f\"],[0.2222222222222222,\"#7201a8\"],[0.3333333333333333,\"#9c179e\"],[0.4444444444444444,\"#bd3786\"],[0.5555555555555556,\"#d8576b\"],[0.6666666666666666,\"#ed7953\"],[0.7777777777777778,\"#fb9f3a\"],[0.8888888888888888,\"#fdca26\"],[1.0,\"#f0f921\"]],\"diverging\":[[0,\"#8e0152\"],[0.1,\"#c51b7d\"],[0.2,\"#de77ae\"],[0.3,\"#f1b6da\"],[0.4,\"#fde0ef\"],[0.5,\"#f7f7f7\"],[0.6,\"#e6f5d0\"],[0.7,\"#b8e186\"],[0.8,\"#7fbc41\"],[0.9,\"#4d9221\"],[1,\"#276419\"]]},\"xaxis\":{\"gridcolor\":\"white\",\"linecolor\":\"white\",\"ticks\":\"\",\"title\":{\"standoff\":15},\"zerolinecolor\":\"white\",\"automargin\":true,\"zerolinewidth\":2},\"yaxis\":{\"gridcolor\":\"white\",\"linecolor\":\"white\",\"ticks\":\"\",\"title\":{\"standoff\":15},\"zerolinecolor\":\"white\",\"automargin\":true,\"zerolinewidth\":2},\"scene\":{\"xaxis\":{\"backgroundcolor\":\"#E5ECF6\",\"gridcolor\":\"white\",\"linecolor\":\"white\",\"showbackground\":true,\"ticks\":\"\",\"zerolinecolor\":\"white\",\"gridwidth\":2},\"yaxis\":{\"backgroundcolor\":\"#E5ECF6\",\"gridcolor\":\"white\",\"linecolor\":\"white\",\"showbackground\":true,\"ticks\":\"\",\"zerolinecolor\":\"white\",\"gridwidth\":2},\"zaxis\":{\"backgroundcolor\":\"#E5ECF6\",\"gridcolor\":\"white\",\"linecolor\":\"white\",\"showbackground\":true,\"ticks\":\"\",\"zerolinecolor\":\"white\",\"gridwidth\":2}},\"shapedefaults\":{\"line\":{\"color\":\"#2a3f5f\"}},\"annotationdefaults\":{\"arrowcolor\":\"#2a3f5f\",\"arrowhead\":0,\"arrowwidth\":1},\"geo\":{\"bgcolor\":\"white\",\"landcolor\":\"#E5ECF6\",\"subunitcolor\":\"white\",\"showland\":true,\"showlakes\":true,\"lakecolor\":\"white\"},\"title\":{\"x\":0.05},\"mapbox\":{\"style\":\"light\"}}},\"barmode\":\"group\",\"height\":400},                        {\"responsive\": true}                    ).then(function(){\n",
       "                            \n",
       "var gd = document.getElementById('0ca04119-c2ab-4385-8017-30bec9aca54f');\n",
       "var x = new MutationObserver(function (mutations, observer) {{\n",
       "        var display = window.getComputedStyle(gd).display;\n",
       "        if (!display || display === 'none') {{\n",
       "            console.log([gd, 'removed!']);\n",
       "            Plotly.purge(gd);\n",
       "            observer.disconnect();\n",
       "        }}\n",
       "}});\n",
       "\n",
       "// Listen for the removal of the full notebook cells\n",
       "var notebookContainer = gd.closest('#notebook-container');\n",
       "if (notebookContainer) {{\n",
       "    x.observe(notebookContainer, {childList: true});\n",
       "}}\n",
       "\n",
       "// Listen for the clearing of the current output cell\n",
       "var outputEl = gd.closest('.output');\n",
       "if (outputEl) {{\n",
       "    x.observe(outputEl, {childList: true});\n",
       "}}\n",
       "\n",
       "                        })                };                });            </script>        </div>"
      ]
     },
     "metadata": {},
     "output_type": "display_data"
    },
    {
     "data": {
      "application/vnd.plotly.v1+json": {
       "config": {
        "plotlyServerURL": "https://plot.ly"
       },
       "data": [
        {
         "name": "Number of Speeches",
         "offsetgroup": "1",
         "type": "bar",
         "x": [
          "Will",
          "Hayley",
          "Harold",
          "Jacob",
          "Jackson",
          "Sam",
          "Mason",
          "Paul",
          "Dan",
          "Scott",
          "David",
          "Tyler",
          "Ginger",
          "Leah",
          "Isaac",
          "Derek",
          "Bert"
         ],
         "y": [
          27,
          27,
          25,
          23,
          23,
          19,
          17,
          14,
          14,
          13,
          11,
          11,
          10,
          7,
          5,
          5,
          1
         ],
         "yaxis": "y"
        },
        {
         "name": "Was voted for",
         "offsetgroup": "2",
         "type": "bar",
         "x": [
          "Will",
          "Hayley",
          "Harold",
          "Jacob",
          "Jackson",
          "Sam",
          "Mason",
          "Paul",
          "Dan",
          "Scott",
          "David",
          "Tyler",
          "Ginger",
          "Leah",
          "Isaac",
          "Derek",
          "Bert"
         ],
         "y": [
          13,
          23,
          13,
          14,
          13,
          11,
          18,
          10,
          12,
          12,
          11,
          10,
          7,
          8,
          5,
          8,
          5
         ],
         "yaxis": "y2"
        }
       ],
       "layout": {
        "autosize": true,
        "barmode": "group",
        "template": {
         "data": {
          "bar": [
           {
            "error_x": {
             "color": "#2a3f5f"
            },
            "error_y": {
             "color": "#2a3f5f"
            },
            "marker": {
             "line": {
              "color": "#E5ECF6",
              "width": 0.5
             },
             "pattern": {
              "fillmode": "overlay",
              "size": 10,
              "solidity": 0.2
             }
            },
            "type": "bar"
           }
          ],
          "barpolar": [
           {
            "marker": {
             "line": {
              "color": "#E5ECF6",
              "width": 0.5
             },
             "pattern": {
              "fillmode": "overlay",
              "size": 10,
              "solidity": 0.2
             }
            },
            "type": "barpolar"
           }
          ],
          "carpet": [
           {
            "aaxis": {
             "endlinecolor": "#2a3f5f",
             "gridcolor": "white",
             "linecolor": "white",
             "minorgridcolor": "white",
             "startlinecolor": "#2a3f5f"
            },
            "baxis": {
             "endlinecolor": "#2a3f5f",
             "gridcolor": "white",
             "linecolor": "white",
             "minorgridcolor": "white",
             "startlinecolor": "#2a3f5f"
            },
            "type": "carpet"
           }
          ],
          "choropleth": [
           {
            "colorbar": {
             "outlinewidth": 0,
             "ticks": ""
            },
            "type": "choropleth"
           }
          ],
          "contour": [
           {
            "colorbar": {
             "outlinewidth": 0,
             "ticks": ""
            },
            "colorscale": [
             [
              0,
              "#0d0887"
             ],
             [
              0.1111111111111111,
              "#46039f"
             ],
             [
              0.2222222222222222,
              "#7201a8"
             ],
             [
              0.3333333333333333,
              "#9c179e"
             ],
             [
              0.4444444444444444,
              "#bd3786"
             ],
             [
              0.5555555555555556,
              "#d8576b"
             ],
             [
              0.6666666666666666,
              "#ed7953"
             ],
             [
              0.7777777777777778,
              "#fb9f3a"
             ],
             [
              0.8888888888888888,
              "#fdca26"
             ],
             [
              1,
              "#f0f921"
             ]
            ],
            "type": "contour"
           }
          ],
          "contourcarpet": [
           {
            "colorbar": {
             "outlinewidth": 0,
             "ticks": ""
            },
            "type": "contourcarpet"
           }
          ],
          "heatmap": [
           {
            "colorbar": {
             "outlinewidth": 0,
             "ticks": ""
            },
            "colorscale": [
             [
              0,
              "#0d0887"
             ],
             [
              0.1111111111111111,
              "#46039f"
             ],
             [
              0.2222222222222222,
              "#7201a8"
             ],
             [
              0.3333333333333333,
              "#9c179e"
             ],
             [
              0.4444444444444444,
              "#bd3786"
             ],
             [
              0.5555555555555556,
              "#d8576b"
             ],
             [
              0.6666666666666666,
              "#ed7953"
             ],
             [
              0.7777777777777778,
              "#fb9f3a"
             ],
             [
              0.8888888888888888,
              "#fdca26"
             ],
             [
              1,
              "#f0f921"
             ]
            ],
            "type": "heatmap"
           }
          ],
          "heatmapgl": [
           {
            "colorbar": {
             "outlinewidth": 0,
             "ticks": ""
            },
            "colorscale": [
             [
              0,
              "#0d0887"
             ],
             [
              0.1111111111111111,
              "#46039f"
             ],
             [
              0.2222222222222222,
              "#7201a8"
             ],
             [
              0.3333333333333333,
              "#9c179e"
             ],
             [
              0.4444444444444444,
              "#bd3786"
             ],
             [
              0.5555555555555556,
              "#d8576b"
             ],
             [
              0.6666666666666666,
              "#ed7953"
             ],
             [
              0.7777777777777778,
              "#fb9f3a"
             ],
             [
              0.8888888888888888,
              "#fdca26"
             ],
             [
              1,
              "#f0f921"
             ]
            ],
            "type": "heatmapgl"
           }
          ],
          "histogram": [
           {
            "marker": {
             "pattern": {
              "fillmode": "overlay",
              "size": 10,
              "solidity": 0.2
             }
            },
            "type": "histogram"
           }
          ],
          "histogram2d": [
           {
            "colorbar": {
             "outlinewidth": 0,
             "ticks": ""
            },
            "colorscale": [
             [
              0,
              "#0d0887"
             ],
             [
              0.1111111111111111,
              "#46039f"
             ],
             [
              0.2222222222222222,
              "#7201a8"
             ],
             [
              0.3333333333333333,
              "#9c179e"
             ],
             [
              0.4444444444444444,
              "#bd3786"
             ],
             [
              0.5555555555555556,
              "#d8576b"
             ],
             [
              0.6666666666666666,
              "#ed7953"
             ],
             [
              0.7777777777777778,
              "#fb9f3a"
             ],
             [
              0.8888888888888888,
              "#fdca26"
             ],
             [
              1,
              "#f0f921"
             ]
            ],
            "type": "histogram2d"
           }
          ],
          "histogram2dcontour": [
           {
            "colorbar": {
             "outlinewidth": 0,
             "ticks": ""
            },
            "colorscale": [
             [
              0,
              "#0d0887"
             ],
             [
              0.1111111111111111,
              "#46039f"
             ],
             [
              0.2222222222222222,
              "#7201a8"
             ],
             [
              0.3333333333333333,
              "#9c179e"
             ],
             [
              0.4444444444444444,
              "#bd3786"
             ],
             [
              0.5555555555555556,
              "#d8576b"
             ],
             [
              0.6666666666666666,
              "#ed7953"
             ],
             [
              0.7777777777777778,
              "#fb9f3a"
             ],
             [
              0.8888888888888888,
              "#fdca26"
             ],
             [
              1,
              "#f0f921"
             ]
            ],
            "type": "histogram2dcontour"
           }
          ],
          "mesh3d": [
           {
            "colorbar": {
             "outlinewidth": 0,
             "ticks": ""
            },
            "type": "mesh3d"
           }
          ],
          "parcoords": [
           {
            "line": {
             "colorbar": {
              "outlinewidth": 0,
              "ticks": ""
             }
            },
            "type": "parcoords"
           }
          ],
          "pie": [
           {
            "automargin": true,
            "type": "pie"
           }
          ],
          "scatter": [
           {
            "fillpattern": {
             "fillmode": "overlay",
             "size": 10,
             "solidity": 0.2
            },
            "type": "scatter"
           }
          ],
          "scatter3d": [
           {
            "line": {
             "colorbar": {
              "outlinewidth": 0,
              "ticks": ""
             }
            },
            "marker": {
             "colorbar": {
              "outlinewidth": 0,
              "ticks": ""
             }
            },
            "type": "scatter3d"
           }
          ],
          "scattercarpet": [
           {
            "marker": {
             "colorbar": {
              "outlinewidth": 0,
              "ticks": ""
             }
            },
            "type": "scattercarpet"
           }
          ],
          "scattergeo": [
           {
            "marker": {
             "colorbar": {
              "outlinewidth": 0,
              "ticks": ""
             }
            },
            "type": "scattergeo"
           }
          ],
          "scattergl": [
           {
            "marker": {
             "colorbar": {
              "outlinewidth": 0,
              "ticks": ""
             }
            },
            "type": "scattergl"
           }
          ],
          "scattermapbox": [
           {
            "marker": {
             "colorbar": {
              "outlinewidth": 0,
              "ticks": ""
             }
            },
            "type": "scattermapbox"
           }
          ],
          "scatterpolar": [
           {
            "marker": {
             "colorbar": {
              "outlinewidth": 0,
              "ticks": ""
             }
            },
            "type": "scatterpolar"
           }
          ],
          "scatterpolargl": [
           {
            "marker": {
             "colorbar": {
              "outlinewidth": 0,
              "ticks": ""
             }
            },
            "type": "scatterpolargl"
           }
          ],
          "scatterternary": [
           {
            "marker": {
             "colorbar": {
              "outlinewidth": 0,
              "ticks": ""
             }
            },
            "type": "scatterternary"
           }
          ],
          "surface": [
           {
            "colorbar": {
             "outlinewidth": 0,
             "ticks": ""
            },
            "colorscale": [
             [
              0,
              "#0d0887"
             ],
             [
              0.1111111111111111,
              "#46039f"
             ],
             [
              0.2222222222222222,
              "#7201a8"
             ],
             [
              0.3333333333333333,
              "#9c179e"
             ],
             [
              0.4444444444444444,
              "#bd3786"
             ],
             [
              0.5555555555555556,
              "#d8576b"
             ],
             [
              0.6666666666666666,
              "#ed7953"
             ],
             [
              0.7777777777777778,
              "#fb9f3a"
             ],
             [
              0.8888888888888888,
              "#fdca26"
             ],
             [
              1,
              "#f0f921"
             ]
            ],
            "type": "surface"
           }
          ],
          "table": [
           {
            "cells": {
             "fill": {
              "color": "#EBF0F8"
             },
             "line": {
              "color": "white"
             }
            },
            "header": {
             "fill": {
              "color": "#C8D4E3"
             },
             "line": {
              "color": "white"
             }
            },
            "type": "table"
           }
          ]
         },
         "layout": {
          "annotationdefaults": {
           "arrowcolor": "#2a3f5f",
           "arrowhead": 0,
           "arrowwidth": 1
          },
          "autotypenumbers": "strict",
          "coloraxis": {
           "colorbar": {
            "outlinewidth": 0,
            "ticks": ""
           }
          },
          "colorscale": {
           "diverging": [
            [
             0,
             "#8e0152"
            ],
            [
             0.1,
             "#c51b7d"
            ],
            [
             0.2,
             "#de77ae"
            ],
            [
             0.3,
             "#f1b6da"
            ],
            [
             0.4,
             "#fde0ef"
            ],
            [
             0.5,
             "#f7f7f7"
            ],
            [
             0.6,
             "#e6f5d0"
            ],
            [
             0.7,
             "#b8e186"
            ],
            [
             0.8,
             "#7fbc41"
            ],
            [
             0.9,
             "#4d9221"
            ],
            [
             1,
             "#276419"
            ]
           ],
           "sequential": [
            [
             0,
             "#0d0887"
            ],
            [
             0.1111111111111111,
             "#46039f"
            ],
            [
             0.2222222222222222,
             "#7201a8"
            ],
            [
             0.3333333333333333,
             "#9c179e"
            ],
            [
             0.4444444444444444,
             "#bd3786"
            ],
            [
             0.5555555555555556,
             "#d8576b"
            ],
            [
             0.6666666666666666,
             "#ed7953"
            ],
            [
             0.7777777777777778,
             "#fb9f3a"
            ],
            [
             0.8888888888888888,
             "#fdca26"
            ],
            [
             1,
             "#f0f921"
            ]
           ],
           "sequentialminus": [
            [
             0,
             "#0d0887"
            ],
            [
             0.1111111111111111,
             "#46039f"
            ],
            [
             0.2222222222222222,
             "#7201a8"
            ],
            [
             0.3333333333333333,
             "#9c179e"
            ],
            [
             0.4444444444444444,
             "#bd3786"
            ],
            [
             0.5555555555555556,
             "#d8576b"
            ],
            [
             0.6666666666666666,
             "#ed7953"
            ],
            [
             0.7777777777777778,
             "#fb9f3a"
            ],
            [
             0.8888888888888888,
             "#fdca26"
            ],
            [
             1,
             "#f0f921"
            ]
           ]
          },
          "colorway": [
           "#636efa",
           "#EF553B",
           "#00cc96",
           "#ab63fa",
           "#FFA15A",
           "#19d3f3",
           "#FF6692",
           "#B6E880",
           "#FF97FF",
           "#FECB52"
          ],
          "font": {
           "color": "#2a3f5f"
          },
          "geo": {
           "bgcolor": "white",
           "lakecolor": "white",
           "landcolor": "#E5ECF6",
           "showlakes": true,
           "showland": true,
           "subunitcolor": "white"
          },
          "hoverlabel": {
           "align": "left"
          },
          "hovermode": "closest",
          "mapbox": {
           "style": "light"
          },
          "paper_bgcolor": "white",
          "plot_bgcolor": "#E5ECF6",
          "polar": {
           "angularaxis": {
            "gridcolor": "white",
            "linecolor": "white",
            "ticks": ""
           },
           "bgcolor": "#E5ECF6",
           "radialaxis": {
            "gridcolor": "white",
            "linecolor": "white",
            "ticks": ""
           }
          },
          "scene": {
           "xaxis": {
            "backgroundcolor": "#E5ECF6",
            "gridcolor": "white",
            "gridwidth": 2,
            "linecolor": "white",
            "showbackground": true,
            "ticks": "",
            "zerolinecolor": "white"
           },
           "yaxis": {
            "backgroundcolor": "#E5ECF6",
            "gridcolor": "white",
            "gridwidth": 2,
            "linecolor": "white",
            "showbackground": true,
            "ticks": "",
            "zerolinecolor": "white"
           },
           "zaxis": {
            "backgroundcolor": "#E5ECF6",
            "gridcolor": "white",
            "gridwidth": 2,
            "linecolor": "white",
            "showbackground": true,
            "ticks": "",
            "zerolinecolor": "white"
           }
          },
          "shapedefaults": {
           "line": {
            "color": "#2a3f5f"
           }
          },
          "ternary": {
           "aaxis": {
            "gridcolor": "white",
            "linecolor": "white",
            "ticks": ""
           },
           "baxis": {
            "gridcolor": "white",
            "linecolor": "white",
            "ticks": ""
           },
           "bgcolor": "#E5ECF6",
           "caxis": {
            "gridcolor": "white",
            "linecolor": "white",
            "ticks": ""
           }
          },
          "title": {
           "x": 0.05
          },
          "xaxis": {
           "automargin": true,
           "gridcolor": "white",
           "linecolor": "white",
           "ticks": "",
           "title": {
            "standoff": 15
           },
           "zerolinecolor": "white",
           "zerolinewidth": 2
          },
          "yaxis": {
           "automargin": true,
           "gridcolor": "white",
           "linecolor": "white",
           "ticks": "",
           "title": {
            "standoff": 15
           },
           "zerolinecolor": "white",
           "zerolinewidth": 2
          }
         }
        },
        "title": {
         "text": "LLMs: Player Talking Time vs. Was Voted On"
        },
        "xaxis": {
         "autorange": true,
         "range": [
          -0.5,
          16.5
         ],
         "type": "category"
        },
        "yaxis": {
         "autorange": true,
         "range": [
          0,
          28.42105263157895
         ],
         "title": {
          "text": "Number of Speeches"
         },
         "type": "linear"
        },
        "yaxis2": {
         "autorange": true,
         "overlaying": "y",
         "range": [
          0,
          24.210526315789473
         ],
         "side": "right",
         "title": {
          "text": "Was voted for"
         },
         "type": "linear"
        }
       }
      },
      "image/png": "[encoded data removed]",
      "text/html": [
       "<div>                            <div id=\"fb0e9ce8-6b5d-4dd9-9de2-18de28821d78\" class=\"plotly-graph-div\" style=\"height:400px; width:100%;\"></div>            <script type=\"text/javascript\">                require([\"plotly\"], function(Plotly) {                    window.PLOTLYENV=window.PLOTLYENV || {};                                    if (document.getElementById(\"fb0e9ce8-6b5d-4dd9-9de2-18de28821d78\")) {                    Plotly.newPlot(                        \"fb0e9ce8-6b5d-4dd9-9de2-18de28821d78\",                        [{\"name\":\"Number of Speeches\",\"offsetgroup\":\"1\",\"x\":[\"Will\",\"Hayley\",\"Harold\",\"Jacob\",\"Jackson\",\"Sam\",\"Mason\",\"Paul\",\"Dan\",\"Scott\",\"David\",\"Tyler\",\"Ginger\",\"Leah\",\"Isaac\",\"Derek\",\"Bert\"],\"y\":[27,27,25,23,23,19,17,14,14,13,11,11,10,7,5,5,1],\"yaxis\":\"y\",\"type\":\"bar\"},{\"name\":\"Was voted for\",\"offsetgroup\":\"2\",\"x\":[\"Will\",\"Hayley\",\"Harold\",\"Jacob\",\"Jackson\",\"Sam\",\"Mason\",\"Paul\",\"Dan\",\"Scott\",\"David\",\"Tyler\",\"Ginger\",\"Leah\",\"Isaac\",\"Derek\",\"Bert\"],\"y\":[13,23,13,14,13,11,18,10,12,12,11,10,7,8,5,8,5],\"yaxis\":\"y2\",\"type\":\"bar\"}],                        {\"title\":{\"text\":\"LLMs: Player Talking Time vs. Was Voted On\"},\"yaxis\":{\"title\":{\"text\":\"Number of Speeches\"}},\"yaxis2\":{\"overlaying\":\"y\",\"side\":\"right\",\"title\":{\"text\":\"Was voted for\"}},\"template\":{\"data\":{\"histogram2dcontour\":[{\"type\":\"histogram2dcontour\",\"colorbar\":{\"outlinewidth\":0,\"ticks\":\"\"},\"colorscale\":[[0.0,\"#0d0887\"],[0.1111111111111111,\"#46039f\"],[0.2222222222222222,\"#7201a8\"],[0.3333333333333333,\"#9c179e\"],[0.4444444444444444,\"#bd3786\"],[0.5555555555555556,\"#d8576b\"],[0.6666666666666666,\"#ed7953\"],[0.7777777777777778,\"#fb9f3a\"],[0.8888888888888888,\"#fdca26\"],[1.0,\"#f0f921\"]]}],\"choropleth\":[{\"type\":\"choropleth\",\"colorbar\":{\"outlinewidth\":0,\"ticks\":\"\"}}],\"histogram2d\":[{\"type\":\"histogram2d\",\"colorbar\":{\"outlinewidth\":0,\"ticks\":\"\"},\"colorscale\":[[0.0,\"#0d0887\"],[0.1111111111111111,\"#46039f\"],[0.2222222222222222,\"#7201a8\"],[0.3333333333333333,\"#9c179e\"],[0.4444444444444444,\"#bd3786\"],[0.5555555555555556,\"#d8576b\"],[0.6666666666666666,\"#ed7953\"],[0.7777777777777778,\"#fb9f3a\"],[0.8888888888888888,\"#fdca26\"],[1.0,\"#f0f921\"]]}],\"heatmap\":[{\"type\":\"heatmap\",\"colorbar\":{\"outlinewidth\":0,\"ticks\":\"\"},\"colorscale\":[[0.0,\"#0d0887\"],[0.1111111111111111,\"#46039f\"],[0.2222222222222222,\"#7201a8\"],[0.3333333333333333,\"#9c179e\"],[0.4444444444444444,\"#bd3786\"],[0.5555555555555556,\"#d8576b\"],[0.6666666666666666,\"#ed7953\"],[0.7777777777777778,\"#fb9f3a\"],[0.8888888888888888,\"#fdca26\"],[1.0,\"#f0f921\"]]}],\"heatmapgl\":[{\"type\":\"heatmapgl\",\"colorbar\":{\"outlinewidth\":0,\"ticks\":\"\"},\"colorscale\":[[0.0,\"#0d0887\"],[0.1111111111111111,\"#46039f\"],[0.2222222222222222,\"#7201a8\"],[0.3333333333333333,\"#9c179e\"],[0.4444444444444444,\"#bd3786\"],[0.5555555555555556,\"#d8576b\"],[0.6666666666666666,\"#ed7953\"],[0.7777777777777778,\"#fb9f3a\"],[0.8888888888888888,\"#fdca26\"],[1.0,\"#f0f921\"]]}],\"contourcarpet\":[{\"type\":\"contourcarpet\",\"colorbar\":{\"outlinewidth\":0,\"ticks\":\"\"}}],\"contour\":[{\"type\":\"contour\",\"colorbar\":{\"outlinewidth\":0,\"ticks\":\"\"},\"colorscale\":[[0.0,\"#0d0887\"],[0.1111111111111111,\"#46039f\"],[0.2222222222222222,\"#7201a8\"],[0.3333333333333333,\"#9c179e\"],[0.4444444444444444,\"#bd3786\"],[0.5555555555555556,\"#d8576b\"],[0.6666666666666666,\"#ed7953\"],[0.7777777777777778,\"#fb9f3a\"],[0.8888888888888888,\"#fdca26\"],[1.0,\"#f0f921\"]]}],\"surface\":[{\"type\":\"surface\",\"colorbar\":{\"outlinewidth\":0,\"ticks\":\"\"},\"colorscale\":[[0.0,\"#0d0887\"],[0.1111111111111111,\"#46039f\"],[0.2222222222222222,\"#7201a8\"],[0.3333333333333333,\"#9c179e\"],[0.4444444444444444,\"#bd3786\"],[0.5555555555555556,\"#d8576b\"],[0.6666666666666666,\"#ed7953\"],[0.7777777777777778,\"#fb9f3a\"],[0.8888888888888888,\"#fdca26\"],[1.0,\"#f0f921\"]]}],\"mesh3d\":[{\"type\":\"mesh3d\",\"colorbar\":{\"outlinewidth\":0,\"ticks\":\"\"}}],\"scatter\":[{\"fillpattern\":{\"fillmode\":\"overlay\",\"size\":10,\"solidity\":0.2},\"type\":\"scatter\"}],\"parcoords\":[{\"type\":\"parcoords\",\"line\":{\"colorbar\":{\"outlinewidth\":0,\"ticks\":\"\"}}}],\"scatterpolargl\":[{\"type\":\"scatterpolargl\",\"marker\":{\"colorbar\":{\"outlinewidth\":0,\"ticks\":\"\"}}}],\"bar\":[{\"error_x\":{\"color\":\"#2a3f5f\"},\"error_y\":{\"color\":\"#2a3f5f\"},\"marker\":{\"line\":{\"color\":\"#E5ECF6\",\"width\":0.5},\"pattern\":{\"fillmode\":\"overlay\",\"size\":10,\"solidity\":0.2}},\"type\":\"bar\"}],\"scattergeo\":[{\"type\":\"scattergeo\",\"marker\":{\"colorbar\":{\"outlinewidth\":0,\"ticks\":\"\"}}}],\"scatterpolar\":[{\"type\":\"scatterpolar\",\"marker\":{\"colorbar\":{\"outlinewidth\":0,\"ticks\":\"\"}}}],\"histogram\":[{\"marker\":{\"pattern\":{\"fillmode\":\"overlay\",\"size\":10,\"solidity\":0.2}},\"type\":\"histogram\"}],\"scattergl\":[{\"type\":\"scattergl\",\"marker\":{\"colorbar\":{\"outlinewidth\":0,\"ticks\":\"\"}}}],\"scatter3d\":[{\"type\":\"scatter3d\",\"line\":{\"colorbar\":{\"outlinewidth\":0,\"ticks\":\"\"}},\"marker\":{\"colorbar\":{\"outlinewidth\":0,\"ticks\":\"\"}}}],\"scattermapbox\":[{\"type\":\"scattermapbox\",\"marker\":{\"colorbar\":{\"outlinewidth\":0,\"ticks\":\"\"}}}],\"scatterternary\":[{\"type\":\"scatterternary\",\"marker\":{\"colorbar\":{\"outlinewidth\":0,\"ticks\":\"\"}}}],\"scattercarpet\":[{\"type\":\"scattercarpet\",\"marker\":{\"colorbar\":{\"outlinewidth\":0,\"ticks\":\"\"}}}],\"carpet\":[{\"aaxis\":{\"endlinecolor\":\"#2a3f5f\",\"gridcolor\":\"white\",\"linecolor\":\"white\",\"minorgridcolor\":\"white\",\"startlinecolor\":\"#2a3f5f\"},\"baxis\":{\"endlinecolor\":\"#2a3f5f\",\"gridcolor\":\"white\",\"linecolor\":\"white\",\"minorgridcolor\":\"white\",\"startlinecolor\":\"#2a3f5f\"},\"type\":\"carpet\"}],\"table\":[{\"cells\":{\"fill\":{\"color\":\"#EBF0F8\"},\"line\":{\"color\":\"white\"}},\"header\":{\"fill\":{\"color\":\"#C8D4E3\"},\"line\":{\"color\":\"white\"}},\"type\":\"table\"}],\"barpolar\":[{\"marker\":{\"line\":{\"color\":\"#E5ECF6\",\"width\":0.5},\"pattern\":{\"fillmode\":\"overlay\",\"size\":10,\"solidity\":0.2}},\"type\":\"barpolar\"}],\"pie\":[{\"automargin\":true,\"type\":\"pie\"}]},\"layout\":{\"autotypenumbers\":\"strict\",\"colorway\":[\"#636efa\",\"#EF553B\",\"#00cc96\",\"#ab63fa\",\"#FFA15A\",\"#19d3f3\",\"#FF6692\",\"#B6E880\",\"#FF97FF\",\"#FECB52\"],\"font\":{\"color\":\"#2a3f5f\"},\"hovermode\":\"closest\",\"hoverlabel\":{\"align\":\"left\"},\"paper_bgcolor\":\"white\",\"plot_bgcolor\":\"#E5ECF6\",\"polar\":{\"bgcolor\":\"#E5ECF6\",\"angularaxis\":{\"gridcolor\":\"white\",\"linecolor\":\"white\",\"ticks\":\"\"},\"radialaxis\":{\"gridcolor\":\"white\",\"linecolor\":\"white\",\"ticks\":\"\"}},\"ternary\":{\"bgcolor\":\"#E5ECF6\",\"aaxis\":{\"gridcolor\":\"white\",\"linecolor\":\"white\",\"ticks\":\"\"},\"baxis\":{\"gridcolor\":\"white\",\"linecolor\":\"white\",\"ticks\":\"\"},\"caxis\":{\"gridcolor\":\"white\",\"linecolor\":\"white\",\"ticks\":\"\"}},\"coloraxis\":{\"colorbar\":{\"outlinewidth\":0,\"ticks\":\"\"}},\"colorscale\":{\"sequential\":[[0.0,\"#0d0887\"],[0.1111111111111111,\"#46039f\"],[0.2222222222222222,\"#7201a8\"],[0.3333333333333333,\"#9c179e\"],[0.4444444444444444,\"#bd3786\"],[0.5555555555555556,\"#d8576b\"],[0.6666666666666666,\"#ed7953\"],[0.7777777777777778,\"#fb9f3a\"],[0.8888888888888888,\"#fdca26\"],[1.0,\"#f0f921\"]],\"sequentialminus\":[[0.0,\"#0d0887\"],[0.1111111111111111,\"#46039f\"],[0.2222222222222222,\"#7201a8\"],[0.3333333333333333,\"#9c179e\"],[0.4444444444444444,\"#bd3786\"],[0.5555555555555556,\"#d8576b\"],[0.6666666666666666,\"#ed7953\"],[0.7777777777777778,\"#fb9f3a\"],[0.8888888888888888,\"#fdca26\"],[1.0,\"#f0f921\"]],\"diverging\":[[0,\"#8e0152\"],[0.1,\"#c51b7d\"],[0.2,\"#de77ae\"],[0.3,\"#f1b6da\"],[0.4,\"#fde0ef\"],[0.5,\"#f7f7f7\"],[0.6,\"#e6f5d0\"],[0.7,\"#b8e186\"],[0.8,\"#7fbc41\"],[0.9,\"#4d9221\"],[1,\"#276419\"]]},\"xaxis\":{\"gridcolor\":\"white\",\"linecolor\":\"white\",\"ticks\":\"\",\"title\":{\"standoff\":15},\"zerolinecolor\":\"white\",\"automargin\":true,\"zerolinewidth\":2},\"yaxis\":{\"gridcolor\":\"white\",\"linecolor\":\"white\",\"ticks\":\"\",\"title\":{\"standoff\":15},\"zerolinecolor\":\"white\",\"automargin\":true,\"zerolinewidth\":2},\"scene\":{\"xaxis\":{\"backgroundcolor\":\"#E5ECF6\",\"gridcolor\":\"white\",\"linecolor\":\"white\",\"showbackground\":true,\"ticks\":\"\",\"zerolinecolor\":\"white\",\"gridwidth\":2},\"yaxis\":{\"backgroundcolor\":\"#E5ECF6\",\"gridcolor\":\"white\",\"linecolor\":\"white\",\"showbackground\":true,\"ticks\":\"\",\"zerolinecolor\":\"white\",\"gridwidth\":2},\"zaxis\":{\"backgroundcolor\":\"#E5ECF6\",\"gridcolor\":\"white\",\"linecolor\":\"white\",\"showbackground\":true,\"ticks\":\"\",\"zerolinecolor\":\"white\",\"gridwidth\":2}},\"shapedefaults\":{\"line\":{\"color\":\"#2a3f5f\"}},\"annotationdefaults\":{\"arrowcolor\":\"#2a3f5f\",\"arrowhead\":0,\"arrowwidth\":1},\"geo\":{\"bgcolor\":\"white\",\"landcolor\":\"#E5ECF6\",\"subunitcolor\":\"white\",\"showland\":true,\"showlakes\":true,\"lakecolor\":\"white\"},\"title\":{\"x\":0.05},\"mapbox\":{\"style\":\"light\"}}},\"barmode\":\"group\",\"height\":400},                        {\"responsive\": true}                    ).then(function(){\n",
       "                            \n",
       "var gd = document.getElementById('fb0e9ce8-6b5d-4dd9-9de2-18de28821d78');\n",
       "var x = new MutationObserver(function (mutations, observer) {{\n",
       "        var display = window.getComputedStyle(gd).display;\n",
       "        if (!display || display === 'none') {{\n",
       "            console.log([gd, 'removed!']);\n",
       "            Plotly.purge(gd);\n",
       "            observer.disconnect();\n",
       "        }}\n",
       "}});\n",
       "\n",
       "// Listen for the removal of the full notebook cells\n",
       "var notebookContainer = gd.closest('#notebook-container');\n",
       "if (notebookContainer) {{\n",
       "    x.observe(notebookContainer, {childList: true});\n",
       "}}\n",
       "\n",
       "// Listen for the clearing of the current output cell\n",
       "var outputEl = gd.closest('.output');\n",
       "if (outputEl) {{\n",
       "    x.observe(outputEl, {childList: true});\n",
       "}}\n",
       "\n",
       "                        })                };                });            </script>        </div>"
      ]
     },
     "metadata": {},
     "output_type": "display_data"
    }
   ],
   "source": [
    "## Humans dataset\n",
    "hum_talklen = hum_text_df.groupby(\"speaker\")[\"utterance_length\"].sum().reset_index()\n",
    "hum_votedon = hum_rounds_df[\"voted_for\"].value_counts().reset_index()\n",
    "cmp = hum_talklen.merge(hum_votedon, left_on=\"speaker\", right_on=\"voted_for\", how=\"inner\")\\\n",
    "                .rename(columns={\"speaker\": \"Player\", \"utterance_length\": \"Total talking time\", \"count\": \"Was voted for\"})\n",
    "\n",
    "fig = go.Figure(\n",
    "    data=[\n",
    "        go.Bar(name='Total talking time', x=cmp[\"Player\"], y=cmp[\"Total talking time\"], yaxis='y', offsetgroup=1),\n",
    "        go.Bar(name='Was voted for', x=cmp[\"Player\"], y=cmp[\"Was voted for\"], yaxis='y2', offsetgroup=2)\n",
    "    ],\n",
    "    layout={\n",
    "        'yaxis': {'title': 'Total talking time'},\n",
    "        'yaxis2': {'title': 'Was voted for', 'overlaying': 'y', 'side': 'right'},\n",
    "        \"title\": \"Humans: Player Talking Time vs. Was Voted On\"\n",
    "    }\n",
    ")\n",
    "# Change the bar mode\n",
    "fig.update_layout(barmode='group', height=400)\n",
    "fig.show()\n",
    "\n",
    "\n",
    "## LLMs dataset\n",
    "llm_talklen = llm_text_df[\"speaker\"].value_counts().reset_index()\n",
    "llm_votes = llm_text_df.groupby([\"game_id\", \"round\"])[\"votes\"].first().reset_index().dropna()[\"votes\"].apply(ast.literal_eval)\n",
    "voted_on = {}\n",
    "for vote in llm_votes:\n",
    "    for k, v in vote.items():\n",
    "        if not k in voted_on:\n",
    "            voted_on[k] = 1\n",
    "        else:\n",
    "            voted_on[k] += 1\n",
    "llm_votedon = pd.DataFrame(voted_on.items()).rename(columns={0: \"speaker\", 1: \"Voted On\"})\n",
    "\n",
    "cmp = llm_talklen.merge(llm_votedon, on=\"speaker\", how=\"inner\")\\\n",
    "                .rename(columns={\"speaker\": \"Player\", \"count\": \"Number of Speeches\"})\n",
    "\n",
    "fig = go.Figure(\n",
    "    data=[\n",
    "        go.Bar(name='Number of Speeches', x=cmp[\"Player\"], y=cmp[\"Number of Speeches\"], yaxis='y', offsetgroup=1),\n",
    "        go.Bar(name='Was voted for', x=cmp[\"Player\"], y=cmp[\"Voted On\"], yaxis='y2', offsetgroup=2)\n",
    "    ],\n",
    "    layout={\n",
    "        'yaxis': {'title': 'Number of Speeches'},\n",
    "        'yaxis2': {'title': 'Was voted for', 'overlaying': 'y', 'side': 'right'},\n",
    "        \"title\": \"LLMs: Player Talking Time vs. Was Voted On\"\n",
    "    }\n",
    ")\n",
    "# Change the bar mode\n",
    "fig.update_layout(barmode='group', height=400)\n",
    "fig.show()"
   ]
  },
  {
   "cell_type": "markdown",
   "id": "7e06c822-b3f4-4ce7-9a73-ab368132f9ac",
   "metadata": {},
   "source": [
    "### Voting spread\n",
    "\n",
    "How unified vs spread out the votes were per round"
   ]
  },
  {
   "cell_type": "code",
   "execution_count": 127,
   "id": "6a7f7dae-4718-404c-adff-be2164ddd3d5",
   "metadata": {
    "execution": {
     "iopub.execute_input": "2025-04-23T06:11:55.685537Z",
     "iopub.status.busy": "2025-04-23T06:11:55.685237Z",
     "iopub.status.idle": "2025-04-23T06:11:55.797456Z",
     "shell.execute_reply": "2025-04-23T06:11:55.796623Z",
     "shell.execute_reply.started": "2025-04-23T06:11:55.685514Z"
    }
   },
   "outputs": [
    {
     "data": {
      "application/vnd.plotly.v1+json": {
       "config": {
        "plotlyServerURL": "https://plot.ly"
       },
       "data": [
        {
         "name": "Human Voter Spread",
         "offsetgroup": "1",
         "opacity": 0.75,
         "type": "histogram",
         "x": [
          0.4,
          0.25,
          0,
          0.8333333333333334,
          0.4,
          0.75,
          0.8,
          0.3333333333333333,
          0.5,
          0.75,
          0.25,
          0.5,
          0.5,
          0.75,
          0.75,
          0.75,
          0.5,
          0.75,
          0.75,
          0.2,
          0.5,
          0.5,
          0.5,
          0.5,
          0.6666666666666666,
          0.6666666666666666,
          0.3333333333333333,
          0.3333333333333333,
          0.5,
          0.3333333333333333,
          0.75,
          0.75,
          0.6,
          0.6,
          0.6,
          0.8,
          0.75,
          0.5,
          0,
          0.75,
          1,
          0.75,
          0.25,
          0.8,
          0,
          0.75,
          0.5,
          0.8,
          0.75,
          0.75,
          0.6666666666666666,
          0.5,
          0.8333333333333334,
          0.25,
          0.75,
          0.6,
          0.6666666666666666,
          0.5,
          0.4,
          0.6,
          0.5,
          0.5,
          1,
          0.75,
          0.75,
          0.75,
          0.75,
          0.75,
          1,
          0.5,
          1,
          0.8,
          0.4,
          0.6,
          0.5,
          0,
          0.4,
          0.4,
          0.75,
          0.8,
          1,
          0.6666666666666666,
          0.75,
          0.6,
          0.5,
          0.4,
          0.6,
          0.6,
          0.75,
          0.6,
          0.5,
          0.5,
          0.75,
          0.5,
          0.75,
          0.5,
          0.5,
          0.8,
          0.6,
          0.6,
          0.6,
          0.3333333333333333,
          0.5,
          0.5,
          0.8,
          0.5,
          0.6,
          0.8333333333333334,
          0.6,
          0.75,
          0.75,
          0.5,
          0.5,
          0.8,
          0.75,
          0.5,
          0.6,
          0.8,
          0.4,
          0.6,
          0.6666666666666666,
          0.5,
          0.8,
          0.75,
          0.4,
          0.75,
          0.8,
          0.6666666666666666,
          0.75,
          0.75,
          0.6,
          0.6,
          0.8,
          0.6,
          0.6666666666666666,
          0.5,
          0.75,
          0.4,
          0.5,
          1,
          0.6666666666666666,
          0.6,
          0.75,
          0.5,
          0.5,
          0.5,
          0.4,
          0.75,
          0.3333333333333333,
          0.75,
          0.4,
          0.8333333333333334,
          1,
          0.5,
          0.75,
          0.4,
          0.6666666666666666,
          0.5,
          0.75,
          0.5,
          0,
          0.5,
          0.8
         ],
         "yaxis": "y"
        },
        {
         "name": "LLM Voter Spread",
         "offsetgroup": "2",
         "opacity": 0.75,
         "type": "histogram",
         "x": [
          0.5714285714285714,
          0.6,
          0.42857142857142855,
          0.6,
          0.5714285714285714,
          0.6666666666666666,
          0.5,
          0.7142857142857143,
          0.6,
          0.42857142857142855,
          0.5,
          0.5,
          0.6666666666666666,
          0.3333333333333333,
          0.8571428571428571,
          0.4,
          0.5,
          0.5,
          0.6666666666666666,
          0.42857142857142855,
          0.4,
          0.42857142857142855,
          0.5,
          0.4,
          0.75,
          0.42857142857142855,
          0.5,
          0.5714285714285714,
          0.42857142857142855,
          0.6,
          0.42857142857142855,
          0.3333333333333333,
          0.6
         ],
         "yaxis": "y2"
        }
       ],
       "layout": {
        "autosize": true,
        "barmode": "overlay",
        "template": {
         "data": {
          "bar": [
           {
            "error_x": {
             "color": "#2a3f5f"
            },
            "error_y": {
             "color": "#2a3f5f"
            },
            "marker": {
             "line": {
              "color": "#E5ECF6",
              "width": 0.5
             },
             "pattern": {
              "fillmode": "overlay",
              "size": 10,
              "solidity": 0.2
             }
            },
            "type": "bar"
           }
          ],
          "barpolar": [
           {
            "marker": {
             "line": {
              "color": "#E5ECF6",
              "width": 0.5
             },
             "pattern": {
              "fillmode": "overlay",
              "size": 10,
              "solidity": 0.2
             }
            },
            "type": "barpolar"
           }
          ],
          "carpet": [
           {
            "aaxis": {
             "endlinecolor": "#2a3f5f",
             "gridcolor": "white",
             "linecolor": "white",
             "minorgridcolor": "white",
             "startlinecolor": "#2a3f5f"
            },
            "baxis": {
             "endlinecolor": "#2a3f5f",
             "gridcolor": "white",
             "linecolor": "white",
             "minorgridcolor": "white",
             "startlinecolor": "#2a3f5f"
            },
            "type": "carpet"
           }
          ],
          "choropleth": [
           {
            "colorbar": {
             "outlinewidth": 0,
             "ticks": ""
            },
            "type": "choropleth"
           }
          ],
          "contour": [
           {
            "colorbar": {
             "outlinewidth": 0,
             "ticks": ""
            },
            "colorscale": [
             [
              0,
              "#0d0887"
             ],
             [
              0.1111111111111111,
              "#46039f"
             ],
             [
              0.2222222222222222,
              "#7201a8"
             ],
             [
              0.3333333333333333,
              "#9c179e"
             ],
             [
              0.4444444444444444,
              "#bd3786"
             ],
             [
              0.5555555555555556,
              "#d8576b"
             ],
             [
              0.6666666666666666,
              "#ed7953"
             ],
             [
              0.7777777777777778,
              "#fb9f3a"
             ],
             [
              0.8888888888888888,
              "#fdca26"
             ],
             [
              1,
              "#f0f921"
             ]
            ],
            "type": "contour"
           }
          ],
          "contourcarpet": [
           {
            "colorbar": {
             "outlinewidth": 0,
             "ticks": ""
            },
            "type": "contourcarpet"
           }
          ],
          "heatmap": [
           {
            "colorbar": {
             "outlinewidth": 0,
             "ticks": ""
            },
            "colorscale": [
             [
              0,
              "#0d0887"
             ],
             [
              0.1111111111111111,
              "#46039f"
             ],
             [
              0.2222222222222222,
              "#7201a8"
             ],
             [
              0.3333333333333333,
              "#9c179e"
             ],
             [
              0.4444444444444444,
              "#bd3786"
             ],
             [
              0.5555555555555556,
              "#d8576b"
             ],
             [
              0.6666666666666666,
              "#ed7953"
             ],
             [
              0.7777777777777778,
              "#fb9f3a"
             ],
             [
              0.8888888888888888,
              "#fdca26"
             ],
             [
              1,
              "#f0f921"
             ]
            ],
            "type": "heatmap"
           }
          ],
          "heatmapgl": [
           {
            "colorbar": {
             "outlinewidth": 0,
             "ticks": ""
            },
            "colorscale": [
             [
              0,
              "#0d0887"
             ],
             [
              0.1111111111111111,
              "#46039f"
             ],
             [
              0.2222222222222222,
              "#7201a8"
             ],
             [
              0.3333333333333333,
              "#9c179e"
             ],
             [
              0.4444444444444444,
              "#bd3786"
             ],
             [
              0.5555555555555556,
              "#d8576b"
             ],
             [
              0.6666666666666666,
              "#ed7953"
             ],
             [
              0.7777777777777778,
              "#fb9f3a"
             ],
             [
              0.8888888888888888,
              "#fdca26"
             ],
             [
              1,
              "#f0f921"
             ]
            ],
            "type": "heatmapgl"
           }
          ],
          "histogram": [
           {
            "marker": {
             "pattern": {
              "fillmode": "overlay",
              "size": 10,
              "solidity": 0.2
             }
            },
            "type": "histogram"
           }
          ],
          "histogram2d": [
           {
            "colorbar": {
             "outlinewidth": 0,
             "ticks": ""
            },
            "colorscale": [
             [
              0,
              "#0d0887"
             ],
             [
              0.1111111111111111,
              "#46039f"
             ],
             [
              0.2222222222222222,
              "#7201a8"
             ],
             [
              0.3333333333333333,
              "#9c179e"
             ],
             [
              0.4444444444444444,
              "#bd3786"
             ],
             [
              0.5555555555555556,
              "#d8576b"
             ],
             [
              0.6666666666666666,
              "#ed7953"
             ],
             [
              0.7777777777777778,
              "#fb9f3a"
             ],
             [
              0.8888888888888888,
              "#fdca26"
             ],
             [
              1,
              "#f0f921"
             ]
            ],
            "type": "histogram2d"
           }
          ],
          "histogram2dcontour": [
           {
            "colorbar": {
             "outlinewidth": 0,
             "ticks": ""
            },
            "colorscale": [
             [
              0,
              "#0d0887"
             ],
             [
              0.1111111111111111,
              "#46039f"
             ],
             [
              0.2222222222222222,
              "#7201a8"
             ],
             [
              0.3333333333333333,
              "#9c179e"
             ],
             [
              0.4444444444444444,
              "#bd3786"
             ],
             [
              0.5555555555555556,
              "#d8576b"
             ],
             [
              0.6666666666666666,
              "#ed7953"
             ],
             [
              0.7777777777777778,
              "#fb9f3a"
             ],
             [
              0.8888888888888888,
              "#fdca26"
             ],
             [
              1,
              "#f0f921"
             ]
            ],
            "type": "histogram2dcontour"
           }
          ],
          "mesh3d": [
           {
            "colorbar": {
             "outlinewidth": 0,
             "ticks": ""
            },
            "type": "mesh3d"
           }
          ],
          "parcoords": [
           {
            "line": {
             "colorbar": {
              "outlinewidth": 0,
              "ticks": ""
             }
            },
            "type": "parcoords"
           }
          ],
          "pie": [
           {
            "automargin": true,
            "type": "pie"
           }
          ],
          "scatter": [
           {
            "fillpattern": {
             "fillmode": "overlay",
             "size": 10,
             "solidity": 0.2
            },
            "type": "scatter"
           }
          ],
          "scatter3d": [
           {
            "line": {
             "colorbar": {
              "outlinewidth": 0,
              "ticks": ""
             }
            },
            "marker": {
             "colorbar": {
              "outlinewidth": 0,
              "ticks": ""
             }
            },
            "type": "scatter3d"
           }
          ],
          "scattercarpet": [
           {
            "marker": {
             "colorbar": {
              "outlinewidth": 0,
              "ticks": ""
             }
            },
            "type": "scattercarpet"
           }
          ],
          "scattergeo": [
           {
            "marker": {
             "colorbar": {
              "outlinewidth": 0,
              "ticks": ""
             }
            },
            "type": "scattergeo"
           }
          ],
          "scattergl": [
           {
            "marker": {
             "colorbar": {
              "outlinewidth": 0,
              "ticks": ""
             }
            },
            "type": "scattergl"
           }
          ],
          "scattermapbox": [
           {
            "marker": {
             "colorbar": {
              "outlinewidth": 0,
              "ticks": ""
             }
            },
            "type": "scattermapbox"
           }
          ],
          "scatterpolar": [
           {
            "marker": {
             "colorbar": {
              "outlinewidth": 0,
              "ticks": ""
             }
            },
            "type": "scatterpolar"
           }
          ],
          "scatterpolargl": [
           {
            "marker": {
             "colorbar": {
              "outlinewidth": 0,
              "ticks": ""
             }
            },
            "type": "scatterpolargl"
           }
          ],
          "scatterternary": [
           {
            "marker": {
             "colorbar": {
              "outlinewidth": 0,
              "ticks": ""
             }
            },
            "type": "scatterternary"
           }
          ],
          "surface": [
           {
            "colorbar": {
             "outlinewidth": 0,
             "ticks": ""
            },
            "colorscale": [
             [
              0,
              "#0d0887"
             ],
             [
              0.1111111111111111,
              "#46039f"
             ],
             [
              0.2222222222222222,
              "#7201a8"
             ],
             [
              0.3333333333333333,
              "#9c179e"
             ],
             [
              0.4444444444444444,
              "#bd3786"
             ],
             [
              0.5555555555555556,
              "#d8576b"
             ],
             [
              0.6666666666666666,
              "#ed7953"
             ],
             [
              0.7777777777777778,
              "#fb9f3a"
             ],
             [
              0.8888888888888888,
              "#fdca26"
             ],
             [
              1,
              "#f0f921"
             ]
            ],
            "type": "surface"
           }
          ],
          "table": [
           {
            "cells": {
             "fill": {
              "color": "#EBF0F8"
             },
             "line": {
              "color": "white"
             }
            },
            "header": {
             "fill": {
              "color": "#C8D4E3"
             },
             "line": {
              "color": "white"
             }
            },
            "type": "table"
           }
          ]
         },
         "layout": {
          "annotationdefaults": {
           "arrowcolor": "#2a3f5f",
           "arrowhead": 0,
           "arrowwidth": 1
          },
          "autotypenumbers": "strict",
          "coloraxis": {
           "colorbar": {
            "outlinewidth": 0,
            "ticks": ""
           }
          },
          "colorscale": {
           "diverging": [
            [
             0,
             "#8e0152"
            ],
            [
             0.1,
             "#c51b7d"
            ],
            [
             0.2,
             "#de77ae"
            ],
            [
             0.3,
             "#f1b6da"
            ],
            [
             0.4,
             "#fde0ef"
            ],
            [
             0.5,
             "#f7f7f7"
            ],
            [
             0.6,
             "#e6f5d0"
            ],
            [
             0.7,
             "#b8e186"
            ],
            [
             0.8,
             "#7fbc41"
            ],
            [
             0.9,
             "#4d9221"
            ],
            [
             1,
             "#276419"
            ]
           ],
           "sequential": [
            [
             0,
             "#0d0887"
            ],
            [
             0.1111111111111111,
             "#46039f"
            ],
            [
             0.2222222222222222,
             "#7201a8"
            ],
            [
             0.3333333333333333,
             "#9c179e"
            ],
            [
             0.4444444444444444,
             "#bd3786"
            ],
            [
             0.5555555555555556,
             "#d8576b"
            ],
            [
             0.6666666666666666,
             "#ed7953"
            ],
            [
             0.7777777777777778,
             "#fb9f3a"
            ],
            [
             0.8888888888888888,
             "#fdca26"
            ],
            [
             1,
             "#f0f921"
            ]
           ],
           "sequentialminus": [
            [
             0,
             "#0d0887"
            ],
            [
             0.1111111111111111,
             "#46039f"
            ],
            [
             0.2222222222222222,
             "#7201a8"
            ],
            [
             0.3333333333333333,
             "#9c179e"
            ],
            [
             0.4444444444444444,
             "#bd3786"
            ],
            [
             0.5555555555555556,
             "#d8576b"
            ],
            [
             0.6666666666666666,
             "#ed7953"
            ],
            [
             0.7777777777777778,
             "#fb9f3a"
            ],
            [
             0.8888888888888888,
             "#fdca26"
            ],
            [
             1,
             "#f0f921"
            ]
           ]
          },
          "colorway": [
           "#636efa",
           "#EF553B",
           "#00cc96",
           "#ab63fa",
           "#FFA15A",
           "#19d3f3",
           "#FF6692",
           "#B6E880",
           "#FF97FF",
           "#FECB52"
          ],
          "font": {
           "color": "#2a3f5f"
          },
          "geo": {
           "bgcolor": "white",
           "lakecolor": "white",
           "landcolor": "#E5ECF6",
           "showlakes": true,
           "showland": true,
           "subunitcolor": "white"
          },
          "hoverlabel": {
           "align": "left"
          },
          "hovermode": "closest",
          "mapbox": {
           "style": "light"
          },
          "paper_bgcolor": "white",
          "plot_bgcolor": "#E5ECF6",
          "polar": {
           "angularaxis": {
            "gridcolor": "white",
            "linecolor": "white",
            "ticks": ""
           },
           "bgcolor": "#E5ECF6",
           "radialaxis": {
            "gridcolor": "white",
            "linecolor": "white",
            "ticks": ""
           }
          },
          "scene": {
           "xaxis": {
            "backgroundcolor": "#E5ECF6",
            "gridcolor": "white",
            "gridwidth": 2,
            "linecolor": "white",
            "showbackground": true,
            "ticks": "",
            "zerolinecolor": "white"
           },
           "yaxis": {
            "backgroundcolor": "#E5ECF6",
            "gridcolor": "white",
            "gridwidth": 2,
            "linecolor": "white",
            "showbackground": true,
            "ticks": "",
            "zerolinecolor": "white"
           },
           "zaxis": {
            "backgroundcolor": "#E5ECF6",
            "gridcolor": "white",
            "gridwidth": 2,
            "linecolor": "white",
            "showbackground": true,
            "ticks": "",
            "zerolinecolor": "white"
           }
          },
          "shapedefaults": {
           "line": {
            "color": "#2a3f5f"
           }
          },
          "ternary": {
           "aaxis": {
            "gridcolor": "white",
            "linecolor": "white",
            "ticks": ""
           },
           "baxis": {
            "gridcolor": "white",
            "linecolor": "white",
            "ticks": ""
           },
           "bgcolor": "#E5ECF6",
           "caxis": {
            "gridcolor": "white",
            "linecolor": "white",
            "ticks": ""
           }
          },
          "title": {
           "x": 0.05
          },
          "xaxis": {
           "automargin": true,
           "gridcolor": "white",
           "linecolor": "white",
           "ticks": "",
           "title": {
            "standoff": 15
           },
           "zerolinecolor": "white",
           "zerolinewidth": 2
          },
          "yaxis": {
           "automargin": true,
           "gridcolor": "white",
           "linecolor": "white",
           "ticks": "",
           "title": {
            "standoff": 15
           },
           "zerolinecolor": "white",
           "zerolinewidth": 2
          }
         }
        },
        "title": {
         "text": "Spread of Votes"
        },
        "xaxis": {
         "autorange": true,
         "range": [
          6.938893903907228e-17,
          1.1
         ],
         "title": {
          "text": "Ratio That Voted for Top Choice"
         },
         "type": "linear"
        },
        "yaxis": {
         "autorange": true,
         "range": [
          0,
          41.05263157894737
         ],
         "title": {
          "text": "Human Count"
         }
        },
        "yaxis2": {
         "autorange": true,
         "overlaying": "y",
         "range": [
          0,
          10.526315789473685
         ],
         "side": "right",
         "title": {
          "text": "LLM Count"
         }
        }
       }
      },
      "image/png": "[encoded data removed]",
      "text/html": [
       "<div>                            <div id=\"6ed50cf3-7f27-475b-932e-7a79eebd6d37\" class=\"plotly-graph-div\" style=\"height:400px; width:100%;\"></div>            <script type=\"text/javascript\">                require([\"plotly\"], function(Plotly) {                    window.PLOTLYENV=window.PLOTLYENV || {};                                    if (document.getElementById(\"6ed50cf3-7f27-475b-932e-7a79eebd6d37\")) {                    Plotly.newPlot(                        \"6ed50cf3-7f27-475b-932e-7a79eebd6d37\",                        [{\"name\":\"Human Voter Spread\",\"offsetgroup\":\"1\",\"opacity\":0.75,\"x\":[0.4,0.25,0.0,0.8333333333333334,0.4,0.75,0.8,0.3333333333333333,0.5,0.75,0.25,0.5,0.5,0.75,0.75,0.75,0.5,0.75,0.75,0.2,0.5,0.5,0.5,0.5,0.6666666666666666,0.6666666666666666,0.3333333333333333,0.3333333333333333,0.5,0.3333333333333333,0.75,0.75,0.6,0.6,0.6,0.8,0.75,0.5,0.0,0.75,1.0,0.75,0.25,0.8,0.0,0.75,0.5,0.8,0.75,0.75,0.6666666666666666,0.5,0.8333333333333334,0.25,0.75,0.6,0.6666666666666666,0.5,0.4,0.6,0.5,0.5,1.0,0.75,0.75,0.75,0.75,0.75,1.0,0.5,1.0,0.8,0.4,0.6,0.5,0.0,0.4,0.4,0.75,0.8,1.0,0.6666666666666666,0.75,0.6,0.5,0.4,0.6,0.6,0.75,0.6,0.5,0.5,0.75,0.5,0.75,0.5,0.5,0.8,0.6,0.6,0.6,0.3333333333333333,0.5,0.5,0.8,0.5,0.6,0.8333333333333334,0.6,0.75,0.75,0.5,0.5,0.8,0.75,0.5,0.6,0.8,0.4,0.6,0.6666666666666666,0.5,0.8,0.75,0.4,0.75,0.8,0.6666666666666666,0.75,0.75,0.6,0.6,0.8,0.6,0.6666666666666666,0.5,0.75,0.4,0.5,1.0,0.6666666666666666,0.6,0.75,0.5,0.5,0.5,0.4,0.75,0.3333333333333333,0.75,0.4,0.8333333333333334,1.0,0.5,0.75,0.4,0.6666666666666666,0.5,0.75,0.5,0.0,0.5,0.8],\"yaxis\":\"y\",\"type\":\"histogram\"},{\"name\":\"LLM Voter Spread\",\"offsetgroup\":\"2\",\"opacity\":0.75,\"x\":[0.5714285714285714,0.6,0.42857142857142855,0.6,0.5714285714285714,0.6666666666666666,0.5,0.7142857142857143,0.6,0.42857142857142855,0.5,0.5,0.6666666666666666,0.3333333333333333,0.8571428571428571,0.4,0.5,0.5,0.6666666666666666,0.42857142857142855,0.4,0.42857142857142855,0.5,0.4,0.75,0.42857142857142855,0.5,0.5714285714285714,0.42857142857142855,0.6,0.42857142857142855,0.3333333333333333,0.6],\"yaxis\":\"y2\",\"type\":\"histogram\"}],                        {\"title\":{\"text\":\"Spread of Votes\"},\"xaxis\":{\"title\":{\"text\":\"Ratio That Voted for Top Choice\"}},\"yaxis\":{\"title\":{\"text\":\"Human Count\"}},\"yaxis2\":{\"overlaying\":\"y\",\"side\":\"right\",\"title\":{\"text\":\"LLM Count\"}},\"template\":{\"data\":{\"histogram2dcontour\":[{\"type\":\"histogram2dcontour\",\"colorbar\":{\"outlinewidth\":0,\"ticks\":\"\"},\"colorscale\":[[0.0,\"#0d0887\"],[0.1111111111111111,\"#46039f\"],[0.2222222222222222,\"#7201a8\"],[0.3333333333333333,\"#9c179e\"],[0.4444444444444444,\"#bd3786\"],[0.5555555555555556,\"#d8576b\"],[0.6666666666666666,\"#ed7953\"],[0.7777777777777778,\"#fb9f3a\"],[0.8888888888888888,\"#fdca26\"],[1.0,\"#f0f921\"]]}],\"choropleth\":[{\"type\":\"choropleth\",\"colorbar\":{\"outlinewidth\":0,\"ticks\":\"\"}}],\"histogram2d\":[{\"type\":\"histogram2d\",\"colorbar\":{\"outlinewidth\":0,\"ticks\":\"\"},\"colorscale\":[[0.0,\"#0d0887\"],[0.1111111111111111,\"#46039f\"],[0.2222222222222222,\"#7201a8\"],[0.3333333333333333,\"#9c179e\"],[0.4444444444444444,\"#bd3786\"],[0.5555555555555556,\"#d8576b\"],[0.6666666666666666,\"#ed7953\"],[0.7777777777777778,\"#fb9f3a\"],[0.8888888888888888,\"#fdca26\"],[1.0,\"#f0f921\"]]}],\"heatmap\":[{\"type\":\"heatmap\",\"colorbar\":{\"outlinewidth\":0,\"ticks\":\"\"},\"colorscale\":[[0.0,\"#0d0887\"],[0.1111111111111111,\"#46039f\"],[0.2222222222222222,\"#7201a8\"],[0.3333333333333333,\"#9c179e\"],[0.4444444444444444,\"#bd3786\"],[0.5555555555555556,\"#d8576b\"],[0.6666666666666666,\"#ed7953\"],[0.7777777777777778,\"#fb9f3a\"],[0.8888888888888888,\"#fdca26\"],[1.0,\"#f0f921\"]]}],\"heatmapgl\":[{\"type\":\"heatmapgl\",\"colorbar\":{\"outlinewidth\":0,\"ticks\":\"\"},\"colorscale\":[[0.0,\"#0d0887\"],[0.1111111111111111,\"#46039f\"],[0.2222222222222222,\"#7201a8\"],[0.3333333333333333,\"#9c179e\"],[0.4444444444444444,\"#bd3786\"],[0.5555555555555556,\"#d8576b\"],[0.6666666666666666,\"#ed7953\"],[0.7777777777777778,\"#fb9f3a\"],[0.8888888888888888,\"#fdca26\"],[1.0,\"#f0f921\"]]}],\"contourcarpet\":[{\"type\":\"contourcarpet\",\"colorbar\":{\"outlinewidth\":0,\"ticks\":\"\"}}],\"contour\":[{\"type\":\"contour\",\"colorbar\":{\"outlinewidth\":0,\"ticks\":\"\"},\"colorscale\":[[0.0,\"#0d0887\"],[0.1111111111111111,\"#46039f\"],[0.2222222222222222,\"#7201a8\"],[0.3333333333333333,\"#9c179e\"],[0.4444444444444444,\"#bd3786\"],[0.5555555555555556,\"#d8576b\"],[0.6666666666666666,\"#ed7953\"],[0.7777777777777778,\"#fb9f3a\"],[0.8888888888888888,\"#fdca26\"],[1.0,\"#f0f921\"]]}],\"surface\":[{\"type\":\"surface\",\"colorbar\":{\"outlinewidth\":0,\"ticks\":\"\"},\"colorscale\":[[0.0,\"#0d0887\"],[0.1111111111111111,\"#46039f\"],[0.2222222222222222,\"#7201a8\"],[0.3333333333333333,\"#9c179e\"],[0.4444444444444444,\"#bd3786\"],[0.5555555555555556,\"#d8576b\"],[0.6666666666666666,\"#ed7953\"],[0.7777777777777778,\"#fb9f3a\"],[0.8888888888888888,\"#fdca26\"],[1.0,\"#f0f921\"]]}],\"mesh3d\":[{\"type\":\"mesh3d\",\"colorbar\":{\"outlinewidth\":0,\"ticks\":\"\"}}],\"scatter\":[{\"fillpattern\":{\"fillmode\":\"overlay\",\"size\":10,\"solidity\":0.2},\"type\":\"scatter\"}],\"parcoords\":[{\"type\":\"parcoords\",\"line\":{\"colorbar\":{\"outlinewidth\":0,\"ticks\":\"\"}}}],\"scatterpolargl\":[{\"type\":\"scatterpolargl\",\"marker\":{\"colorbar\":{\"outlinewidth\":0,\"ticks\":\"\"}}}],\"bar\":[{\"error_x\":{\"color\":\"#2a3f5f\"},\"error_y\":{\"color\":\"#2a3f5f\"},\"marker\":{\"line\":{\"color\":\"#E5ECF6\",\"width\":0.5},\"pattern\":{\"fillmode\":\"overlay\",\"size\":10,\"solidity\":0.2}},\"type\":\"bar\"}],\"scattergeo\":[{\"type\":\"scattergeo\",\"marker\":{\"colorbar\":{\"outlinewidth\":0,\"ticks\":\"\"}}}],\"scatterpolar\":[{\"type\":\"scatterpolar\",\"marker\":{\"colorbar\":{\"outlinewidth\":0,\"ticks\":\"\"}}}],\"histogram\":[{\"marker\":{\"pattern\":{\"fillmode\":\"overlay\",\"size\":10,\"solidity\":0.2}},\"type\":\"histogram\"}],\"scattergl\":[{\"type\":\"scattergl\",\"marker\":{\"colorbar\":{\"outlinewidth\":0,\"ticks\":\"\"}}}],\"scatter3d\":[{\"type\":\"scatter3d\",\"line\":{\"colorbar\":{\"outlinewidth\":0,\"ticks\":\"\"}},\"marker\":{\"colorbar\":{\"outlinewidth\":0,\"ticks\":\"\"}}}],\"scattermapbox\":[{\"type\":\"scattermapbox\",\"marker\":{\"colorbar\":{\"outlinewidth\":0,\"ticks\":\"\"}}}],\"scatterternary\":[{\"type\":\"scatterternary\",\"marker\":{\"colorbar\":{\"outlinewidth\":0,\"ticks\":\"\"}}}],\"scattercarpet\":[{\"type\":\"scattercarpet\",\"marker\":{\"colorbar\":{\"outlinewidth\":0,\"ticks\":\"\"}}}],\"carpet\":[{\"aaxis\":{\"endlinecolor\":\"#2a3f5f\",\"gridcolor\":\"white\",\"linecolor\":\"white\",\"minorgridcolor\":\"white\",\"startlinecolor\":\"#2a3f5f\"},\"baxis\":{\"endlinecolor\":\"#2a3f5f\",\"gridcolor\":\"white\",\"linecolor\":\"white\",\"minorgridcolor\":\"white\",\"startlinecolor\":\"#2a3f5f\"},\"type\":\"carpet\"}],\"table\":[{\"cells\":{\"fill\":{\"color\":\"#EBF0F8\"},\"line\":{\"color\":\"white\"}},\"header\":{\"fill\":{\"color\":\"#C8D4E3\"},\"line\":{\"color\":\"white\"}},\"type\":\"table\"}],\"barpolar\":[{\"marker\":{\"line\":{\"color\":\"#E5ECF6\",\"width\":0.5},\"pattern\":{\"fillmode\":\"overlay\",\"size\":10,\"solidity\":0.2}},\"type\":\"barpolar\"}],\"pie\":[{\"automargin\":true,\"type\":\"pie\"}]},\"layout\":{\"autotypenumbers\":\"strict\",\"colorway\":[\"#636efa\",\"#EF553B\",\"#00cc96\",\"#ab63fa\",\"#FFA15A\",\"#19d3f3\",\"#FF6692\",\"#B6E880\",\"#FF97FF\",\"#FECB52\"],\"font\":{\"color\":\"#2a3f5f\"},\"hovermode\":\"closest\",\"hoverlabel\":{\"align\":\"left\"},\"paper_bgcolor\":\"white\",\"plot_bgcolor\":\"#E5ECF6\",\"polar\":{\"bgcolor\":\"#E5ECF6\",\"angularaxis\":{\"gridcolor\":\"white\",\"linecolor\":\"white\",\"ticks\":\"\"},\"radialaxis\":{\"gridcolor\":\"white\",\"linecolor\":\"white\",\"ticks\":\"\"}},\"ternary\":{\"bgcolor\":\"#E5ECF6\",\"aaxis\":{\"gridcolor\":\"white\",\"linecolor\":\"white\",\"ticks\":\"\"},\"baxis\":{\"gridcolor\":\"white\",\"linecolor\":\"white\",\"ticks\":\"\"},\"caxis\":{\"gridcolor\":\"white\",\"linecolor\":\"white\",\"ticks\":\"\"}},\"coloraxis\":{\"colorbar\":{\"outlinewidth\":0,\"ticks\":\"\"}},\"colorscale\":{\"sequential\":[[0.0,\"#0d0887\"],[0.1111111111111111,\"#46039f\"],[0.2222222222222222,\"#7201a8\"],[0.3333333333333333,\"#9c179e\"],[0.4444444444444444,\"#bd3786\"],[0.5555555555555556,\"#d8576b\"],[0.6666666666666666,\"#ed7953\"],[0.7777777777777778,\"#fb9f3a\"],[0.8888888888888888,\"#fdca26\"],[1.0,\"#f0f921\"]],\"sequentialminus\":[[0.0,\"#0d0887\"],[0.1111111111111111,\"#46039f\"],[0.2222222222222222,\"#7201a8\"],[0.3333333333333333,\"#9c179e\"],[0.4444444444444444,\"#bd3786\"],[0.5555555555555556,\"#d8576b\"],[0.6666666666666666,\"#ed7953\"],[0.7777777777777778,\"#fb9f3a\"],[0.8888888888888888,\"#fdca26\"],[1.0,\"#f0f921\"]],\"diverging\":[[0,\"#8e0152\"],[0.1,\"#c51b7d\"],[0.2,\"#de77ae\"],[0.3,\"#f1b6da\"],[0.4,\"#fde0ef\"],[0.5,\"#f7f7f7\"],[0.6,\"#e6f5d0\"],[0.7,\"#b8e186\"],[0.8,\"#7fbc41\"],[0.9,\"#4d9221\"],[1,\"#276419\"]]},\"xaxis\":{\"gridcolor\":\"white\",\"linecolor\":\"white\",\"ticks\":\"\",\"title\":{\"standoff\":15},\"zerolinecolor\":\"white\",\"automargin\":true,\"zerolinewidth\":2},\"yaxis\":{\"gridcolor\":\"white\",\"linecolor\":\"white\",\"ticks\":\"\",\"title\":{\"standoff\":15},\"zerolinecolor\":\"white\",\"automargin\":true,\"zerolinewidth\":2},\"scene\":{\"xaxis\":{\"backgroundcolor\":\"#E5ECF6\",\"gridcolor\":\"white\",\"linecolor\":\"white\",\"showbackground\":true,\"ticks\":\"\",\"zerolinecolor\":\"white\",\"gridwidth\":2},\"yaxis\":{\"backgroundcolor\":\"#E5ECF6\",\"gridcolor\":\"white\",\"linecolor\":\"white\",\"showbackground\":true,\"ticks\":\"\",\"zerolinecolor\":\"white\",\"gridwidth\":2},\"zaxis\":{\"backgroundcolor\":\"#E5ECF6\",\"gridcolor\":\"white\",\"linecolor\":\"white\",\"showbackground\":true,\"ticks\":\"\",\"zerolinecolor\":\"white\",\"gridwidth\":2}},\"shapedefaults\":{\"line\":{\"color\":\"#2a3f5f\"}},\"annotationdefaults\":{\"arrowcolor\":\"#2a3f5f\",\"arrowhead\":0,\"arrowwidth\":1},\"geo\":{\"bgcolor\":\"white\",\"landcolor\":\"#E5ECF6\",\"subunitcolor\":\"white\",\"showland\":true,\"showlakes\":true,\"lakecolor\":\"white\"},\"title\":{\"x\":0.05},\"mapbox\":{\"style\":\"light\"}}},\"barmode\":\"overlay\",\"height\":400},                        {\"responsive\": true}                    ).then(function(){\n",
       "                            \n",
       "var gd = document.getElementById('6ed50cf3-7f27-475b-932e-7a79eebd6d37');\n",
       "var x = new MutationObserver(function (mutations, observer) {{\n",
       "        var display = window.getComputedStyle(gd).display;\n",
       "        if (!display || display === 'none') {{\n",
       "            console.log([gd, 'removed!']);\n",
       "            Plotly.purge(gd);\n",
       "            observer.disconnect();\n",
       "        }}\n",
       "}});\n",
       "\n",
       "// Listen for the removal of the full notebook cells\n",
       "var notebookContainer = gd.closest('#notebook-container');\n",
       "if (notebookContainer) {{\n",
       "    x.observe(notebookContainer, {childList: true});\n",
       "}}\n",
       "\n",
       "// Listen for the clearing of the current output cell\n",
       "var outputEl = gd.closest('.output');\n",
       "if (outputEl) {{\n",
       "    x.observe(outputEl, {childList: true});\n",
       "}}\n",
       "\n",
       "                        })                };                });            </script>        </div>"
      ]
     },
     "metadata": {},
     "output_type": "display_data"
    }
   ],
   "source": [
    "def human_spread(group):\n",
    "    # Drop NaN or None values in voted_for\n",
    "    votes = group['voted_for'].dropna()\n",
    "    # Count the votes\n",
    "    vote_counts = votes.value_counts()\n",
    "    if len(vote_counts) == 0:\n",
    "        return 0\n",
    "    # Get most voted for person / total votes\n",
    "    return vote_counts.iloc[0] / len(group)\n",
    "hum_vote_spread = hum_rounds_df.groupby(\"game_id\").apply(human_spread).reset_index()[0]\n",
    "\n",
    "llm_vote_spread = []\n",
    "for vote in llm_votes:\n",
    "    llm_vote_spread.append(Counter(vote.values()).most_common(1)[0][1] / len(vote))\n",
    "\n",
    "\n",
    "fig = go.Figure(\n",
    "    data=[\n",
    "        go.Histogram(name='Human Voter Spread', x=hum_vote_spread, opacity=0.75, yaxis='y', offsetgroup=1),\n",
    "        go.Histogram(name='LLM Voter Spread', x=llm_vote_spread, opacity=0.75, yaxis='y2', offsetgroup=2),\n",
    "    ],\n",
    "    layout=dict(\n",
    "        title=\"Spread of Votes\",\n",
    "        xaxis=dict(title=\"Ratio That Voted for Top Choice\"),\n",
    "        yaxis={\"title\": \"Human Count\"},\n",
    "        yaxis2={'overlaying': 'y', 'side': 'right', \"title\": \"LLM Count\"},\n",
    "    )\n",
    ")\n",
    "# Change the bar mode\n",
    "fig.update_layout(barmode='overlay', height=400)\n",
    "fig.show()"
   ]
  },
  {
   "cell_type": "code",
   "execution_count": 57,
   "id": "bc78e77d-ec78-418f-90d2-24f4dbab7792",
   "metadata": {
    "execution": {
     "iopub.execute_input": "2025-04-23T03:51:20.620599Z",
     "iopub.status.busy": "2025-04-23T03:51:20.620323Z",
     "iopub.status.idle": "2025-04-23T03:51:20.626067Z",
     "shell.execute_reply": "2025-04-23T03:51:20.625132Z",
     "shell.execute_reply.started": "2025-04-23T03:51:20.620579Z"
    }
   },
   "outputs": [
    {
     "data": {
      "text/plain": [
       "0        I don't know why this is necessary considering...\n",
       "1                                         I am a Villager.\n",
       "2                                            Like, I mean-\n",
       "3                                            But, I-I-I-I-\n",
       "4        Continue. Well, I guess we don't really need t...\n",
       "                               ...                        \n",
       "21067                                            We could.\n",
       "21068                                               Justin\n",
       "21069                    It's just Justin, Justin, Justin.\n",
       "21070                                      Just inception.\n",
       "21071                            So we're voting Mitchell?\n",
       "Name: text, Length: 21072, dtype: object"
      ]
     },
     "execution_count": 57,
     "metadata": {},
     "output_type": "execute_result"
    }
   ],
   "source": [
    "hum_text_df[\"text\"]"
   ]
  },
  {
   "cell_type": "code",
   "execution_count": 58,
   "id": "8521acdd-0902-4b72-a4d4-52a884b51584",
   "metadata": {
    "execution": {
     "iopub.execute_input": "2025-04-23T03:51:26.459460Z",
     "iopub.status.busy": "2025-04-23T03:51:26.458922Z",
     "iopub.status.idle": "2025-04-23T03:51:26.466621Z",
     "shell.execute_reply": "2025-04-23T03:51:26.465417Z",
     "shell.execute_reply.started": "2025-04-23T03:51:26.459431Z"
    }
   },
   "outputs": [
    {
     "data": {
      "text/plain": [
       "0      Alright everyone, it's unfortunate that we've ...\n",
       "1      Thanks, Will. It's indeed a tough start losing...\n",
       "2      Thanks, Hayley. I agree with you and Will that...\n",
       "3      Jacob, I appreciate you pointing out that I wa...\n",
       "4      Thanks for addressing that, Jackson. I complet...\n",
       "                             ...                        \n",
       "250    Hayley, your accusations are unfounded and ser...\n",
       "251    Harold, your insistence on labeling me as the ...\n",
       "252    Hayley, your tactics of distraction are transp...\n",
       "253    I want to echo what Harold has shared with us:...\n",
       "254    I appreciate the spirited debate, but it's cru...\n",
       "Name: text, Length: 255, dtype: object"
      ]
     },
     "execution_count": 58,
     "metadata": {},
     "output_type": "execute_result"
    }
   ],
   "source": [
    "llm_text_df[\"text\"]"
   ]
  },
  {
   "cell_type": "code",
   "execution_count": null,
   "id": "37ed6a89-97e0-4563-8243-60e07c1563fe",
   "metadata": {},
   "outputs": [],
   "source": []
  }
 ],
 "metadata": {
  "kernelspec": {
   "display_name": "Python 3 (ipykernel)",
   "language": "python",
   "name": "python3"
  },
  "language_info": {
   "codemirror_mode": {
    "name": "ipython",
    "version": 3
   },
   "file_extension": ".py",
   "mimetype": "text/x-python",
   "name": "python",
   "nbconvert_exporter": "python",
   "pygments_lexer": "ipython3",
   "version": "3.10.0"
  }
 },
 "nbformat": 4,
 "nbformat_minor": 5
}
