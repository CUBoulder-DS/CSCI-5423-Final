{
 "cells": [
  {
   "cell_type": "raw",
   "id": "6cb8f887-bdb9-4007-9989-96052d0d0f0c",
   "metadata": {},
   "source": [
    "---\n",
    "author: Bhavana Jonnalagadda\n",
    "---"
   ]
  },
  {
   "cell_type": "markdown",
   "id": "7e33e887-3f7c-40d2-9f0b-b2117da30915",
   "metadata": {},
   "source": [
    "# Werewolf Among Us - Human Players Dataset EDA\n",
    "\n",
    "Exploratory data analysis, data loading and transforming\n"
   ]
  },
  {
   "cell_type": "code",
   "execution_count": 2,
   "id": "b1771a56-e486-466e-a109-5b869f6d1d28",
   "metadata": {
    "execution": {
     "iopub.execute_input": "2025-04-06T21:51:37.664515Z",
     "iopub.status.busy": "2025-04-06T21:51:37.653022Z",
     "iopub.status.idle": "2025-04-06T21:51:37.685242Z",
     "shell.execute_reply": "2025-04-06T21:51:37.683800Z",
     "shell.execute_reply.started": "2025-04-06T21:51:37.664408Z"
    }
   },
   "outputs": [],
   "source": [
    "import os\n",
    "\n",
    "import pandas as pd\n",
    "import numpy as np"
   ]
  },
  {
   "cell_type": "code",
   "execution_count": 3,
   "id": "d9ef4517-bb71-46e0-a77c-e5f427ab673b",
   "metadata": {
    "execution": {
     "iopub.execute_input": "2025-04-06T21:53:59.607054Z",
     "iopub.status.busy": "2025-04-06T21:53:59.606694Z",
     "iopub.status.idle": "2025-04-06T21:53:59.611805Z",
     "shell.execute_reply": "2025-04-06T21:53:59.611032Z",
     "shell.execute_reply.started": "2025-04-06T21:53:59.607025Z"
    }
   },
   "outputs": [],
   "source": [
    "datapath = os.path.normpath(\"../Data/Werewolf-Among-Us\")\n",
    "\n",
    "format_paths = [\"Ego4D\", \"Youtube\"]"
   ]
  },
  {
   "cell_type": "code",
   "execution_count": null,
   "id": "1bcb9cca-475b-4fb7-b81d-a4b2662a58fc",
   "metadata": {},
   "outputs": [],
   "source": [
    "df_tst = pd.read_json("
   ]
  }
 ],
 "metadata": {
  "kernelspec": {
   "display_name": "Python 3 (ipykernel)",
   "language": "python",
   "name": "python3"
  },
  "language_info": {
   "codemirror_mode": {
    "name": "ipython",
    "version": 3
   },
   "file_extension": ".py",
   "mimetype": "text/x-python",
   "name": "python",
   "nbconvert_exporter": "python",
   "pygments_lexer": "ipython3",
   "version": "3.10.0"
  }
 },
 "nbformat": 4,
 "nbformat_minor": 5
}
