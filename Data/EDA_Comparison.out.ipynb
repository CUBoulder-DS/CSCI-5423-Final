{
 "cells": [
  {
   "cell_type": "markdown",
   "metadata": {},
   "source": [
    "# Werewolf Among Us: Human vs LLM Analysis\n",
    "\n",
    "Bhavana Jonnalagadda"
   ],
   "id": "6243e74f-abaa-4a8c-b7bd-2380e2c53651"
  },
  {
   "cell_type": "markdown",
   "metadata": {},
   "source": [
    "EDA and comparison of the datasets"
   ],
   "id": "f0a23741-713d-4f80-92ce-8977b010dca5"
  },
  {
   "cell_type": "code",
   "execution_count": 26,
   "metadata": {
    "quarto-private-1": {
     "key": "execution",
     "value": {
      "iopub.execute_input": "2025-05-01T19:10:07.736841Z",
      "iopub.status.busy": "2025-05-01T19:10:07.729690Z",
      "iopub.status.idle": "2025-05-01T19:10:07.782712Z",
      "shell.execute_reply": "2025-05-01T19:10:07.780562Z",
      "shell.execute_reply.started": "2025-05-01T19:10:07.736703Z"
     }
    }
   },
   "outputs": [],
   "source": [
    "import ast\n",
    "import os\n",
    "import json\n",
    "import random \n",
    "from collections import Counter\n",
    "\n",
    "import pandas as pd\n",
    "import numpy as np\n",
    "\n",
    "# Viz\n",
    "import plotly.express as px\n",
    "import plotly.graph_objects as go\n",
    "import plotly.io as pio\n",
    "from plotly.subplots import make_subplots\n",
    "# pio.renderers.default = \"notebook+plotly_mimetype+png\"\n",
    "# For some reason, the correct setting to get the plots to show up in Quarto HTML?\n",
    "pio.renderers.default = \"notebook_connected+plotly_mimetype+png\""
   ],
   "id": "11a9deb6-25c6-4e9f-8337-9fe325eacbef"
  },
  {
   "cell_type": "code",
   "execution_count": 27,
   "metadata": {
    "quarto-private-1": {
     "key": "execution",
     "value": {
      "iopub.execute_input": "2025-05-01T19:10:11.407653Z",
      "iopub.status.busy": "2025-05-01T19:10:11.407076Z",
      "iopub.status.idle": "2025-05-01T19:10:11.503922Z",
      "shell.execute_reply": "2025-05-01T19:10:11.502684Z",
      "shell.execute_reply.started": "2025-05-01T19:10:11.407610Z"
     }
    }
   },
   "outputs": [],
   "source": [
    "## Plotly graph gen setup\n",
    "\n",
    "# Just have the green more prominent, move red down\n",
    "cust_colorseq = ['#636EFA',\n",
    "                '#00CC96',\n",
    "                '#FFA15A',\n",
    "                '#EF553B',\n",
    "                '#AB63FA',\n",
    "                '#19D3F3',\n",
    "                '#FF6692',\n",
    "                '#B6E880',\n",
    "                '#FF97FF',\n",
    "                '#FECB52']\n",
    "\n",
    "# Generated figure margin\n",
    "mn = 10\n",
    "\n",
    "pio.templates[\"custom\"] = go.layout.Template(layout=go.Layout(\n",
    "        # xaxis=dict(showgrid=False,\n",
    "        #            showline=True,\n",
    "        #            linewidth=2,\n",
    "        #            linecolor=\"black\",\n",
    "        #           ),\n",
    "        #  yaxis=dict(showgrid=False,\n",
    "        #             showline=True,\n",
    "        #            linewidth=2,\n",
    "        #            linecolor=\"black\",\n",
    "        #            ticks=\"outside\", # Show ticks\n",
    "        #            ),\n",
    "        #  paper_bgcolor='rgba(255,255,255,1)',\n",
    "        #  plot_bgcolor='rgba(255,255,255,1)',\n",
    "        #  legend=dict(xanchor=\"right\",\n",
    "        #             yanchor=\"bottom\",\n",
    "        #             y=1.02,\n",
    "        #             x=1,\n",
    "        #             title=dict(text=\"Model\")),\n",
    "        # font=dict(size=15),\n",
    "        margin=dict(l=mn, r=mn, t=mn + 30, b=mn),\n",
    "        colorway=cust_colorseq,\n",
    "                    ),\n",
    "     data=go.layout.template.Data()\n",
    "    )\n",
    "pio.templates.default = \"plotly+custom\""
   ],
   "id": "37a4f338-ea25-461c-968c-c2117368748e"
  },
  {
   "cell_type": "markdown",
   "metadata": {},
   "source": [
    "## Load data"
   ],
   "id": "f67ed8d1-4a9a-4b3e-a57c-cac11cafed93"
  },
  {
   "cell_type": "code",
   "execution_count": 4,
   "metadata": {
    "quarto-private-1": {
     "key": "execution",
     "value": {
      "iopub.execute_input": "2025-05-01T17:53:14.649243Z",
      "iopub.status.busy": "2025-05-01T17:53:14.648848Z",
      "iopub.status.idle": "2025-05-01T17:53:15.128215Z",
      "shell.execute_reply": "2025-05-01T17:53:15.127406Z",
      "shell.execute_reply.started": "2025-05-01T17:53:14.649217Z"
     }
    }
   },
   "outputs": [],
   "source": [
    "hum_datapath = os.path.normpath(\"../../Data/Output/EDA_WAU\")\n",
    "llm_datapath = os.path.normpath(\"../../Data/Output/EDA_WA\")\n",
    "\n",
    "hum_rounds_df = pd.read_csv(os.path.join(hum_datapath, \"allrounds.csv\"), index_col=0)\n",
    "hum_text_df = pd.read_csv(os.path.join(hum_datapath, \"alltext.csv\"), index_col=0)\n",
    "hum_text_df[\"strategy\"] = hum_text_df[\"strategy\"].apply(ast.literal_eval)\n",
    "\n",
    "llm_rounds_df = pd.read_csv(os.path.join(llm_datapath, \"allrounds.csv\"), index_col=0)\n",
    "llm_rounds_df[\"players\"] = llm_rounds_df[\"players\"].apply(ast.literal_eval)\n",
    "llm_rounds_df[\"roles\"] = llm_rounds_df[\"roles\"].apply(ast.literal_eval)\n",
    "\n",
    "llm_text_df = pd.read_csv(os.path.join(llm_datapath, \"alltext.csv\"), index_col=0)\n",
    "llm_text_df[\"players\"] = llm_text_df[\"players\"].apply(ast.literal_eval)\n",
    "llm_text_df[\"roles\"] = llm_text_df[\"roles\"].apply(ast.literal_eval)\n",
    "# llm_text_df[\"votes\"] = llm_text_df[\"votes\"].apply(ast.literal_eval, )\n",
    "llm_text_df[\"strategy\"] = llm_text_df[\"strategy\"].apply(ast.literal_eval)"
   ],
   "id": "d2d3f84a-0415-432f-ab11-94130ca1ecd5"
  },
  {
   "cell_type": "code",
   "execution_count": 5,
   "metadata": {
    "quarto-private-1": {
     "key": "execution",
     "value": {
      "iopub.execute_input": "2025-05-01T17:53:15.130041Z",
      "iopub.status.busy": "2025-05-01T17:53:15.129651Z",
      "iopub.status.idle": "2025-05-01T17:53:15.148010Z",
      "shell.execute_reply": "2025-05-01T17:53:15.146652Z",
      "shell.execute_reply.started": "2025-05-01T17:53:15.130014Z"
     }
    }
   },
   "outputs": [
    {
     "output_type": "display_data",
     "metadata": {},
     "data": {
      "text/html": [
       "\n",
       "</div>"
      ]
     }
    }
   ],
   "source": [
    "hum_rounds_df.head()"
   ],
   "id": "e5337449-ea3b-4666-a9be-feec700862e4"
  },
  {
   "cell_type": "code",
   "execution_count": 6,
   "metadata": {
    "quarto-private-1": {
     "key": "execution",
     "value": {
      "iopub.execute_input": "2025-05-01T17:53:15.152177Z",
      "iopub.status.busy": "2025-05-01T17:53:15.151600Z",
      "iopub.status.idle": "2025-05-01T17:53:15.175173Z",
      "shell.execute_reply": "2025-05-01T17:53:15.174023Z",
      "shell.execute_reply.started": "2025-05-01T17:53:15.152133Z"
     }
    }
   },
   "outputs": [
    {
     "output_type": "display_data",
     "metadata": {},
     "data": {
      "text/html": [
       "\n",
       "</div>"
      ]
     }
    }
   ],
   "source": [
    "llm_rounds_df.head()"
   ],
   "id": "f629690f-fd5f-4339-b2a2-8a39ea17b955"
  },
  {
   "cell_type": "code",
   "execution_count": 7,
   "metadata": {
    "quarto-private-1": {
     "key": "execution",
     "value": {
      "iopub.execute_input": "2025-05-01T17:53:15.176916Z",
      "iopub.status.busy": "2025-05-01T17:53:15.176471Z",
      "iopub.status.idle": "2025-05-01T17:53:15.194321Z",
      "shell.execute_reply": "2025-05-01T17:53:15.193092Z",
      "shell.execute_reply.started": "2025-05-01T17:53:15.176886Z"
     }
    }
   },
   "outputs": [
    {
     "output_type": "display_data",
     "metadata": {},
     "data": {
      "text/html": [
       "\n",
       "</div>"
      ]
     }
    }
   ],
   "source": [
    "hum_text_df.head()"
   ],
   "id": "71d2ded7-84fa-41ce-8457-7922002b1e53"
  },
  {
   "cell_type": "code",
   "execution_count": 8,
   "metadata": {
    "quarto-private-1": {
     "key": "execution",
     "value": {
      "iopub.execute_input": "2025-05-01T17:53:15.196704Z",
      "iopub.status.busy": "2025-05-01T17:53:15.195919Z",
      "iopub.status.idle": "2025-05-01T17:53:15.230336Z",
      "shell.execute_reply": "2025-05-01T17:53:15.228703Z",
      "shell.execute_reply.started": "2025-05-01T17:53:15.196661Z"
     }
    }
   },
   "outputs": [
    {
     "output_type": "display_data",
     "metadata": {},
     "data": {
      "text/html": [
       "\n",
       "</div>"
      ]
     }
    }
   ],
   "source": [
    "llm_text_df.head()"
   ],
   "id": "41464313-5608-41fb-a4ca-9da104aca3e3"
  },
  {
   "cell_type": "markdown",
   "metadata": {},
   "source": [
    "## EDA"
   ],
   "id": "1e7b8039-9acb-4620-8584-862f039e1c6d"
  },
  {
   "cell_type": "markdown",
   "metadata": {},
   "source": [
    "### General win counts"
   ],
   "id": "ef52c3ba-d74f-4a17-9381-6974218fe6e3"
  },
  {
   "cell_type": "code",
   "execution_count": 9,
   "metadata": {
    "quarto-private-1": {
     "key": "execution",
     "value": {
      "iopub.execute_input": "2025-05-01T17:53:15.234525Z",
      "iopub.status.busy": "2025-05-01T17:53:15.234127Z",
      "iopub.status.idle": "2025-05-01T17:53:15.249167Z",
      "shell.execute_reply": "2025-05-01T17:53:15.247932Z",
      "shell.execute_reply.started": "2025-05-01T17:53:15.234496Z"
     }
    }
   },
   "outputs": [
    {
     "output_type": "display_data",
     "metadata": {},
     "data": {
      "text/plain": [
       "(0.5454545454545454, 11, 0.37423312883435583, 163)"
      ]
     }
    }
   ],
   "source": [
    "llm_outcomes = np.array(llm_rounds_df.groupby(\"game_id\")[\"winner\"].first().tolist()) \n",
    "llm_winperc = np.sum(llm_outcomes == \"Villagers\") / len(llm_outcomes)\n",
    "\n",
    "hum_outcomes = np.array(hum_rounds_df.groupby(\"game_id\")[\"winner\"].first().tolist()) \n",
    "hum_winperc = np.sum(hum_outcomes == \"Villagers\") / len(hum_outcomes)\n",
    "\n",
    "llm_winperc, len(llm_outcomes), hum_winperc, len(hum_outcomes)"
   ],
   "id": "1ef06e65-c97e-44fb-a747-62b5c50c9451"
  },
  {
   "cell_type": "markdown",
   "metadata": {},
   "source": [
    "| Source Dataset | Villagers Win | Number of Games |\n",
    "|----------------|---------------|-----------------|\n",
    "| LLMs           | 54.545%       | 11              |\n",
    "| Human          | 37.423%       | 163             |"
   ],
   "id": "00039116-ccb4-4d42-9866-ea9a8dcef5c4"
  },
  {
   "cell_type": "code",
   "execution_count": 28,
   "metadata": {
    "quarto-private-1": {
     "key": "execution",
     "value": {
      "iopub.execute_input": "2025-05-01T19:10:15.018964Z",
      "iopub.status.busy": "2025-05-01T19:10:15.017276Z",
      "iopub.status.idle": "2025-05-01T19:10:15.422650Z",
      "shell.execute_reply": "2025-05-01T19:10:15.420768Z",
      "shell.execute_reply.started": "2025-05-01T19:10:15.018912Z"
     }
    }
   },
   "outputs": [],
   "source": [
    "fig = px.histogram(llm_rounds_df.groupby(\"game_id\")[[\"round\", \"winner\"]].last(), x=\"round\", color=\"winner\")\n",
    "fig.update_layout(title=\"LLM Wins by # of Rounds\", xaxis_title=\"Number of Rounds in the Game\")\n",
    "fig.show()"
   ],
   "id": "cell-fig-llm-winrounds"
  },
  {
   "cell_type": "markdown",
   "metadata": {},
   "source": [
    "### Strategies used"
   ],
   "id": "1925f251-34cf-44db-8eee-09d92807317f"
  },
  {
   "cell_type": "code",
   "execution_count": 29,
   "metadata": {
    "quarto-private-1": {
     "key": "execution",
     "value": {
      "iopub.execute_input": "2025-05-01T19:10:19.282111Z",
      "iopub.status.busy": "2025-05-01T19:10:19.281748Z",
      "iopub.status.idle": "2025-05-01T19:10:19.487474Z",
      "shell.execute_reply": "2025-05-01T19:10:19.486367Z",
      "shell.execute_reply.started": "2025-05-01T19:10:19.282086Z"
     }
    }
   },
   "outputs": [
    {
     "output_type": "display_data",
     "metadata": {},
     "data": {
      "text/html": [
       "<div>                            <div id=\"4cf679ec-6f5a-4abf-acde-15203e7eb4fb\" class=\"plotly-graph-div\" style=\"height:400px; width:100%;\"></div>            <script type=\"text/javascript\">                require([\"plotly\"], function(Plotly) {                    window.PLOTLYENV=window.PLOTLYENV || {};                                    if (document.getElementById(\"4cf679ec-6f5a-4abf-acde-15203e7eb4fb\")) {                    Plotly.newPlot(                        \"4cf679ec-6f5a-4abf-acde-15203e7eb4fb\",                        [{\"name\":\"Human Strategies\",\"offsetgroup\":\"1\",\"x\":[\"No Strategy\",\"Interrogation\",\"Accusation\",\"Defense\",\"Evidence\",\"Call for Action\",\"Identity Declaration\"],\"y\":[9352,3617,3138,2873,1958,1206,1152],\"yaxis\":\"y\",\"type\":\"bar\"},{\"name\":\"LLM Strategies\",\"offsetgroup\":\"2\",\"x\":[\"Call for Action\",\"Interrogation\",\"Accusation\",\"Evidence\",\"Identity Declaration\",\"No Strategy\",\"Defense\"],\"y\":[228,141,99,35,23,9,7],\"yaxis\":\"y2\",\"type\":\"bar\"}],                        {\"title\":{\"text\":\"Overall Strategy Used in Speech\"},\"yaxis\":{\"title\":{\"text\":\"Human Strategy Use Count\"}},\"yaxis2\":{\"overlaying\":\"y\",\"side\":\"right\",\"title\":{\"text\":\"LLM Strategy Use Count\"}},\"template\":{\"data\":{\"barpolar\":[{\"marker\":{\"line\":{\"color\":\"#E5ECF6\",\"width\":0.5},\"pattern\":{\"fillmode\":\"overlay\",\"size\":10,\"solidity\":0.2}},\"type\":\"barpolar\"}],\"bar\":[{\"error_x\":{\"color\":\"#2a3f5f\"},\"error_y\":{\"color\":\"#2a3f5f\"},\"marker\":{\"line\":{\"color\":\"#E5ECF6\",\"width\":0.5},\"pattern\":{\"fillmode\":\"overlay\",\"size\":10,\"solidity\":0.2}},\"type\":\"bar\"}],\"carpet\":[{\"aaxis\":{\"endlinecolor\":\"#2a3f5f\",\"gridcolor\":\"white\",\"linecolor\":\"white\",\"minorgridcolor\":\"white\",\"startlinecolor\":\"#2a3f5f\"},\"baxis\":{\"endlinecolor\":\"#2a3f5f\",\"gridcolor\":\"white\",\"linecolor\":\"white\",\"minorgridcolor\":\"white\",\"startlinecolor\":\"#2a3f5f\"},\"type\":\"carpet\"}],\"choropleth\":[{\"colorbar\":{\"outlinewidth\":0,\"ticks\":\"\"},\"type\":\"choropleth\"}],\"contourcarpet\":[{\"colorbar\":{\"outlinewidth\":0,\"ticks\":\"\"},\"type\":\"contourcarpet\"}],\"contour\":[{\"colorbar\":{\"outlinewidth\":0,\"ticks\":\"\"},\"colorscale\":[[0.0,\"#0d0887\"],[0.1111111111111111,\"#46039f\"],[0.2222222222222222,\"#7201a8\"],[0.3333333333333333,\"#9c179e\"],[0.4444444444444444,\"#bd3786\"],[0.5555555555555556,\"#d8576b\"],[0.6666666666666666,\"#ed7953\"],[0.7777777777777778,\"#fb9f3a\"],[0.8888888888888888,\"#fdca26\"],[1.0,\"#f0f921\"]],\"type\":\"contour\"}],\"heatmapgl\":[{\"colorbar\":{\"outlinewidth\":0,\"ticks\":\"\"},\"colorscale\":[[0.0,\"#0d0887\"],[0.1111111111111111,\"#46039f\"],[0.2222222222222222,\"#7201a8\"],[0.3333333333333333,\"#9c179e\"],[0.4444444444444444,\"#bd3786\"],[0.5555555555555556,\"#d8576b\"],[0.6666666666666666,\"#ed7953\"],[0.7777777777777778,\"#fb9f3a\"],[0.8888888888888888,\"#fdca26\"],[1.0,\"#f0f921\"]],\"type\":\"heatmapgl\"}],\"heatmap\":[{\"colorbar\":{\"outlinewidth\":0,\"ticks\":\"\"},\"colorscale\":[[0.0,\"#0d0887\"],[0.1111111111111111,\"#46039f\"],[0.2222222222222222,\"#7201a8\"],[0.3333333333333333,\"#9c179e\"],[0.4444444444444444,\"#bd3786\"],[0.5555555555555556,\"#d8576b\"],[0.6666666666666666,\"#ed7953\"],[0.7777777777777778,\"#fb9f3a\"],[0.8888888888888888,\"#fdca26\"],[1.0,\"#f0f921\"]],\"type\":\"heatmap\"}],\"histogram2dcontour\":[{\"colorbar\":{\"outlinewidth\":0,\"ticks\":\"\"},\"colorscale\":[[0.0,\"#0d0887\"],[0.1111111111111111,\"#46039f\"],[0.2222222222222222,\"#7201a8\"],[0.3333333333333333,\"#9c179e\"],[0.4444444444444444,\"#bd3786\"],[0.5555555555555556,\"#d8576b\"],[0.6666666666666666,\"#ed7953\"],[0.7777777777777778,\"#fb9f3a\"],[0.8888888888888888,\"#fdca26\"],[1.0,\"#f0f921\"]],\"type\":\"histogram2dcontour\"}],\"histogram2d\":[{\"colorbar\":{\"outlinewidth\":0,\"ticks\":\"\"},\"colorscale\":[[0.0,\"#0d0887\"],[0.1111111111111111,\"#46039f\"],[0.2222222222222222,\"#7201a8\"],[0.3333333333333333,\"#9c179e\"],[0.4444444444444444,\"#bd3786\"],[0.5555555555555556,\"#d8576b\"],[0.6666666666666666,\"#ed7953\"],[0.7777777777777778,\"#fb9f3a\"],[0.8888888888888888,\"#fdca26\"],[1.0,\"#f0f921\"]],\"type\":\"histogram2d\"}],\"histogram\":[{\"marker\":{\"pattern\":{\"fillmode\":\"overlay\",\"size\":10,\"solidity\":0.2}},\"type\":\"histogram\"}],\"mesh3d\":[{\"colorbar\":{\"outlinewidth\":0,\"ticks\":\"\"},\"type\":\"mesh3d\"}],\"parcoords\":[{\"line\":{\"colorbar\":{\"outlinewidth\":0,\"ticks\":\"\"}},\"type\":\"parcoords\"}],\"pie\":[{\"automargin\":true,\"type\":\"pie\"}],\"scatter3d\":[{\"line\":{\"colorbar\":{\"outlinewidth\":0,\"ticks\":\"\"}},\"marker\":{\"colorbar\":{\"outlinewidth\":0,\"ticks\":\"\"}},\"type\":\"scatter3d\"}],\"scattercarpet\":[{\"marker\":{\"colorbar\":{\"outlinewidth\":0,\"ticks\":\"\"}},\"type\":\"scattercarpet\"}],\"scattergeo\":[{\"marker\":{\"colorbar\":{\"outlinewidth\":0,\"ticks\":\"\"}},\"type\":\"scattergeo\"}],\"scattergl\":[{\"marker\":{\"colorbar\":{\"outlinewidth\":0,\"ticks\":\"\"}},\"type\":\"scattergl\"}],\"scattermapbox\":[{\"marker\":{\"colorbar\":{\"outlinewidth\":0,\"ticks\":\"\"}},\"type\":\"scattermapbox\"}],\"scatterpolargl\":[{\"marker\":{\"colorbar\":{\"outlinewidth\":0,\"ticks\":\"\"}},\"type\":\"scatterpolargl\"}],\"scatterpolar\":[{\"marker\":{\"colorbar\":{\"outlinewidth\":0,\"ticks\":\"\"}},\"type\":\"scatterpolar\"}],\"scatter\":[{\"fillpattern\":{\"fillmode\":\"overlay\",\"size\":10,\"solidity\":0.2},\"type\":\"scatter\"}],\"scatterternary\":[{\"marker\":{\"colorbar\":{\"outlinewidth\":0,\"ticks\":\"\"}},\"type\":\"scatterternary\"}],\"surface\":[{\"colorbar\":{\"outlinewidth\":0,\"ticks\":\"\"},\"colorscale\":[[0.0,\"#0d0887\"],[0.1111111111111111,\"#46039f\"],[0.2222222222222222,\"#7201a8\"],[0.3333333333333333,\"#9c179e\"],[0.4444444444444444,\"#bd3786\"],[0.5555555555555556,\"#d8576b\"],[0.6666666666666666,\"#ed7953\"],[0.7777777777777778,\"#fb9f3a\"],[0.8888888888888888,\"#fdca26\"],[1.0,\"#f0f921\"]],\"type\":\"surface\"}],\"table\":[{\"cells\":{\"fill\":{\"color\":\"#EBF0F8\"},\"line\":{\"color\":\"white\"}},\"header\":{\"fill\":{\"color\":\"#C8D4E3\"},\"line\":{\"color\":\"white\"}},\"type\":\"table\"}]},\"layout\":{\"annotationdefaults\":{\"arrowcolor\":\"#2a3f5f\",\"arrowhead\":0,\"arrowwidth\":1},\"autotypenumbers\":\"strict\",\"coloraxis\":{\"colorbar\":{\"outlinewidth\":0,\"ticks\":\"\"}},\"colorscale\":{\"diverging\":[[0,\"#8e0152\"],[0.1,\"#c51b7d\"],[0.2,\"#de77ae\"],[0.3,\"#f1b6da\"],[0.4,\"#fde0ef\"],[0.5,\"#f7f7f7\"],[0.6,\"#e6f5d0\"],[0.7,\"#b8e186\"],[0.8,\"#7fbc41\"],[0.9,\"#4d9221\"],[1,\"#276419\"]],\"sequential\":[[0.0,\"#0d0887\"],[0.1111111111111111,\"#46039f\"],[0.2222222222222222,\"#7201a8\"],[0.3333333333333333,\"#9c179e\"],[0.4444444444444444,\"#bd3786\"],[0.5555555555555556,\"#d8576b\"],[0.6666666666666666,\"#ed7953\"],[0.7777777777777778,\"#fb9f3a\"],[0.8888888888888888,\"#fdca26\"],[1.0,\"#f0f921\"]],\"sequentialminus\":[[0.0,\"#0d0887\"],[0.1111111111111111,\"#46039f\"],[0.2222222222222222,\"#7201a8\"],[0.3333333333333333,\"#9c179e\"],[0.4444444444444444,\"#bd3786\"],[0.5555555555555556,\"#d8576b\"],[0.6666666666666666,\"#ed7953\"],[0.7777777777777778,\"#fb9f3a\"],[0.8888888888888888,\"#fdca26\"],[1.0,\"#f0f921\"]]},\"colorway\":[\"#636EFA\",\"#00CC96\",\"#FFA15A\",\"#EF553B\",\"#AB63FA\",\"#19D3F3\",\"#FF6692\",\"#B6E880\",\"#FF97FF\",\"#FECB52\"],\"font\":{\"color\":\"#2a3f5f\"},\"geo\":{\"bgcolor\":\"white\",\"lakecolor\":\"white\",\"landcolor\":\"#E5ECF6\",\"showlakes\":true,\"showland\":true,\"subunitcolor\":\"white\"},\"hoverlabel\":{\"align\":\"left\"},\"hovermode\":\"closest\",\"mapbox\":{\"style\":\"light\"},\"paper_bgcolor\":\"white\",\"plot_bgcolor\":\"#E5ECF6\",\"polar\":{\"angularaxis\":{\"gridcolor\":\"white\",\"linecolor\":\"white\",\"ticks\":\"\"},\"bgcolor\":\"#E5ECF6\",\"radialaxis\":{\"gridcolor\":\"white\",\"linecolor\":\"white\",\"ticks\":\"\"}},\"scene\":{\"xaxis\":{\"backgroundcolor\":\"#E5ECF6\",\"gridcolor\":\"white\",\"gridwidth\":2,\"linecolor\":\"white\",\"showbackground\":true,\"ticks\":\"\",\"zerolinecolor\":\"white\"},\"yaxis\":{\"backgroundcolor\":\"#E5ECF6\",\"gridcolor\":\"white\",\"gridwidth\":2,\"linecolor\":\"white\",\"showbackground\":true,\"ticks\":\"\",\"zerolinecolor\":\"white\"},\"zaxis\":{\"backgroundcolor\":\"#E5ECF6\",\"gridcolor\":\"white\",\"gridwidth\":2,\"linecolor\":\"white\",\"showbackground\":true,\"ticks\":\"\",\"zerolinecolor\":\"white\"}},\"shapedefaults\":{\"line\":{\"color\":\"#2a3f5f\"}},\"ternary\":{\"aaxis\":{\"gridcolor\":\"white\",\"linecolor\":\"white\",\"ticks\":\"\"},\"baxis\":{\"gridcolor\":\"white\",\"linecolor\":\"white\",\"ticks\":\"\"},\"bgcolor\":\"#E5ECF6\",\"caxis\":{\"gridcolor\":\"white\",\"linecolor\":\"white\",\"ticks\":\"\"}},\"title\":{\"x\":0.05},\"xaxis\":{\"automargin\":true,\"gridcolor\":\"white\",\"linecolor\":\"white\",\"ticks\":\"\",\"title\":{\"standoff\":15},\"zerolinecolor\":\"white\",\"zerolinewidth\":2},\"yaxis\":{\"automargin\":true,\"gridcolor\":\"white\",\"linecolor\":\"white\",\"ticks\":\"\",\"title\":{\"standoff\":15},\"zerolinecolor\":\"white\",\"zerolinewidth\":2},\"margin\":{\"b\":10,\"l\":10,\"r\":10,\"t\":40}}},\"barmode\":\"group\",\"height\":400},                        {\"responsive\": true}                    ).then(function(){\n",
       "                            \n",
       "var gd = document.getElementById('4cf679ec-6f5a-4abf-acde-15203e7eb4fb');\n",
       "var x = new MutationObserver(function (mutations, observer) {{\n",
       "        var display = window.getComputedStyle(gd).display;\n",
       "        if (!display || display === 'none') {{\n",
       "            console.log([gd, 'removed!']);\n",
       "            Plotly.purge(gd);\n",
       "            observer.disconnect();\n",
       "        }}\n",
       "}});\n",
       "\n",
       "// Listen for the removal of the full notebook cells\n",
       "var notebookContainer = gd.closest('#notebook-container');\n",
       "if (notebookContainer) {{\n",
       "    x.observe(notebookContainer, {childList: true});\n",
       "}}\n",
       "\n",
       "// Listen for the clearing of the current output cell\n",
       "var outputEl = gd.closest('.output');\n",
       "if (outputEl) {{\n",
       "    x.observe(outputEl, {childList: true});\n",
       "}}\n",
       "\n",
       "                        })                };                });            </script>        </div>"
      ]
     }
    }
   ],
   "source": [
    "## Overall strategy used bar plot\n",
    "hum_strats = hum_text_df[\"strategy\"].explode().value_counts().reset_index()\n",
    "llm_strats = llm_text_df[\"strategy\"].explode().value_counts().reset_index()\n",
    "\n",
    "fig = go.Figure(\n",
    "    data=[\n",
    "        go.Bar(name='Human Strategies', x=hum_strats[\"strategy\"], y=hum_strats[\"count\"], yaxis='y', offsetgroup=1),\n",
    "        go.Bar(name='LLM Strategies', x=llm_strats[\"strategy\"], y=llm_strats[\"count\"], yaxis='y2', offsetgroup=2),\n",
    "    ],\n",
    "    layout={\n",
    "        'yaxis': {'title': 'Human Strategy Use Count'},\n",
    "        'yaxis2': {'title': 'LLM Strategy Use Count', 'overlaying': 'y', 'side': 'right'},\n",
    "        \"title\": \"Overall Strategy Used in Speech\"\n",
    "    }\n",
    ")\n",
    "# Change the bar mode\n",
    "fig.update_layout(barmode='group', height=400)\n",
    "fig.show()"
   ],
   "id": "9491e331-a19e-4744-b392-c167d4a658ad"
  },
  {
   "cell_type": "code",
   "execution_count": 33,
   "metadata": {
    "quarto-private-1": {
     "key": "execution",
     "value": {
      "iopub.execute_input": "2025-05-01T19:10:34.469792Z",
      "iopub.status.busy": "2025-05-01T19:10:34.469160Z",
      "iopub.status.idle": "2025-05-01T19:10:35.069562Z",
      "shell.execute_reply": "2025-05-01T19:10:35.068561Z",
      "shell.execute_reply.started": "2025-05-01T19:10:34.469746Z"
     }
    }
   },
   "outputs": [],
   "source": [
    "## Strategy used by player role bar plot\n",
    "hum_strats = hum_text_df[[\"strategy\", \"end_role\"]].explode(\"strategy\").value_counts().reset_index()\n",
    "hum_strats = hum_strats[hum_strats[\"strategy\"] != \"No Strategy\"] # Don't include no strat\n",
    "hum_strats[\"count\"] = hum_strats.groupby(\"end_role\")[\"count\"].transform(lambda x: x/x.sum()) # Make scaled by total strategy use per role\n",
    "\n",
    "fig = px.bar(hum_strats, x=\"end_role\", y=\"count\", color=\"strategy\", barmode=\"group\")\n",
    "fig.update_layout(yaxis_title=\"Ratio of Role's Strategy Use\", xaxis_title=\"Role\", title=\"Humans: Strategy Used by Role\", height=400)\n",
    "fig.show()"
   ],
   "id": "cell-fig-stratbyrole-hum"
  },
  {
   "cell_type": "code",
   "execution_count": 34,
   "metadata": {
    "quarto-private-1": {
     "key": "execution",
     "value": {
      "iopub.execute_input": "2025-05-01T19:10:47.565132Z",
      "iopub.status.busy": "2025-05-01T19:10:47.564763Z",
      "iopub.status.idle": "2025-05-01T19:10:47.836999Z",
      "shell.execute_reply": "2025-05-01T19:10:47.836163Z",
      "shell.execute_reply.started": "2025-05-01T19:10:47.565107Z"
     }
    }
   },
   "outputs": [],
   "source": [
    "llm_strats = llm_text_df[[\"players\", \"roles\", \"speaker\", \"strategy\"]].explode([\"players\", \"roles\"])\n",
    "llm_strats = llm_strats[llm_strats[\"players\"] == llm_strats[\"speaker\"]]\n",
    "llm_strats = llm_strats.explode(\"strategy\")[[\"roles\", \"strategy\"]].value_counts().reset_index()\n",
    "llm_strats[\"count\"] = llm_strats.groupby(\"roles\")[\"count\"].transform(lambda x: x/x.sum()) # Make scaled by total strategy use per role\n",
    "\n",
    "fig = px.bar(llm_strats, x=\"roles\", y=\"count\", color=\"strategy\", barmode=\"group\")\n",
    "fig.update_layout(yaxis_title=\"Ratio of Role's Strategy Use\", xaxis_title=\"Role\", title=\"LLMs: Strategy Used by Role\", height=400)\n",
    "fig.show()"
   ],
   "id": "cell-fig-stratbyrole-llms"
  },
  {
   "cell_type": "code",
   "execution_count": 35,
   "metadata": {
    "quarto-private-1": {
     "key": "execution",
     "value": {
      "iopub.execute_input": "2025-05-01T19:10:51.520310Z",
      "iopub.status.busy": "2025-05-01T19:10:51.519684Z",
      "iopub.status.idle": "2025-05-01T19:10:51.790735Z",
      "shell.execute_reply": "2025-05-01T19:10:51.789944Z",
      "shell.execute_reply.started": "2025-05-01T19:10:51.520266Z"
     }
    }
   },
   "outputs": [
    {
     "output_type": "display_data",
     "metadata": {},
     "data": {
      "text/html": [
       "<div>                            <div id=\"f6ed66fc-9475-4b85-9d9e-5f052c9b0a55\" class=\"plotly-graph-div\" style=\"height:525px; width:100%;\"></div>            <script type=\"text/javascript\">                require([\"plotly\"], function(Plotly) {                    window.PLOTLYENV=window.PLOTLYENV || {};                                    if (document.getElementById(\"f6ed66fc-9475-4b85-9d9e-5f052c9b0a55\")) {                    Plotly.newPlot(                        \"f6ed66fc-9475-4b85-9d9e-5f052c9b0a55\",                        [{\"hovertemplate\":\"strategy=Call for Action\\u003cbr\\u003eround=%{x}\\u003cbr\\u003ecount=%{y}\\u003cextra\\u003e\\u003c\\u002fextra\\u003e\",\"legendgroup\":\"Call for Action\",\"line\":{\"color\":\"#636EFA\",\"dash\":\"solid\",\"width\":3},\"marker\":{\"symbol\":\"circle\"},\"mode\":\"lines+markers\",\"name\":\"Call for Action\",\"orientation\":\"v\",\"showlegend\":true,\"x\":[0,1,2,3,4,5],\"xaxis\":\"x\",\"y\":[0.4095744680851064,0.40625,0.44545454545454544,0.46153846153846156,0.4,0.5454545454545454],\"yaxis\":\"y\",\"type\":\"scatter\"},{\"hovertemplate\":\"strategy=Interrogation\\u003cbr\\u003eround=%{x}\\u003cbr\\u003ecount=%{y}\\u003cextra\\u003e\\u003c\\u002fextra\\u003e\",\"legendgroup\":\"Interrogation\",\"line\":{\"color\":\"#00CC96\",\"dash\":\"solid\",\"width\":3},\"marker\":{\"symbol\":\"circle\"},\"mode\":\"lines+markers\",\"name\":\"Interrogation\",\"orientation\":\"v\",\"showlegend\":true,\"x\":[0,1,2,3,4,5],\"xaxis\":\"x\",\"y\":[0.2872340425531915,0.2552083333333333,0.22727272727272727,0.2692307692307692,0.2,0.2727272727272727],\"yaxis\":\"y\",\"type\":\"scatter\"},{\"hovertemplate\":\"strategy=Accusation\\u003cbr\\u003eround=%{x}\\u003cbr\\u003ecount=%{y}\\u003cextra\\u003e\\u003c\\u002fextra\\u003e\",\"legendgroup\":\"Accusation\",\"line\":{\"color\":\"#FFA15A\",\"dash\":\"solid\",\"width\":3},\"marker\":{\"symbol\":\"circle\"},\"mode\":\"lines+markers\",\"name\":\"Accusation\",\"orientation\":\"v\",\"showlegend\":true,\"x\":[0,1,2,3,4],\"xaxis\":\"x\",\"y\":[0.19148936170212766,0.17708333333333334,0.18181818181818182,0.15384615384615385,0.3333333333333333],\"yaxis\":\"y\",\"type\":\"scatter\"},{\"hovertemplate\":\"strategy=Evidence\\u003cbr\\u003eround=%{x}\\u003cbr\\u003ecount=%{y}\\u003cextra\\u003e\\u003c\\u002fextra\\u003e\",\"legendgroup\":\"Evidence\",\"line\":{\"color\":\"#EF553B\",\"dash\":\"solid\",\"width\":3},\"marker\":{\"symbol\":\"circle\"},\"mode\":\"lines+markers\",\"name\":\"Evidence\",\"orientation\":\"v\",\"showlegend\":true,\"x\":[0,1,2,3,5],\"xaxis\":\"x\",\"y\":[0.05319148936170213,0.07291666666666667,0.07272727272727272,0.038461538461538464,0.18181818181818182],\"yaxis\":\"y\",\"type\":\"scatter\"},{\"hovertemplate\":\"strategy=Identity Declaration\\u003cbr\\u003eround=%{x}\\u003cbr\\u003ecount=%{y}\\u003cextra\\u003e\\u003c\\u002fextra\\u003e\",\"legendgroup\":\"Identity Declaration\",\"line\":{\"color\":\"#AB63FA\",\"dash\":\"solid\",\"width\":3},\"marker\":{\"symbol\":\"circle\"},\"mode\":\"lines+markers\",\"name\":\"Identity Declaration\",\"orientation\":\"v\",\"showlegend\":true,\"x\":[0,1,2,4],\"xaxis\":\"x\",\"y\":[0.03723404255319149,0.057291666666666664,0.03636363636363636,0.06666666666666667],\"yaxis\":\"y\",\"type\":\"scatter\"},{\"hovertemplate\":\"strategy=Defense\\u003cbr\\u003eround=%{x}\\u003cbr\\u003ecount=%{y}\\u003cextra\\u003e\\u003c\\u002fextra\\u003e\",\"legendgroup\":\"Defense\",\"line\":{\"color\":\"#19D3F3\",\"dash\":\"solid\",\"width\":3},\"marker\":{\"symbol\":\"circle\"},\"mode\":\"lines+markers\",\"name\":\"Defense\",\"orientation\":\"v\",\"showlegend\":true,\"x\":[0,1,2],\"xaxis\":\"x\",\"y\":[0.015957446808510637,0.015625,0.00909090909090909],\"yaxis\":\"y\",\"type\":\"scatter\"},{\"hovertemplate\":\"strategy=No Strategy\\u003cbr\\u003eround=%{x}\\u003cbr\\u003ecount=%{y}\\u003cextra\\u003e\\u003c\\u002fextra\\u003e\",\"legendgroup\":\"No Strategy\",\"line\":{\"color\":\"#FF6692\",\"dash\":\"solid\",\"width\":3},\"marker\":{\"symbol\":\"circle\"},\"mode\":\"lines+markers\",\"name\":\"No Strategy\",\"orientation\":\"v\",\"showlegend\":true,\"x\":[0,1,2,3],\"xaxis\":\"x\",\"y\":[0.005319148936170213,0.015625,0.02727272727272727,0.07692307692307693],\"yaxis\":\"y\",\"type\":\"scatter\"}],                        {\"template\":{\"data\":{\"barpolar\":[{\"marker\":{\"line\":{\"color\":\"#E5ECF6\",\"width\":0.5},\"pattern\":{\"fillmode\":\"overlay\",\"size\":10,\"solidity\":0.2}},\"type\":\"barpolar\"}],\"bar\":[{\"error_x\":{\"color\":\"#2a3f5f\"},\"error_y\":{\"color\":\"#2a3f5f\"},\"marker\":{\"line\":{\"color\":\"#E5ECF6\",\"width\":0.5},\"pattern\":{\"fillmode\":\"overlay\",\"size\":10,\"solidity\":0.2}},\"type\":\"bar\"}],\"carpet\":[{\"aaxis\":{\"endlinecolor\":\"#2a3f5f\",\"gridcolor\":\"white\",\"linecolor\":\"white\",\"minorgridcolor\":\"white\",\"startlinecolor\":\"#2a3f5f\"},\"baxis\":{\"endlinecolor\":\"#2a3f5f\",\"gridcolor\":\"white\",\"linecolor\":\"white\",\"minorgridcolor\":\"white\",\"startlinecolor\":\"#2a3f5f\"},\"type\":\"carpet\"}],\"choropleth\":[{\"colorbar\":{\"outlinewidth\":0,\"ticks\":\"\"},\"type\":\"choropleth\"}],\"contourcarpet\":[{\"colorbar\":{\"outlinewidth\":0,\"ticks\":\"\"},\"type\":\"contourcarpet\"}],\"contour\":[{\"colorbar\":{\"outlinewidth\":0,\"ticks\":\"\"},\"colorscale\":[[0.0,\"#0d0887\"],[0.1111111111111111,\"#46039f\"],[0.2222222222222222,\"#7201a8\"],[0.3333333333333333,\"#9c179e\"],[0.4444444444444444,\"#bd3786\"],[0.5555555555555556,\"#d8576b\"],[0.6666666666666666,\"#ed7953\"],[0.7777777777777778,\"#fb9f3a\"],[0.8888888888888888,\"#fdca26\"],[1.0,\"#f0f921\"]],\"type\":\"contour\"}],\"heatmapgl\":[{\"colorbar\":{\"outlinewidth\":0,\"ticks\":\"\"},\"colorscale\":[[0.0,\"#0d0887\"],[0.1111111111111111,\"#46039f\"],[0.2222222222222222,\"#7201a8\"],[0.3333333333333333,\"#9c179e\"],[0.4444444444444444,\"#bd3786\"],[0.5555555555555556,\"#d8576b\"],[0.6666666666666666,\"#ed7953\"],[0.7777777777777778,\"#fb9f3a\"],[0.8888888888888888,\"#fdca26\"],[1.0,\"#f0f921\"]],\"type\":\"heatmapgl\"}],\"heatmap\":[{\"colorbar\":{\"outlinewidth\":0,\"ticks\":\"\"},\"colorscale\":[[0.0,\"#0d0887\"],[0.1111111111111111,\"#46039f\"],[0.2222222222222222,\"#7201a8\"],[0.3333333333333333,\"#9c179e\"],[0.4444444444444444,\"#bd3786\"],[0.5555555555555556,\"#d8576b\"],[0.6666666666666666,\"#ed7953\"],[0.7777777777777778,\"#fb9f3a\"],[0.8888888888888888,\"#fdca26\"],[1.0,\"#f0f921\"]],\"type\":\"heatmap\"}],\"histogram2dcontour\":[{\"colorbar\":{\"outlinewidth\":0,\"ticks\":\"\"},\"colorscale\":[[0.0,\"#0d0887\"],[0.1111111111111111,\"#46039f\"],[0.2222222222222222,\"#7201a8\"],[0.3333333333333333,\"#9c179e\"],[0.4444444444444444,\"#bd3786\"],[0.5555555555555556,\"#d8576b\"],[0.6666666666666666,\"#ed7953\"],[0.7777777777777778,\"#fb9f3a\"],[0.8888888888888888,\"#fdca26\"],[1.0,\"#f0f921\"]],\"type\":\"histogram2dcontour\"}],\"histogram2d\":[{\"colorbar\":{\"outlinewidth\":0,\"ticks\":\"\"},\"colorscale\":[[0.0,\"#0d0887\"],[0.1111111111111111,\"#46039f\"],[0.2222222222222222,\"#7201a8\"],[0.3333333333333333,\"#9c179e\"],[0.4444444444444444,\"#bd3786\"],[0.5555555555555556,\"#d8576b\"],[0.6666666666666666,\"#ed7953\"],[0.7777777777777778,\"#fb9f3a\"],[0.8888888888888888,\"#fdca26\"],[1.0,\"#f0f921\"]],\"type\":\"histogram2d\"}],\"histogram\":[{\"marker\":{\"pattern\":{\"fillmode\":\"overlay\",\"size\":10,\"solidity\":0.2}},\"type\":\"histogram\"}],\"mesh3d\":[{\"colorbar\":{\"outlinewidth\":0,\"ticks\":\"\"},\"type\":\"mesh3d\"}],\"parcoords\":[{\"line\":{\"colorbar\":{\"outlinewidth\":0,\"ticks\":\"\"}},\"type\":\"parcoords\"}],\"pie\":[{\"automargin\":true,\"type\":\"pie\"}],\"scatter3d\":[{\"line\":{\"colorbar\":{\"outlinewidth\":0,\"ticks\":\"\"}},\"marker\":{\"colorbar\":{\"outlinewidth\":0,\"ticks\":\"\"}},\"type\":\"scatter3d\"}],\"scattercarpet\":[{\"marker\":{\"colorbar\":{\"outlinewidth\":0,\"ticks\":\"\"}},\"type\":\"scattercarpet\"}],\"scattergeo\":[{\"marker\":{\"colorbar\":{\"outlinewidth\":0,\"ticks\":\"\"}},\"type\":\"scattergeo\"}],\"scattergl\":[{\"marker\":{\"colorbar\":{\"outlinewidth\":0,\"ticks\":\"\"}},\"type\":\"scattergl\"}],\"scattermapbox\":[{\"marker\":{\"colorbar\":{\"outlinewidth\":0,\"ticks\":\"\"}},\"type\":\"scattermapbox\"}],\"scatterpolargl\":[{\"marker\":{\"colorbar\":{\"outlinewidth\":0,\"ticks\":\"\"}},\"type\":\"scatterpolargl\"}],\"scatterpolar\":[{\"marker\":{\"colorbar\":{\"outlinewidth\":0,\"ticks\":\"\"}},\"type\":\"scatterpolar\"}],\"scatter\":[{\"fillpattern\":{\"fillmode\":\"overlay\",\"size\":10,\"solidity\":0.2},\"type\":\"scatter\"}],\"scatterternary\":[{\"marker\":{\"colorbar\":{\"outlinewidth\":0,\"ticks\":\"\"}},\"type\":\"scatterternary\"}],\"surface\":[{\"colorbar\":{\"outlinewidth\":0,\"ticks\":\"\"},\"colorscale\":[[0.0,\"#0d0887\"],[0.1111111111111111,\"#46039f\"],[0.2222222222222222,\"#7201a8\"],[0.3333333333333333,\"#9c179e\"],[0.4444444444444444,\"#bd3786\"],[0.5555555555555556,\"#d8576b\"],[0.6666666666666666,\"#ed7953\"],[0.7777777777777778,\"#fb9f3a\"],[0.8888888888888888,\"#fdca26\"],[1.0,\"#f0f921\"]],\"type\":\"surface\"}],\"table\":[{\"cells\":{\"fill\":{\"color\":\"#EBF0F8\"},\"line\":{\"color\":\"white\"}},\"header\":{\"fill\":{\"color\":\"#C8D4E3\"},\"line\":{\"color\":\"white\"}},\"type\":\"table\"}]},\"layout\":{\"annotationdefaults\":{\"arrowcolor\":\"#2a3f5f\",\"arrowhead\":0,\"arrowwidth\":1},\"autotypenumbers\":\"strict\",\"coloraxis\":{\"colorbar\":{\"outlinewidth\":0,\"ticks\":\"\"}},\"colorscale\":{\"diverging\":[[0,\"#8e0152\"],[0.1,\"#c51b7d\"],[0.2,\"#de77ae\"],[0.3,\"#f1b6da\"],[0.4,\"#fde0ef\"],[0.5,\"#f7f7f7\"],[0.6,\"#e6f5d0\"],[0.7,\"#b8e186\"],[0.8,\"#7fbc41\"],[0.9,\"#4d9221\"],[1,\"#276419\"]],\"sequential\":[[0.0,\"#0d0887\"],[0.1111111111111111,\"#46039f\"],[0.2222222222222222,\"#7201a8\"],[0.3333333333333333,\"#9c179e\"],[0.4444444444444444,\"#bd3786\"],[0.5555555555555556,\"#d8576b\"],[0.6666666666666666,\"#ed7953\"],[0.7777777777777778,\"#fb9f3a\"],[0.8888888888888888,\"#fdca26\"],[1.0,\"#f0f921\"]],\"sequentialminus\":[[0.0,\"#0d0887\"],[0.1111111111111111,\"#46039f\"],[0.2222222222222222,\"#7201a8\"],[0.3333333333333333,\"#9c179e\"],[0.4444444444444444,\"#bd3786\"],[0.5555555555555556,\"#d8576b\"],[0.6666666666666666,\"#ed7953\"],[0.7777777777777778,\"#fb9f3a\"],[0.8888888888888888,\"#fdca26\"],[1.0,\"#f0f921\"]]},\"colorway\":[\"#636EFA\",\"#00CC96\",\"#FFA15A\",\"#EF553B\",\"#AB63FA\",\"#19D3F3\",\"#FF6692\",\"#B6E880\",\"#FF97FF\",\"#FECB52\"],\"font\":{\"color\":\"#2a3f5f\"},\"geo\":{\"bgcolor\":\"white\",\"lakecolor\":\"white\",\"landcolor\":\"#E5ECF6\",\"showlakes\":true,\"showland\":true,\"subunitcolor\":\"white\"},\"hoverlabel\":{\"align\":\"left\"},\"hovermode\":\"closest\",\"mapbox\":{\"style\":\"light\"},\"paper_bgcolor\":\"white\",\"plot_bgcolor\":\"#E5ECF6\",\"polar\":{\"angularaxis\":{\"gridcolor\":\"white\",\"linecolor\":\"white\",\"ticks\":\"\"},\"bgcolor\":\"#E5ECF6\",\"radialaxis\":{\"gridcolor\":\"white\",\"linecolor\":\"white\",\"ticks\":\"\"}},\"scene\":{\"xaxis\":{\"backgroundcolor\":\"#E5ECF6\",\"gridcolor\":\"white\",\"gridwidth\":2,\"linecolor\":\"white\",\"showbackground\":true,\"ticks\":\"\",\"zerolinecolor\":\"white\"},\"yaxis\":{\"backgroundcolor\":\"#E5ECF6\",\"gridcolor\":\"white\",\"gridwidth\":2,\"linecolor\":\"white\",\"showbackground\":true,\"ticks\":\"\",\"zerolinecolor\":\"white\"},\"zaxis\":{\"backgroundcolor\":\"#E5ECF6\",\"gridcolor\":\"white\",\"gridwidth\":2,\"linecolor\":\"white\",\"showbackground\":true,\"ticks\":\"\",\"zerolinecolor\":\"white\"}},\"shapedefaults\":{\"line\":{\"color\":\"#2a3f5f\"}},\"ternary\":{\"aaxis\":{\"gridcolor\":\"white\",\"linecolor\":\"white\",\"ticks\":\"\"},\"baxis\":{\"gridcolor\":\"white\",\"linecolor\":\"white\",\"ticks\":\"\"},\"bgcolor\":\"#E5ECF6\",\"caxis\":{\"gridcolor\":\"white\",\"linecolor\":\"white\",\"ticks\":\"\"}},\"title\":{\"x\":0.05},\"xaxis\":{\"automargin\":true,\"gridcolor\":\"white\",\"linecolor\":\"white\",\"ticks\":\"\",\"title\":{\"standoff\":15},\"zerolinecolor\":\"white\",\"zerolinewidth\":2},\"yaxis\":{\"automargin\":true,\"gridcolor\":\"white\",\"linecolor\":\"white\",\"ticks\":\"\",\"title\":{\"standoff\":15},\"zerolinecolor\":\"white\",\"zerolinewidth\":2},\"margin\":{\"b\":10,\"l\":10,\"r\":10,\"t\":40}}},\"xaxis\":{\"anchor\":\"y\",\"domain\":[0.0,1.0],\"title\":{\"text\":\"Game Round\"}},\"yaxis\":{\"anchor\":\"x\",\"domain\":[0.0,1.0],\"title\":{\"text\":\"Ratio of Round's Strategy Use\"}},\"legend\":{\"title\":{\"text\":\"strategy\"},\"tracegroupgap\":0},\"title\":{\"text\":\"LLMs: Strategy Use Over Rounds\"}},                        {\"responsive\": true}                    ).then(function(){\n",
       "                            \n",
       "var gd = document.getElementById('f6ed66fc-9475-4b85-9d9e-5f052c9b0a55');\n",
       "var x = new MutationObserver(function (mutations, observer) {{\n",
       "        var display = window.getComputedStyle(gd).display;\n",
       "        if (!display || display === 'none') {{\n",
       "            console.log([gd, 'removed!']);\n",
       "            Plotly.purge(gd);\n",
       "            observer.disconnect();\n",
       "        }}\n",
       "}});\n",
       "\n",
       "// Listen for the removal of the full notebook cells\n",
       "var notebookContainer = gd.closest('#notebook-container');\n",
       "if (notebookContainer) {{\n",
       "    x.observe(notebookContainer, {childList: true});\n",
       "}}\n",
       "\n",
       "// Listen for the clearing of the current output cell\n",
       "var outputEl = gd.closest('.output');\n",
       "if (outputEl) {{\n",
       "    x.observe(outputEl, {childList: true});\n",
       "}}\n",
       "\n",
       "                        })                };                });            </script>        </div>"
      ]
     }
    }
   ],
   "source": [
    "## Strategy used over time (LLMs)\n",
    "\n",
    "llm_strats_byround = llm_text_df.explode(\"strategy\").groupby(\"round\")[\"strategy\"].value_counts().reset_index()\n",
    "# Make scaled by total strategy use per round\n",
    "llm_strats_byround[\"count\"] = llm_strats_byround.groupby(\"round\")[\"count\"].transform(lambda x: x/x.sum()) \n",
    "\n",
    "fig = px.line(llm_strats_byround, x=\"round\", y=\"count\", color=\"strategy\", markers=True)\n",
    "fig.update_traces(line_width=3)\n",
    "fig.update_layout(yaxis_title=\"Ratio of Round's Strategy Use\", xaxis_title=\"Game Round\", title=\"LLMs: Strategy Use Over Rounds\")\n",
    "fig.show()"
   ],
   "id": "57f573b2-2d9e-4d64-a656-cc6268d5e203"
  },
  {
   "cell_type": "code",
   "execution_count": 14,
   "metadata": {
    "quarto-private-1": {
     "key": "execution",
     "value": {
      "iopub.execute_input": "2025-05-01T17:53:18.524374Z",
      "iopub.status.busy": "2025-05-01T17:53:18.523894Z",
      "iopub.status.idle": "2025-05-01T17:53:18.529660Z",
      "shell.execute_reply": "2025-05-01T17:53:18.528476Z",
      "shell.execute_reply.started": "2025-05-01T17:53:18.524335Z"
     }
    }
   },
   "outputs": [],
   "source": [
    "## PCA/Clustering of strategies?"
   ],
   "id": "0e1d6dca-3cb9-4712-b716-611ea92addb5"
  },
  {
   "cell_type": "markdown",
   "metadata": {},
   "source": [
    "### Talking time vs. was voted on\n",
    "\n",
    "Investigating whether a vote was cast upon a person, compared to how much they talked"
   ],
   "id": "23ee87e0-8ec9-448b-8a8e-d9985c9c554c"
  },
  {
   "cell_type": "code",
   "execution_count": 36,
   "metadata": {
    "quarto-private-1": {
     "key": "execution",
     "value": {
      "iopub.execute_input": "2025-05-01T19:10:55.125077Z",
      "iopub.status.busy": "2025-05-01T19:10:55.124499Z",
      "iopub.status.idle": "2025-05-01T19:10:55.358629Z",
      "shell.execute_reply": "2025-05-01T19:10:55.357802Z",
      "shell.execute_reply.started": "2025-05-01T19:10:55.124976Z"
     }
    }
   },
   "outputs": [
    {
     "output_type": "display_data",
     "metadata": {},
     "data": {
      "text/html": [
       "<div>                            <div id=\"58517d3c-6907-4370-bb22-914d100bf741\" class=\"plotly-graph-div\" style=\"height:400px; width:100%;\"></div>            <script type=\"text/javascript\">                require([\"plotly\"], function(Plotly) {                    window.PLOTLYENV=window.PLOTLYENV || {};                                    if (document.getElementById(\"58517d3c-6907-4370-bb22-914d100bf741\")) {                    Plotly.newPlot(                        \"58517d3c-6907-4370-bb22-914d100bf741\",                        [{\"name\":\"Total talking time\",\"offsetgroup\":\"1\",\"x\":[\"alana\",\"alvin\",\"alysha\",\"ashley\",\"audrey\",\"brett\",\"caitlynn\",\"carly\",\"chris\",\"clint\",\"dan\",\"dustin\",\"dylan\",\"ed\",\"elliot\",\"eric\",\"erin\",\"george\",\"haak\",\"hunter\",\"jack\",\"jacob\",\"james\",\"jessica\",\"julie\",\"justin\",\"kaelan\",\"katie\",\"kelsey\",\"laura\",\"margaret\",\"matt\",\"meghan\",\"meryl\",\"mike\",\"mitchell\",\"paul\",\"pete\",\"robin\",\"sarah\",\"sean\",\"sebastian\",\"shane\",\"sian\",\"sukeshi\",\"tyler\",\"zack\"],\"y\":[2619,1764,560,1070,688,3817,3601,253,2758,1204,1664,660,1012,417,843,1579,1619,664,219,3069,1075,3898,12528,213,760,27359,736,3150,540,990,1527,82,780,439,13762,23462,14655,1187,211,306,1873,685,71,865,1697,2029,1156],\"yaxis\":\"y\",\"type\":\"bar\"},{\"name\":\"Was voted for\",\"offsetgroup\":\"2\",\"x\":[\"alana\",\"alvin\",\"alysha\",\"ashley\",\"audrey\",\"brett\",\"caitlynn\",\"carly\",\"chris\",\"clint\",\"dan\",\"dustin\",\"dylan\",\"ed\",\"elliot\",\"eric\",\"erin\",\"george\",\"haak\",\"hunter\",\"jack\",\"jacob\",\"james\",\"jessica\",\"julie\",\"justin\",\"kaelan\",\"katie\",\"kelsey\",\"laura\",\"margaret\",\"matt\",\"meghan\",\"meryl\",\"mike\",\"mitchell\",\"paul\",\"pete\",\"robin\",\"sarah\",\"sean\",\"sebastian\",\"shane\",\"sian\",\"sukeshi\",\"tyler\",\"zack\"],\"y\":[15,2,8,12,3,14,32,2,6,7,9,1,3,1,5,11,8,2,5,4,4,13,42,3,5,118,1,10,5,17,1,1,6,1,69,138,67,5,2,2,13,4,5,5,8,5,10],\"yaxis\":\"y2\",\"type\":\"bar\"}],                        {\"title\":{\"text\":\"Humans: Player Talking Time vs. Was Voted On\"},\"yaxis\":{\"title\":{\"text\":\"Total talking time\"}},\"yaxis2\":{\"overlaying\":\"y\",\"side\":\"right\",\"title\":{\"text\":\"Was voted for\"}},\"template\":{\"data\":{\"barpolar\":[{\"marker\":{\"line\":{\"color\":\"#E5ECF6\",\"width\":0.5},\"pattern\":{\"fillmode\":\"overlay\",\"size\":10,\"solidity\":0.2}},\"type\":\"barpolar\"}],\"bar\":[{\"error_x\":{\"color\":\"#2a3f5f\"},\"error_y\":{\"color\":\"#2a3f5f\"},\"marker\":{\"line\":{\"color\":\"#E5ECF6\",\"width\":0.5},\"pattern\":{\"fillmode\":\"overlay\",\"size\":10,\"solidity\":0.2}},\"type\":\"bar\"}],\"carpet\":[{\"aaxis\":{\"endlinecolor\":\"#2a3f5f\",\"gridcolor\":\"white\",\"linecolor\":\"white\",\"minorgridcolor\":\"white\",\"startlinecolor\":\"#2a3f5f\"},\"baxis\":{\"endlinecolor\":\"#2a3f5f\",\"gridcolor\":\"white\",\"linecolor\":\"white\",\"minorgridcolor\":\"white\",\"startlinecolor\":\"#2a3f5f\"},\"type\":\"carpet\"}],\"choropleth\":[{\"colorbar\":{\"outlinewidth\":0,\"ticks\":\"\"},\"type\":\"choropleth\"}],\"contourcarpet\":[{\"colorbar\":{\"outlinewidth\":0,\"ticks\":\"\"},\"type\":\"contourcarpet\"}],\"contour\":[{\"colorbar\":{\"outlinewidth\":0,\"ticks\":\"\"},\"colorscale\":[[0.0,\"#0d0887\"],[0.1111111111111111,\"#46039f\"],[0.2222222222222222,\"#7201a8\"],[0.3333333333333333,\"#9c179e\"],[0.4444444444444444,\"#bd3786\"],[0.5555555555555556,\"#d8576b\"],[0.6666666666666666,\"#ed7953\"],[0.7777777777777778,\"#fb9f3a\"],[0.8888888888888888,\"#fdca26\"],[1.0,\"#f0f921\"]],\"type\":\"contour\"}],\"heatmapgl\":[{\"colorbar\":{\"outlinewidth\":0,\"ticks\":\"\"},\"colorscale\":[[0.0,\"#0d0887\"],[0.1111111111111111,\"#46039f\"],[0.2222222222222222,\"#7201a8\"],[0.3333333333333333,\"#9c179e\"],[0.4444444444444444,\"#bd3786\"],[0.5555555555555556,\"#d8576b\"],[0.6666666666666666,\"#ed7953\"],[0.7777777777777778,\"#fb9f3a\"],[0.8888888888888888,\"#fdca26\"],[1.0,\"#f0f921\"]],\"type\":\"heatmapgl\"}],\"heatmap\":[{\"colorbar\":{\"outlinewidth\":0,\"ticks\":\"\"},\"colorscale\":[[0.0,\"#0d0887\"],[0.1111111111111111,\"#46039f\"],[0.2222222222222222,\"#7201a8\"],[0.3333333333333333,\"#9c179e\"],[0.4444444444444444,\"#bd3786\"],[0.5555555555555556,\"#d8576b\"],[0.6666666666666666,\"#ed7953\"],[0.7777777777777778,\"#fb9f3a\"],[0.8888888888888888,\"#fdca26\"],[1.0,\"#f0f921\"]],\"type\":\"heatmap\"}],\"histogram2dcontour\":[{\"colorbar\":{\"outlinewidth\":0,\"ticks\":\"\"},\"colorscale\":[[0.0,\"#0d0887\"],[0.1111111111111111,\"#46039f\"],[0.2222222222222222,\"#7201a8\"],[0.3333333333333333,\"#9c179e\"],[0.4444444444444444,\"#bd3786\"],[0.5555555555555556,\"#d8576b\"],[0.6666666666666666,\"#ed7953\"],[0.7777777777777778,\"#fb9f3a\"],[0.8888888888888888,\"#fdca26\"],[1.0,\"#f0f921\"]],\"type\":\"histogram2dcontour\"}],\"histogram2d\":[{\"colorbar\":{\"outlinewidth\":0,\"ticks\":\"\"},\"colorscale\":[[0.0,\"#0d0887\"],[0.1111111111111111,\"#46039f\"],[0.2222222222222222,\"#7201a8\"],[0.3333333333333333,\"#9c179e\"],[0.4444444444444444,\"#bd3786\"],[0.5555555555555556,\"#d8576b\"],[0.6666666666666666,\"#ed7953\"],[0.7777777777777778,\"#fb9f3a\"],[0.8888888888888888,\"#fdca26\"],[1.0,\"#f0f921\"]],\"type\":\"histogram2d\"}],\"histogram\":[{\"marker\":{\"pattern\":{\"fillmode\":\"overlay\",\"size\":10,\"solidity\":0.2}},\"type\":\"histogram\"}],\"mesh3d\":[{\"colorbar\":{\"outlinewidth\":0,\"ticks\":\"\"},\"type\":\"mesh3d\"}],\"parcoords\":[{\"line\":{\"colorbar\":{\"outlinewidth\":0,\"ticks\":\"\"}},\"type\":\"parcoords\"}],\"pie\":[{\"automargin\":true,\"type\":\"pie\"}],\"scatter3d\":[{\"line\":{\"colorbar\":{\"outlinewidth\":0,\"ticks\":\"\"}},\"marker\":{\"colorbar\":{\"outlinewidth\":0,\"ticks\":\"\"}},\"type\":\"scatter3d\"}],\"scattercarpet\":[{\"marker\":{\"colorbar\":{\"outlinewidth\":0,\"ticks\":\"\"}},\"type\":\"scattercarpet\"}],\"scattergeo\":[{\"marker\":{\"colorbar\":{\"outlinewidth\":0,\"ticks\":\"\"}},\"type\":\"scattergeo\"}],\"scattergl\":[{\"marker\":{\"colorbar\":{\"outlinewidth\":0,\"ticks\":\"\"}},\"type\":\"scattergl\"}],\"scattermapbox\":[{\"marker\":{\"colorbar\":{\"outlinewidth\":0,\"ticks\":\"\"}},\"type\":\"scattermapbox\"}],\"scatterpolargl\":[{\"marker\":{\"colorbar\":{\"outlinewidth\":0,\"ticks\":\"\"}},\"type\":\"scatterpolargl\"}],\"scatterpolar\":[{\"marker\":{\"colorbar\":{\"outlinewidth\":0,\"ticks\":\"\"}},\"type\":\"scatterpolar\"}],\"scatter\":[{\"fillpattern\":{\"fillmode\":\"overlay\",\"size\":10,\"solidity\":0.2},\"type\":\"scatter\"}],\"scatterternary\":[{\"marker\":{\"colorbar\":{\"outlinewidth\":0,\"ticks\":\"\"}},\"type\":\"scatterternary\"}],\"surface\":[{\"colorbar\":{\"outlinewidth\":0,\"ticks\":\"\"},\"colorscale\":[[0.0,\"#0d0887\"],[0.1111111111111111,\"#46039f\"],[0.2222222222222222,\"#7201a8\"],[0.3333333333333333,\"#9c179e\"],[0.4444444444444444,\"#bd3786\"],[0.5555555555555556,\"#d8576b\"],[0.6666666666666666,\"#ed7953\"],[0.7777777777777778,\"#fb9f3a\"],[0.8888888888888888,\"#fdca26\"],[1.0,\"#f0f921\"]],\"type\":\"surface\"}],\"table\":[{\"cells\":{\"fill\":{\"color\":\"#EBF0F8\"},\"line\":{\"color\":\"white\"}},\"header\":{\"fill\":{\"color\":\"#C8D4E3\"},\"line\":{\"color\":\"white\"}},\"type\":\"table\"}]},\"layout\":{\"annotationdefaults\":{\"arrowcolor\":\"#2a3f5f\",\"arrowhead\":0,\"arrowwidth\":1},\"autotypenumbers\":\"strict\",\"coloraxis\":{\"colorbar\":{\"outlinewidth\":0,\"ticks\":\"\"}},\"colorscale\":{\"diverging\":[[0,\"#8e0152\"],[0.1,\"#c51b7d\"],[0.2,\"#de77ae\"],[0.3,\"#f1b6da\"],[0.4,\"#fde0ef\"],[0.5,\"#f7f7f7\"],[0.6,\"#e6f5d0\"],[0.7,\"#b8e186\"],[0.8,\"#7fbc41\"],[0.9,\"#4d9221\"],[1,\"#276419\"]],\"sequential\":[[0.0,\"#0d0887\"],[0.1111111111111111,\"#46039f\"],[0.2222222222222222,\"#7201a8\"],[0.3333333333333333,\"#9c179e\"],[0.4444444444444444,\"#bd3786\"],[0.5555555555555556,\"#d8576b\"],[0.6666666666666666,\"#ed7953\"],[0.7777777777777778,\"#fb9f3a\"],[0.8888888888888888,\"#fdca26\"],[1.0,\"#f0f921\"]],\"sequentialminus\":[[0.0,\"#0d0887\"],[0.1111111111111111,\"#46039f\"],[0.2222222222222222,\"#7201a8\"],[0.3333333333333333,\"#9c179e\"],[0.4444444444444444,\"#bd3786\"],[0.5555555555555556,\"#d8576b\"],[0.6666666666666666,\"#ed7953\"],[0.7777777777777778,\"#fb9f3a\"],[0.8888888888888888,\"#fdca26\"],[1.0,\"#f0f921\"]]},\"colorway\":[\"#636EFA\",\"#00CC96\",\"#FFA15A\",\"#EF553B\",\"#AB63FA\",\"#19D3F3\",\"#FF6692\",\"#B6E880\",\"#FF97FF\",\"#FECB52\"],\"font\":{\"color\":\"#2a3f5f\"},\"geo\":{\"bgcolor\":\"white\",\"lakecolor\":\"white\",\"landcolor\":\"#E5ECF6\",\"showlakes\":true,\"showland\":true,\"subunitcolor\":\"white\"},\"hoverlabel\":{\"align\":\"left\"},\"hovermode\":\"closest\",\"mapbox\":{\"style\":\"light\"},\"paper_bgcolor\":\"white\",\"plot_bgcolor\":\"#E5ECF6\",\"polar\":{\"angularaxis\":{\"gridcolor\":\"white\",\"linecolor\":\"white\",\"ticks\":\"\"},\"bgcolor\":\"#E5ECF6\",\"radialaxis\":{\"gridcolor\":\"white\",\"linecolor\":\"white\",\"ticks\":\"\"}},\"scene\":{\"xaxis\":{\"backgroundcolor\":\"#E5ECF6\",\"gridcolor\":\"white\",\"gridwidth\":2,\"linecolor\":\"white\",\"showbackground\":true,\"ticks\":\"\",\"zerolinecolor\":\"white\"},\"yaxis\":{\"backgroundcolor\":\"#E5ECF6\",\"gridcolor\":\"white\",\"gridwidth\":2,\"linecolor\":\"white\",\"showbackground\":true,\"ticks\":\"\",\"zerolinecolor\":\"white\"},\"zaxis\":{\"backgroundcolor\":\"#E5ECF6\",\"gridcolor\":\"white\",\"gridwidth\":2,\"linecolor\":\"white\",\"showbackground\":true,\"ticks\":\"\",\"zerolinecolor\":\"white\"}},\"shapedefaults\":{\"line\":{\"color\":\"#2a3f5f\"}},\"ternary\":{\"aaxis\":{\"gridcolor\":\"white\",\"linecolor\":\"white\",\"ticks\":\"\"},\"baxis\":{\"gridcolor\":\"white\",\"linecolor\":\"white\",\"ticks\":\"\"},\"bgcolor\":\"#E5ECF6\",\"caxis\":{\"gridcolor\":\"white\",\"linecolor\":\"white\",\"ticks\":\"\"}},\"title\":{\"x\":0.05},\"xaxis\":{\"automargin\":true,\"gridcolor\":\"white\",\"linecolor\":\"white\",\"ticks\":\"\",\"title\":{\"standoff\":15},\"zerolinecolor\":\"white\",\"zerolinewidth\":2},\"yaxis\":{\"automargin\":true,\"gridcolor\":\"white\",\"linecolor\":\"white\",\"ticks\":\"\",\"title\":{\"standoff\":15},\"zerolinecolor\":\"white\",\"zerolinewidth\":2},\"margin\":{\"b\":10,\"l\":10,\"r\":10,\"t\":40}}},\"barmode\":\"group\",\"height\":400},                        {\"responsive\": true}                    ).then(function(){\n",
       "                            \n",
       "var gd = document.getElementById('58517d3c-6907-4370-bb22-914d100bf741');\n",
       "var x = new MutationObserver(function (mutations, observer) {{\n",
       "        var display = window.getComputedStyle(gd).display;\n",
       "        if (!display || display === 'none') {{\n",
       "            console.log([gd, 'removed!']);\n",
       "            Plotly.purge(gd);\n",
       "            observer.disconnect();\n",
       "        }}\n",
       "}});\n",
       "\n",
       "// Listen for the removal of the full notebook cells\n",
       "var notebookContainer = gd.closest('#notebook-container');\n",
       "if (notebookContainer) {{\n",
       "    x.observe(notebookContainer, {childList: true});\n",
       "}}\n",
       "\n",
       "// Listen for the clearing of the current output cell\n",
       "var outputEl = gd.closest('.output');\n",
       "if (outputEl) {{\n",
       "    x.observe(outputEl, {childList: true});\n",
       "}}\n",
       "\n",
       "                        })                };                });            </script>        </div>"
      ]
     }
    },
    {
     "output_type": "display_data",
     "metadata": {},
     "data": {
      "text/html": [
       "<div>                            <div id=\"72a718d7-5c3c-45c6-9d4e-1aa27baf998c\" class=\"plotly-graph-div\" style=\"height:400px; width:100%;\"></div>            <script type=\"text/javascript\">                require([\"plotly\"], function(Plotly) {                    window.PLOTLYENV=window.PLOTLYENV || {};                                    if (document.getElementById(\"72a718d7-5c3c-45c6-9d4e-1aa27baf998c\")) {                    Plotly.newPlot(                        \"72a718d7-5c3c-45c6-9d4e-1aa27baf998c\",                        [{\"name\":\"Number of Speeches\",\"offsetgroup\":\"1\",\"x\":[\"Will\",\"Hayley\",\"Harold\",\"Jacob\",\"Jackson\",\"Sam\",\"Mason\",\"Paul\",\"Dan\",\"Scott\",\"David\",\"Tyler\",\"Ginger\",\"Leah\",\"Isaac\",\"Derek\",\"Bert\"],\"y\":[27,27,25,23,23,19,17,14,14,13,11,11,10,7,5,5,1],\"yaxis\":\"y\",\"type\":\"bar\"},{\"name\":\"Was voted for\",\"offsetgroup\":\"2\",\"x\":[\"Will\",\"Hayley\",\"Harold\",\"Jacob\",\"Jackson\",\"Sam\",\"Mason\",\"Paul\",\"Dan\",\"Scott\",\"David\",\"Tyler\",\"Ginger\",\"Leah\",\"Isaac\",\"Derek\",\"Bert\"],\"y\":[13,23,13,14,13,11,18,10,12,12,11,10,7,8,5,8,5],\"yaxis\":\"y2\",\"type\":\"bar\"}],                        {\"title\":{\"text\":\"LLMs: Player Talking Time vs. Was Voted On\"},\"yaxis\":{\"title\":{\"text\":\"Number of Speeches\"}},\"yaxis2\":{\"overlaying\":\"y\",\"side\":\"right\",\"title\":{\"text\":\"Was voted for\"}},\"template\":{\"data\":{\"barpolar\":[{\"marker\":{\"line\":{\"color\":\"#E5ECF6\",\"width\":0.5},\"pattern\":{\"fillmode\":\"overlay\",\"size\":10,\"solidity\":0.2}},\"type\":\"barpolar\"}],\"bar\":[{\"error_x\":{\"color\":\"#2a3f5f\"},\"error_y\":{\"color\":\"#2a3f5f\"},\"marker\":{\"line\":{\"color\":\"#E5ECF6\",\"width\":0.5},\"pattern\":{\"fillmode\":\"overlay\",\"size\":10,\"solidity\":0.2}},\"type\":\"bar\"}],\"carpet\":[{\"aaxis\":{\"endlinecolor\":\"#2a3f5f\",\"gridcolor\":\"white\",\"linecolor\":\"white\",\"minorgridcolor\":\"white\",\"startlinecolor\":\"#2a3f5f\"},\"baxis\":{\"endlinecolor\":\"#2a3f5f\",\"gridcolor\":\"white\",\"linecolor\":\"white\",\"minorgridcolor\":\"white\",\"startlinecolor\":\"#2a3f5f\"},\"type\":\"carpet\"}],\"choropleth\":[{\"colorbar\":{\"outlinewidth\":0,\"ticks\":\"\"},\"type\":\"choropleth\"}],\"contourcarpet\":[{\"colorbar\":{\"outlinewidth\":0,\"ticks\":\"\"},\"type\":\"contourcarpet\"}],\"contour\":[{\"colorbar\":{\"outlinewidth\":0,\"ticks\":\"\"},\"colorscale\":[[0.0,\"#0d0887\"],[0.1111111111111111,\"#46039f\"],[0.2222222222222222,\"#7201a8\"],[0.3333333333333333,\"#9c179e\"],[0.4444444444444444,\"#bd3786\"],[0.5555555555555556,\"#d8576b\"],[0.6666666666666666,\"#ed7953\"],[0.7777777777777778,\"#fb9f3a\"],[0.8888888888888888,\"#fdca26\"],[1.0,\"#f0f921\"]],\"type\":\"contour\"}],\"heatmapgl\":[{\"colorbar\":{\"outlinewidth\":0,\"ticks\":\"\"},\"colorscale\":[[0.0,\"#0d0887\"],[0.1111111111111111,\"#46039f\"],[0.2222222222222222,\"#7201a8\"],[0.3333333333333333,\"#9c179e\"],[0.4444444444444444,\"#bd3786\"],[0.5555555555555556,\"#d8576b\"],[0.6666666666666666,\"#ed7953\"],[0.7777777777777778,\"#fb9f3a\"],[0.8888888888888888,\"#fdca26\"],[1.0,\"#f0f921\"]],\"type\":\"heatmapgl\"}],\"heatmap\":[{\"colorbar\":{\"outlinewidth\":0,\"ticks\":\"\"},\"colorscale\":[[0.0,\"#0d0887\"],[0.1111111111111111,\"#46039f\"],[0.2222222222222222,\"#7201a8\"],[0.3333333333333333,\"#9c179e\"],[0.4444444444444444,\"#bd3786\"],[0.5555555555555556,\"#d8576b\"],[0.6666666666666666,\"#ed7953\"],[0.7777777777777778,\"#fb9f3a\"],[0.8888888888888888,\"#fdca26\"],[1.0,\"#f0f921\"]],\"type\":\"heatmap\"}],\"histogram2dcontour\":[{\"colorbar\":{\"outlinewidth\":0,\"ticks\":\"\"},\"colorscale\":[[0.0,\"#0d0887\"],[0.1111111111111111,\"#46039f\"],[0.2222222222222222,\"#7201a8\"],[0.3333333333333333,\"#9c179e\"],[0.4444444444444444,\"#bd3786\"],[0.5555555555555556,\"#d8576b\"],[0.6666666666666666,\"#ed7953\"],[0.7777777777777778,\"#fb9f3a\"],[0.8888888888888888,\"#fdca26\"],[1.0,\"#f0f921\"]],\"type\":\"histogram2dcontour\"}],\"histogram2d\":[{\"colorbar\":{\"outlinewidth\":0,\"ticks\":\"\"},\"colorscale\":[[0.0,\"#0d0887\"],[0.1111111111111111,\"#46039f\"],[0.2222222222222222,\"#7201a8\"],[0.3333333333333333,\"#9c179e\"],[0.4444444444444444,\"#bd3786\"],[0.5555555555555556,\"#d8576b\"],[0.6666666666666666,\"#ed7953\"],[0.7777777777777778,\"#fb9f3a\"],[0.8888888888888888,\"#fdca26\"],[1.0,\"#f0f921\"]],\"type\":\"histogram2d\"}],\"histogram\":[{\"marker\":{\"pattern\":{\"fillmode\":\"overlay\",\"size\":10,\"solidity\":0.2}},\"type\":\"histogram\"}],\"mesh3d\":[{\"colorbar\":{\"outlinewidth\":0,\"ticks\":\"\"},\"type\":\"mesh3d\"}],\"parcoords\":[{\"line\":{\"colorbar\":{\"outlinewidth\":0,\"ticks\":\"\"}},\"type\":\"parcoords\"}],\"pie\":[{\"automargin\":true,\"type\":\"pie\"}],\"scatter3d\":[{\"line\":{\"colorbar\":{\"outlinewidth\":0,\"ticks\":\"\"}},\"marker\":{\"colorbar\":{\"outlinewidth\":0,\"ticks\":\"\"}},\"type\":\"scatter3d\"}],\"scattercarpet\":[{\"marker\":{\"colorbar\":{\"outlinewidth\":0,\"ticks\":\"\"}},\"type\":\"scattercarpet\"}],\"scattergeo\":[{\"marker\":{\"colorbar\":{\"outlinewidth\":0,\"ticks\":\"\"}},\"type\":\"scattergeo\"}],\"scattergl\":[{\"marker\":{\"colorbar\":{\"outlinewidth\":0,\"ticks\":\"\"}},\"type\":\"scattergl\"}],\"scattermapbox\":[{\"marker\":{\"colorbar\":{\"outlinewidth\":0,\"ticks\":\"\"}},\"type\":\"scattermapbox\"}],\"scatterpolargl\":[{\"marker\":{\"colorbar\":{\"outlinewidth\":0,\"ticks\":\"\"}},\"type\":\"scatterpolargl\"}],\"scatterpolar\":[{\"marker\":{\"colorbar\":{\"outlinewidth\":0,\"ticks\":\"\"}},\"type\":\"scatterpolar\"}],\"scatter\":[{\"fillpattern\":{\"fillmode\":\"overlay\",\"size\":10,\"solidity\":0.2},\"type\":\"scatter\"}],\"scatterternary\":[{\"marker\":{\"colorbar\":{\"outlinewidth\":0,\"ticks\":\"\"}},\"type\":\"scatterternary\"}],\"surface\":[{\"colorbar\":{\"outlinewidth\":0,\"ticks\":\"\"},\"colorscale\":[[0.0,\"#0d0887\"],[0.1111111111111111,\"#46039f\"],[0.2222222222222222,\"#7201a8\"],[0.3333333333333333,\"#9c179e\"],[0.4444444444444444,\"#bd3786\"],[0.5555555555555556,\"#d8576b\"],[0.6666666666666666,\"#ed7953\"],[0.7777777777777778,\"#fb9f3a\"],[0.8888888888888888,\"#fdca26\"],[1.0,\"#f0f921\"]],\"type\":\"surface\"}],\"table\":[{\"cells\":{\"fill\":{\"color\":\"#EBF0F8\"},\"line\":{\"color\":\"white\"}},\"header\":{\"fill\":{\"color\":\"#C8D4E3\"},\"line\":{\"color\":\"white\"}},\"type\":\"table\"}]},\"layout\":{\"annotationdefaults\":{\"arrowcolor\":\"#2a3f5f\",\"arrowhead\":0,\"arrowwidth\":1},\"autotypenumbers\":\"strict\",\"coloraxis\":{\"colorbar\":{\"outlinewidth\":0,\"ticks\":\"\"}},\"colorscale\":{\"diverging\":[[0,\"#8e0152\"],[0.1,\"#c51b7d\"],[0.2,\"#de77ae\"],[0.3,\"#f1b6da\"],[0.4,\"#fde0ef\"],[0.5,\"#f7f7f7\"],[0.6,\"#e6f5d0\"],[0.7,\"#b8e186\"],[0.8,\"#7fbc41\"],[0.9,\"#4d9221\"],[1,\"#276419\"]],\"sequential\":[[0.0,\"#0d0887\"],[0.1111111111111111,\"#46039f\"],[0.2222222222222222,\"#7201a8\"],[0.3333333333333333,\"#9c179e\"],[0.4444444444444444,\"#bd3786\"],[0.5555555555555556,\"#d8576b\"],[0.6666666666666666,\"#ed7953\"],[0.7777777777777778,\"#fb9f3a\"],[0.8888888888888888,\"#fdca26\"],[1.0,\"#f0f921\"]],\"sequentialminus\":[[0.0,\"#0d0887\"],[0.1111111111111111,\"#46039f\"],[0.2222222222222222,\"#7201a8\"],[0.3333333333333333,\"#9c179e\"],[0.4444444444444444,\"#bd3786\"],[0.5555555555555556,\"#d8576b\"],[0.6666666666666666,\"#ed7953\"],[0.7777777777777778,\"#fb9f3a\"],[0.8888888888888888,\"#fdca26\"],[1.0,\"#f0f921\"]]},\"colorway\":[\"#636EFA\",\"#00CC96\",\"#FFA15A\",\"#EF553B\",\"#AB63FA\",\"#19D3F3\",\"#FF6692\",\"#B6E880\",\"#FF97FF\",\"#FECB52\"],\"font\":{\"color\":\"#2a3f5f\"},\"geo\":{\"bgcolor\":\"white\",\"lakecolor\":\"white\",\"landcolor\":\"#E5ECF6\",\"showlakes\":true,\"showland\":true,\"subunitcolor\":\"white\"},\"hoverlabel\":{\"align\":\"left\"},\"hovermode\":\"closest\",\"mapbox\":{\"style\":\"light\"},\"paper_bgcolor\":\"white\",\"plot_bgcolor\":\"#E5ECF6\",\"polar\":{\"angularaxis\":{\"gridcolor\":\"white\",\"linecolor\":\"white\",\"ticks\":\"\"},\"bgcolor\":\"#E5ECF6\",\"radialaxis\":{\"gridcolor\":\"white\",\"linecolor\":\"white\",\"ticks\":\"\"}},\"scene\":{\"xaxis\":{\"backgroundcolor\":\"#E5ECF6\",\"gridcolor\":\"white\",\"gridwidth\":2,\"linecolor\":\"white\",\"showbackground\":true,\"ticks\":\"\",\"zerolinecolor\":\"white\"},\"yaxis\":{\"backgroundcolor\":\"#E5ECF6\",\"gridcolor\":\"white\",\"gridwidth\":2,\"linecolor\":\"white\",\"showbackground\":true,\"ticks\":\"\",\"zerolinecolor\":\"white\"},\"zaxis\":{\"backgroundcolor\":\"#E5ECF6\",\"gridcolor\":\"white\",\"gridwidth\":2,\"linecolor\":\"white\",\"showbackground\":true,\"ticks\":\"\",\"zerolinecolor\":\"white\"}},\"shapedefaults\":{\"line\":{\"color\":\"#2a3f5f\"}},\"ternary\":{\"aaxis\":{\"gridcolor\":\"white\",\"linecolor\":\"white\",\"ticks\":\"\"},\"baxis\":{\"gridcolor\":\"white\",\"linecolor\":\"white\",\"ticks\":\"\"},\"bgcolor\":\"#E5ECF6\",\"caxis\":{\"gridcolor\":\"white\",\"linecolor\":\"white\",\"ticks\":\"\"}},\"title\":{\"x\":0.05},\"xaxis\":{\"automargin\":true,\"gridcolor\":\"white\",\"linecolor\":\"white\",\"ticks\":\"\",\"title\":{\"standoff\":15},\"zerolinecolor\":\"white\",\"zerolinewidth\":2},\"yaxis\":{\"automargin\":true,\"gridcolor\":\"white\",\"linecolor\":\"white\",\"ticks\":\"\",\"title\":{\"standoff\":15},\"zerolinecolor\":\"white\",\"zerolinewidth\":2},\"margin\":{\"b\":10,\"l\":10,\"r\":10,\"t\":40}}},\"barmode\":\"group\",\"height\":400},                        {\"responsive\": true}                    ).then(function(){\n",
       "                            \n",
       "var gd = document.getElementById('72a718d7-5c3c-45c6-9d4e-1aa27baf998c');\n",
       "var x = new MutationObserver(function (mutations, observer) {{\n",
       "        var display = window.getComputedStyle(gd).display;\n",
       "        if (!display || display === 'none') {{\n",
       "            console.log([gd, 'removed!']);\n",
       "            Plotly.purge(gd);\n",
       "            observer.disconnect();\n",
       "        }}\n",
       "}});\n",
       "\n",
       "// Listen for the removal of the full notebook cells\n",
       "var notebookContainer = gd.closest('#notebook-container');\n",
       "if (notebookContainer) {{\n",
       "    x.observe(notebookContainer, {childList: true});\n",
       "}}\n",
       "\n",
       "// Listen for the clearing of the current output cell\n",
       "var outputEl = gd.closest('.output');\n",
       "if (outputEl) {{\n",
       "    x.observe(outputEl, {childList: true});\n",
       "}}\n",
       "\n",
       "                        })                };                });            </script>        </div>"
      ]
     }
    }
   ],
   "source": [
    "## Humans dataset\n",
    "hum_talklen = hum_text_df.groupby(\"speaker\")[\"utterance_length\"].sum().reset_index()\n",
    "hum_votedon = hum_rounds_df[\"voted_for\"].value_counts().reset_index()\n",
    "cmp = hum_talklen.merge(hum_votedon, left_on=\"speaker\", right_on=\"voted_for\", how=\"inner\")\\\n",
    "                .rename(columns={\"speaker\": \"Player\", \"utterance_length\": \"Total talking time\", \"count\": \"Was voted for\"})\n",
    "\n",
    "fig = go.Figure(\n",
    "    data=[\n",
    "        go.Bar(name='Total talking time', x=cmp[\"Player\"], y=cmp[\"Total talking time\"], yaxis='y', offsetgroup=1),\n",
    "        go.Bar(name='Was voted for', x=cmp[\"Player\"], y=cmp[\"Was voted for\"], yaxis='y2', offsetgroup=2)\n",
    "    ],\n",
    "    layout={\n",
    "        'yaxis': {'title': 'Total talking time'},\n",
    "        'yaxis2': {'title': 'Was voted for', 'overlaying': 'y', 'side': 'right'},\n",
    "        \"title\": \"Humans: Player Talking Time vs. Was Voted On\"\n",
    "    }\n",
    ")\n",
    "# Change the bar mode\n",
    "fig.update_layout(barmode='group', height=400)\n",
    "fig.show()\n",
    "\n",
    "\n",
    "## LLMs dataset\n",
    "llm_talklen = llm_text_df[\"speaker\"].value_counts().reset_index()\n",
    "llm_votes = llm_text_df.groupby([\"game_id\", \"round\"])[\"votes\"].first().reset_index().dropna()[\"votes\"].apply(ast.literal_eval)\n",
    "voted_on = {}\n",
    "for vote in llm_votes:\n",
    "    for k, v in vote.items():\n",
    "        if not k in voted_on:\n",
    "            voted_on[k] = 1\n",
    "        else:\n",
    "            voted_on[k] += 1\n",
    "llm_votedon = pd.DataFrame(voted_on.items()).rename(columns={0: \"speaker\", 1: \"Voted On\"})\n",
    "\n",
    "cmp = llm_talklen.merge(llm_votedon, on=\"speaker\", how=\"inner\")\\\n",
    "                .rename(columns={\"speaker\": \"Player\", \"count\": \"Number of Speeches\"})\n",
    "\n",
    "fig = go.Figure(\n",
    "    data=[\n",
    "        go.Bar(name='Number of Speeches', x=cmp[\"Player\"], y=cmp[\"Number of Speeches\"], yaxis='y', offsetgroup=1),\n",
    "        go.Bar(name='Was voted for', x=cmp[\"Player\"], y=cmp[\"Voted On\"], yaxis='y2', offsetgroup=2)\n",
    "    ],\n",
    "    layout={\n",
    "        'yaxis': {'title': 'Number of Speeches'},\n",
    "        'yaxis2': {'title': 'Was voted for', 'overlaying': 'y', 'side': 'right'},\n",
    "        \"title\": \"LLMs: Player Talking Time vs. Was Voted On\"\n",
    "    }\n",
    ")\n",
    "# Change the bar mode\n",
    "fig.update_layout(barmode='group', height=400)\n",
    "fig.show()"
   ],
   "id": "40ac77c6-ea9e-4742-8626-a1104902e601"
  },
  {
   "cell_type": "markdown",
   "metadata": {},
   "source": [
    "### Voting spread\n",
    "\n",
    "How unified vs spread out the votes were per round"
   ],
   "id": "7e06c822-b3f4-4ce7-9a73-ab368132f9ac"
  },
  {
   "cell_type": "code",
   "execution_count": 16,
   "metadata": {
    "quarto-private-1": {
     "key": "execution",
     "value": {
      "iopub.execute_input": "2025-05-01T17:53:18.969231Z",
      "iopub.status.busy": "2025-05-01T17:53:18.968690Z",
      "iopub.status.idle": "2025-05-01T17:53:19.298226Z",
      "shell.execute_reply": "2025-05-01T17:53:19.296421Z",
      "shell.execute_reply.started": "2025-05-01T17:53:18.969202Z"
     }
    }
   },
   "outputs": [
    {
     "output_type": "display_data",
     "metadata": {},
     "data": {
      "text/html": [
       "<div>                            <div id=\"5127df2c-f1b9-4dbb-bcc4-791786b1ba70\" class=\"plotly-graph-div\" style=\"height:400px; width:100%;\"></div>            <script type=\"text/javascript\">                require([\"plotly\"], function(Plotly) {                    window.PLOTLYENV=window.PLOTLYENV || {};                                    if (document.getElementById(\"5127df2c-f1b9-4dbb-bcc4-791786b1ba70\")) {                    Plotly.newPlot(                        \"5127df2c-f1b9-4dbb-bcc4-791786b1ba70\",                        [{\"name\":\"Human Voter Spread\",\"offsetgroup\":\"1\",\"opacity\":0.75,\"x\":[0.4,0.25,0.0,0.8333333333333334,0.4,0.75,0.8,0.3333333333333333,0.5,0.75,0.25,0.5,0.5,0.75,0.75,0.75,0.5,0.75,0.75,0.2,0.5,0.5,0.5,0.5,0.6666666666666666,0.6666666666666666,0.3333333333333333,0.3333333333333333,0.5,0.3333333333333333,0.75,0.75,0.6,0.6,0.6,0.8,0.75,0.5,0.0,0.75,1.0,0.75,0.25,0.8,0.0,0.75,0.5,0.8,0.75,0.75,0.6666666666666666,0.5,0.8333333333333334,0.25,0.75,0.6,0.6666666666666666,0.5,0.4,0.6,0.5,0.5,1.0,0.75,0.75,0.75,0.75,0.75,1.0,0.5,1.0,0.8,0.4,0.6,0.5,0.0,0.4,0.4,0.75,0.8,1.0,0.6666666666666666,0.75,0.6,0.5,0.4,0.6,0.6,0.75,0.6,0.5,0.5,0.75,0.5,0.75,0.5,0.5,0.8,0.6,0.6,0.6,0.3333333333333333,0.5,0.5,0.8,0.5,0.6,0.8333333333333334,0.6,0.75,0.75,0.5,0.5,0.8,0.75,0.5,0.6,0.8,0.4,0.6,0.6666666666666666,0.5,0.8,0.75,0.4,0.75,0.8,0.6666666666666666,0.75,0.75,0.6,0.6,0.8,0.6,0.6666666666666666,0.5,0.75,0.4,0.5,1.0,0.6666666666666666,0.6,0.75,0.5,0.5,0.5,0.4,0.75,0.3333333333333333,0.75,0.4,0.8333333333333334,1.0,0.5,0.75,0.4,0.6666666666666666,0.5,0.75,0.5,0.0,0.5,0.8],\"yaxis\":\"y\",\"type\":\"histogram\"},{\"name\":\"LLM Voter Spread\",\"offsetgroup\":\"2\",\"opacity\":0.75,\"x\":[0.5714285714285714,0.6,0.42857142857142855,0.6,0.5714285714285714,0.6666666666666666,0.5,0.7142857142857143,0.6,0.42857142857142855,0.5,0.5,0.6666666666666666,0.3333333333333333,0.8571428571428571,0.4,0.5,0.5,0.6666666666666666,0.42857142857142855,0.4,0.42857142857142855,0.5,0.4,0.75,0.42857142857142855,0.5,0.5714285714285714,0.42857142857142855,0.6,0.42857142857142855,0.3333333333333333,0.6],\"yaxis\":\"y2\",\"type\":\"histogram\"}],                        {\"title\":{\"text\":\"Spread of Votes\"},\"xaxis\":{\"title\":{\"text\":\"Ratio That Voted for Top Choice\"}},\"yaxis\":{\"title\":{\"text\":\"Human Count\"}},\"yaxis2\":{\"overlaying\":\"y\",\"side\":\"right\",\"title\":{\"text\":\"LLM Count\"}},\"template\":{\"data\":{\"barpolar\":[{\"marker\":{\"line\":{\"color\":\"#E5ECF6\",\"width\":0.5},\"pattern\":{\"fillmode\":\"overlay\",\"size\":10,\"solidity\":0.2}},\"type\":\"barpolar\"}],\"bar\":[{\"error_x\":{\"color\":\"#2a3f5f\"},\"error_y\":{\"color\":\"#2a3f5f\"},\"marker\":{\"line\":{\"color\":\"#E5ECF6\",\"width\":0.5},\"pattern\":{\"fillmode\":\"overlay\",\"size\":10,\"solidity\":0.2}},\"type\":\"bar\"}],\"carpet\":[{\"aaxis\":{\"endlinecolor\":\"#2a3f5f\",\"gridcolor\":\"white\",\"linecolor\":\"white\",\"minorgridcolor\":\"white\",\"startlinecolor\":\"#2a3f5f\"},\"baxis\":{\"endlinecolor\":\"#2a3f5f\",\"gridcolor\":\"white\",\"linecolor\":\"white\",\"minorgridcolor\":\"white\",\"startlinecolor\":\"#2a3f5f\"},\"type\":\"carpet\"}],\"choropleth\":[{\"colorbar\":{\"outlinewidth\":0,\"ticks\":\"\"},\"type\":\"choropleth\"}],\"contourcarpet\":[{\"colorbar\":{\"outlinewidth\":0,\"ticks\":\"\"},\"type\":\"contourcarpet\"}],\"contour\":[{\"colorbar\":{\"outlinewidth\":0,\"ticks\":\"\"},\"colorscale\":[[0.0,\"#0d0887\"],[0.1111111111111111,\"#46039f\"],[0.2222222222222222,\"#7201a8\"],[0.3333333333333333,\"#9c179e\"],[0.4444444444444444,\"#bd3786\"],[0.5555555555555556,\"#d8576b\"],[0.6666666666666666,\"#ed7953\"],[0.7777777777777778,\"#fb9f3a\"],[0.8888888888888888,\"#fdca26\"],[1.0,\"#f0f921\"]],\"type\":\"contour\"}],\"heatmapgl\":[{\"colorbar\":{\"outlinewidth\":0,\"ticks\":\"\"},\"colorscale\":[[0.0,\"#0d0887\"],[0.1111111111111111,\"#46039f\"],[0.2222222222222222,\"#7201a8\"],[0.3333333333333333,\"#9c179e\"],[0.4444444444444444,\"#bd3786\"],[0.5555555555555556,\"#d8576b\"],[0.6666666666666666,\"#ed7953\"],[0.7777777777777778,\"#fb9f3a\"],[0.8888888888888888,\"#fdca26\"],[1.0,\"#f0f921\"]],\"type\":\"heatmapgl\"}],\"heatmap\":[{\"colorbar\":{\"outlinewidth\":0,\"ticks\":\"\"},\"colorscale\":[[0.0,\"#0d0887\"],[0.1111111111111111,\"#46039f\"],[0.2222222222222222,\"#7201a8\"],[0.3333333333333333,\"#9c179e\"],[0.4444444444444444,\"#bd3786\"],[0.5555555555555556,\"#d8576b\"],[0.6666666666666666,\"#ed7953\"],[0.7777777777777778,\"#fb9f3a\"],[0.8888888888888888,\"#fdca26\"],[1.0,\"#f0f921\"]],\"type\":\"heatmap\"}],\"histogram2dcontour\":[{\"colorbar\":{\"outlinewidth\":0,\"ticks\":\"\"},\"colorscale\":[[0.0,\"#0d0887\"],[0.1111111111111111,\"#46039f\"],[0.2222222222222222,\"#7201a8\"],[0.3333333333333333,\"#9c179e\"],[0.4444444444444444,\"#bd3786\"],[0.5555555555555556,\"#d8576b\"],[0.6666666666666666,\"#ed7953\"],[0.7777777777777778,\"#fb9f3a\"],[0.8888888888888888,\"#fdca26\"],[1.0,\"#f0f921\"]],\"type\":\"histogram2dcontour\"}],\"histogram2d\":[{\"colorbar\":{\"outlinewidth\":0,\"ticks\":\"\"},\"colorscale\":[[0.0,\"#0d0887\"],[0.1111111111111111,\"#46039f\"],[0.2222222222222222,\"#7201a8\"],[0.3333333333333333,\"#9c179e\"],[0.4444444444444444,\"#bd3786\"],[0.5555555555555556,\"#d8576b\"],[0.6666666666666666,\"#ed7953\"],[0.7777777777777778,\"#fb9f3a\"],[0.8888888888888888,\"#fdca26\"],[1.0,\"#f0f921\"]],\"type\":\"histogram2d\"}],\"histogram\":[{\"marker\":{\"pattern\":{\"fillmode\":\"overlay\",\"size\":10,\"solidity\":0.2}},\"type\":\"histogram\"}],\"mesh3d\":[{\"colorbar\":{\"outlinewidth\":0,\"ticks\":\"\"},\"type\":\"mesh3d\"}],\"parcoords\":[{\"line\":{\"colorbar\":{\"outlinewidth\":0,\"ticks\":\"\"}},\"type\":\"parcoords\"}],\"pie\":[{\"automargin\":true,\"type\":\"pie\"}],\"scatter3d\":[{\"line\":{\"colorbar\":{\"outlinewidth\":0,\"ticks\":\"\"}},\"marker\":{\"colorbar\":{\"outlinewidth\":0,\"ticks\":\"\"}},\"type\":\"scatter3d\"}],\"scattercarpet\":[{\"marker\":{\"colorbar\":{\"outlinewidth\":0,\"ticks\":\"\"}},\"type\":\"scattercarpet\"}],\"scattergeo\":[{\"marker\":{\"colorbar\":{\"outlinewidth\":0,\"ticks\":\"\"}},\"type\":\"scattergeo\"}],\"scattergl\":[{\"marker\":{\"colorbar\":{\"outlinewidth\":0,\"ticks\":\"\"}},\"type\":\"scattergl\"}],\"scattermapbox\":[{\"marker\":{\"colorbar\":{\"outlinewidth\":0,\"ticks\":\"\"}},\"type\":\"scattermapbox\"}],\"scatterpolargl\":[{\"marker\":{\"colorbar\":{\"outlinewidth\":0,\"ticks\":\"\"}},\"type\":\"scatterpolargl\"}],\"scatterpolar\":[{\"marker\":{\"colorbar\":{\"outlinewidth\":0,\"ticks\":\"\"}},\"type\":\"scatterpolar\"}],\"scatter\":[{\"fillpattern\":{\"fillmode\":\"overlay\",\"size\":10,\"solidity\":0.2},\"type\":\"scatter\"}],\"scatterternary\":[{\"marker\":{\"colorbar\":{\"outlinewidth\":0,\"ticks\":\"\"}},\"type\":\"scatterternary\"}],\"surface\":[{\"colorbar\":{\"outlinewidth\":0,\"ticks\":\"\"},\"colorscale\":[[0.0,\"#0d0887\"],[0.1111111111111111,\"#46039f\"],[0.2222222222222222,\"#7201a8\"],[0.3333333333333333,\"#9c179e\"],[0.4444444444444444,\"#bd3786\"],[0.5555555555555556,\"#d8576b\"],[0.6666666666666666,\"#ed7953\"],[0.7777777777777778,\"#fb9f3a\"],[0.8888888888888888,\"#fdca26\"],[1.0,\"#f0f921\"]],\"type\":\"surface\"}],\"table\":[{\"cells\":{\"fill\":{\"color\":\"#EBF0F8\"},\"line\":{\"color\":\"white\"}},\"header\":{\"fill\":{\"color\":\"#C8D4E3\"},\"line\":{\"color\":\"white\"}},\"type\":\"table\"}]},\"layout\":{\"annotationdefaults\":{\"arrowcolor\":\"#2a3f5f\",\"arrowhead\":0,\"arrowwidth\":1},\"autotypenumbers\":\"strict\",\"coloraxis\":{\"colorbar\":{\"outlinewidth\":0,\"ticks\":\"\"}},\"colorscale\":{\"diverging\":[[0,\"#8e0152\"],[0.1,\"#c51b7d\"],[0.2,\"#de77ae\"],[0.3,\"#f1b6da\"],[0.4,\"#fde0ef\"],[0.5,\"#f7f7f7\"],[0.6,\"#e6f5d0\"],[0.7,\"#b8e186\"],[0.8,\"#7fbc41\"],[0.9,\"#4d9221\"],[1,\"#276419\"]],\"sequential\":[[0.0,\"#0d0887\"],[0.1111111111111111,\"#46039f\"],[0.2222222222222222,\"#7201a8\"],[0.3333333333333333,\"#9c179e\"],[0.4444444444444444,\"#bd3786\"],[0.5555555555555556,\"#d8576b\"],[0.6666666666666666,\"#ed7953\"],[0.7777777777777778,\"#fb9f3a\"],[0.8888888888888888,\"#fdca26\"],[1.0,\"#f0f921\"]],\"sequentialminus\":[[0.0,\"#0d0887\"],[0.1111111111111111,\"#46039f\"],[0.2222222222222222,\"#7201a8\"],[0.3333333333333333,\"#9c179e\"],[0.4444444444444444,\"#bd3786\"],[0.5555555555555556,\"#d8576b\"],[0.6666666666666666,\"#ed7953\"],[0.7777777777777778,\"#fb9f3a\"],[0.8888888888888888,\"#fdca26\"],[1.0,\"#f0f921\"]]},\"colorway\":[\"#636EFA\",\"#00CC96\",\"#FFA15A\",\"#EF553B\",\"#AB63FA\",\"#19D3F3\",\"#FF6692\",\"#B6E880\",\"#FF97FF\",\"#FECB52\"],\"font\":{\"color\":\"#2a3f5f\"},\"geo\":{\"bgcolor\":\"white\",\"lakecolor\":\"white\",\"landcolor\":\"#E5ECF6\",\"showlakes\":true,\"showland\":true,\"subunitcolor\":\"white\"},\"hoverlabel\":{\"align\":\"left\"},\"hovermode\":\"closest\",\"mapbox\":{\"style\":\"light\"},\"paper_bgcolor\":\"white\",\"plot_bgcolor\":\"#E5ECF6\",\"polar\":{\"angularaxis\":{\"gridcolor\":\"white\",\"linecolor\":\"white\",\"ticks\":\"\"},\"bgcolor\":\"#E5ECF6\",\"radialaxis\":{\"gridcolor\":\"white\",\"linecolor\":\"white\",\"ticks\":\"\"}},\"scene\":{\"xaxis\":{\"backgroundcolor\":\"#E5ECF6\",\"gridcolor\":\"white\",\"gridwidth\":2,\"linecolor\":\"white\",\"showbackground\":true,\"ticks\":\"\",\"zerolinecolor\":\"white\"},\"yaxis\":{\"backgroundcolor\":\"#E5ECF6\",\"gridcolor\":\"white\",\"gridwidth\":2,\"linecolor\":\"white\",\"showbackground\":true,\"ticks\":\"\",\"zerolinecolor\":\"white\"},\"zaxis\":{\"backgroundcolor\":\"#E5ECF6\",\"gridcolor\":\"white\",\"gridwidth\":2,\"linecolor\":\"white\",\"showbackground\":true,\"ticks\":\"\",\"zerolinecolor\":\"white\"}},\"shapedefaults\":{\"line\":{\"color\":\"#2a3f5f\"}},\"ternary\":{\"aaxis\":{\"gridcolor\":\"white\",\"linecolor\":\"white\",\"ticks\":\"\"},\"baxis\":{\"gridcolor\":\"white\",\"linecolor\":\"white\",\"ticks\":\"\"},\"bgcolor\":\"#E5ECF6\",\"caxis\":{\"gridcolor\":\"white\",\"linecolor\":\"white\",\"ticks\":\"\"}},\"title\":{\"x\":0.05},\"xaxis\":{\"automargin\":true,\"gridcolor\":\"white\",\"linecolor\":\"white\",\"ticks\":\"\",\"title\":{\"standoff\":15},\"zerolinecolor\":\"white\",\"zerolinewidth\":2},\"yaxis\":{\"automargin\":true,\"gridcolor\":\"white\",\"linecolor\":\"white\",\"ticks\":\"\",\"title\":{\"standoff\":15},\"zerolinecolor\":\"white\",\"zerolinewidth\":2},\"margin\":{\"b\":10,\"l\":10,\"r\":10,\"t\":40}}},\"barmode\":\"overlay\",\"height\":400},                        {\"responsive\": true}                    ).then(function(){\n",
       "                            \n",
       "var gd = document.getElementById('5127df2c-f1b9-4dbb-bcc4-791786b1ba70');\n",
       "var x = new MutationObserver(function (mutations, observer) {{\n",
       "        var display = window.getComputedStyle(gd).display;\n",
       "        if (!display || display === 'none') {{\n",
       "            console.log([gd, 'removed!']);\n",
       "            Plotly.purge(gd);\n",
       "            observer.disconnect();\n",
       "        }}\n",
       "}});\n",
       "\n",
       "// Listen for the removal of the full notebook cells\n",
       "var notebookContainer = gd.closest('#notebook-container');\n",
       "if (notebookContainer) {{\n",
       "    x.observe(notebookContainer, {childList: true});\n",
       "}}\n",
       "\n",
       "// Listen for the clearing of the current output cell\n",
       "var outputEl = gd.closest('.output');\n",
       "if (outputEl) {{\n",
       "    x.observe(outputEl, {childList: true});\n",
       "}}\n",
       "\n",
       "                        })                };                });            </script>        </div>"
      ]
     }
    }
   ],
   "source": [
    "def human_spread(group):\n",
    "    # Drop NaN or None values in voted_for\n",
    "    votes = group['voted_for'].dropna()\n",
    "    # Count the votes\n",
    "    vote_counts = votes.value_counts()\n",
    "    if len(vote_counts) == 0:\n",
    "        return 0\n",
    "    # Get most voted for person / total votes\n",
    "    return vote_counts.iloc[0] / len(group)\n",
    "hum_vote_spread = hum_rounds_df.groupby(\"game_id\").apply(human_spread).reset_index()[0]\n",
    "\n",
    "llm_vote_spread = []\n",
    "for vote in llm_votes:\n",
    "    llm_vote_spread.append(Counter(vote.values()).most_common(1)[0][1] / len(vote))\n",
    "\n",
    "\n",
    "fig = go.Figure(\n",
    "    data=[\n",
    "        go.Histogram(name='Human Voter Spread', x=hum_vote_spread, opacity=0.75, yaxis='y', offsetgroup=1),\n",
    "        go.Histogram(name='LLM Voter Spread', x=llm_vote_spread, opacity=0.75, yaxis='y2', offsetgroup=2),\n",
    "    ],\n",
    "    layout=dict(\n",
    "        title=\"Spread of Votes\",\n",
    "        xaxis=dict(title=\"Ratio That Voted for Top Choice\"),\n",
    "        yaxis={\"title\": \"Human Count\"},\n",
    "        yaxis2={'overlaying': 'y', 'side': 'right', \"title\": \"LLM Count\"},\n",
    "    )\n",
    ")\n",
    "# Change the bar mode\n",
    "fig.update_layout(barmode='overlay', height=400)\n",
    "fig.show()"
   ],
   "id": "6a7f7dae-4718-404c-adff-be2164ddd3d5"
  },
  {
   "cell_type": "code",
   "execution_count": 17,
   "metadata": {
    "quarto-private-1": {
     "key": "execution",
     "value": {
      "iopub.execute_input": "2025-05-01T17:53:19.300791Z",
      "iopub.status.busy": "2025-05-01T17:53:19.300314Z",
      "iopub.status.idle": "2025-05-01T17:53:19.314562Z",
      "shell.execute_reply": "2025-05-01T17:53:19.313372Z",
      "shell.execute_reply.started": "2025-05-01T17:53:19.300759Z"
     }
    }
   },
   "outputs": [
    {
     "output_type": "display_data",
     "metadata": {},
     "data": {
      "text/plain": [
       "0        I don't know why this is necessary considering...\n",
       "1                                         I am a Villager.\n",
       "2                                            Like, I mean-\n",
       "3                                            But, I-I-I-I-\n",
       "4        Continue. Well, I guess we don't really need t...\n",
       "                               ...                        \n",
       "21067                                            We could.\n",
       "21068                                               Justin\n",
       "21069                    It's just Justin, Justin, Justin.\n",
       "21070                                      Just inception.\n",
       "21071                            So we're voting Mitchell?\n",
       "Name: text, Length: 21072, dtype: object"
      ]
     }
    }
   ],
   "source": [
    "hum_text_df[\"text\"]"
   ],
   "id": "bc78e77d-ec78-418f-90d2-24f4dbab7792"
  },
  {
   "cell_type": "code",
   "execution_count": 18,
   "metadata": {
    "quarto-private-1": {
     "key": "execution",
     "value": {
      "iopub.execute_input": "2025-05-01T17:53:19.316323Z",
      "iopub.status.busy": "2025-05-01T17:53:19.315793Z",
      "iopub.status.idle": "2025-05-01T17:53:19.324378Z",
      "shell.execute_reply": "2025-05-01T17:53:19.323164Z",
      "shell.execute_reply.started": "2025-05-01T17:53:19.316287Z"
     }
    }
   },
   "outputs": [
    {
     "output_type": "display_data",
     "metadata": {},
     "data": {
      "text/plain": [
       "0      Alright everyone, it's unfortunate that we've ...\n",
       "1      Thanks, Will. It's indeed a tough start losing...\n",
       "2      Thanks, Hayley. I agree with you and Will that...\n",
       "3      Jacob, I appreciate you pointing out that I wa...\n",
       "4      Thanks for addressing that, Jackson. I complet...\n",
       "                             ...                        \n",
       "250    Hayley, your accusations are unfounded and ser...\n",
       "251    Harold, your insistence on labeling me as the ...\n",
       "252    Hayley, your tactics of distraction are transp...\n",
       "253    I want to echo what Harold has shared with us:...\n",
       "254    I appreciate the spirited debate, but it's cru...\n",
       "Name: text, Length: 255, dtype: object"
      ]
     }
    }
   ],
   "source": [
    "llm_text_df[\"text\"]"
   ],
   "id": "8521acdd-0902-4b72-a4d4-52a884b51584"
  },
  {
   "cell_type": "markdown",
   "metadata": {},
   "source": [
    "Bailis, Suma, Jane Friedhoff, and Feiyang Chen. 2024. “Werewolf Arena: A Case Study in LLM Evaluation via Social Deduction.” July 18, 2024. <https://doi.org/10.48550/arXiv.2407.13943>.\n",
    "\n",
    "Chi, Yizhou, Lingjun Mao, and Zineng Tang. 2024. “AMONGAGENTS: Evaluating Large Language Models in the Interactive Text-Based Social Deduction Game.” July 24, 2024. <https://doi.org/10.48550/arXiv.2407.16521>.\n",
    "\n",
    "Cho, Young-Min, Raphael Shu, Nilaksh Das, Tamer Alkhouli, Yi-An Lai, Jason Cai, Monica Sunkara, and Yi Zhang. 2024. “RoundTable: Investigating Group Decision-Making Mechanism in Multi-Agent Collaboration.” November 11, 2024. <https://doi.org/10.48550/arXiv.2411.07161>.\n",
    "\n",
    "Du, Yinuo, Prashanth Rajivan, and Cleotilde Gonzalez. 2024. “Large Language Models for Collective Problem-Solving: Insights into Group Consensus Decision-Making.” *Proceedings of the Annual Meeting of the Cognitive Science Society* 46 (0). <https://escholarship.org/uc/item/6s060914>.\n",
    "\n",
    "Lai, Bolin, Hongxin Zhang, Miao Liu, Aryan Pariani, Fiona Ryan, Wenqi Jia, Shirley Anugrah Hayati, James M. Rehg, and Diyi Yang. 2022. “Werewolf Among Us: A Multimodal Dataset for Modeling Persuasion Behaviors in Social Deduction Games.” December 16, 2022. <https://doi.org/10.48550/arXiv.2212.08279>.\n",
    "\n",
    "Piatti, Giorgio, Zhijing Jin, Max Kleiman-Weiner, Bernhard Schölkopf, Mrinmaya Sachan, and Rada Mihalcea. 2024. “Cooperate or Collapse: Emergence of Sustainable Cooperation in a Society of LLM Agents.” *Advances in Neural Information Processing Systems* 37 (December): 111715–59. <https://proceedings.neurips.cc/paper_files/paper/2024/hash/ca9567d8ef6b2ea2da0d7eed57b933ee-Abstract-Conference.html>.\n",
    "\n",
    "Wikipedia contributors. 2024. “Mafia (Party Game).” <https://en.wikipedia.org/wiki/Mafia_(party_game)>.\n",
    "\n",
    "Xu, Zelai, Chao Yu, Fei Fang, Yu Wang, and Yi Wu. 2024. “Language Agents with Reinforcement Learning for Strategic Play in the Werewolf Game.” February 20, 2024. <https://doi.org/10.48550/arXiv.2310.18940>."
   ],
   "id": "2c5e84a0-29b7-41cf-8e69-17178ddd1463"
  }
 ],
 "nbformat": 4,
 "nbformat_minor": 5,
 "metadata": {}
}
